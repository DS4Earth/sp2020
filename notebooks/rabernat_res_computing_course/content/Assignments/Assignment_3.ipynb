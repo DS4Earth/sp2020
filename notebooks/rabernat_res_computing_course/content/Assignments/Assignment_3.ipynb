{
 "cells": [
  {
   "cell_type": "markdown",
   "metadata": {},
   "source": [
    "# Homework: Introduction to Python \n",
    "\n",
    "**Due: Thursday, Sept. 21**\n",
    "\n",
    "Your assignment should be handed in an ipython notebook checked into your github repository. To download this assignment, your best option is to clone the original [github repository](https://github.com/rabernat/research_computing) for the course website:\n",
    "\n",
    "    git clone https://github.com/rabernat/research_computing.git\n",
    "\n",
    "You will find the assignment in `content/Assignments/` directory, along with the two data files.\n",
    "\n",
    "If you really don't want to clone the repo, you can [download it directly](https://github.com/rabernat/research_computing/raw/master/content/Assignments/Assignment_3.ipynb). You will also need to download the two [data](https://github.com/rabernat/research_computing/blob/master/content/Assignments/class_names.pkl) [files](https://github.com/rabernat/research_computing/blob/master/content/Assignments/numbers.pkl).\n",
    "\n",
    "## Optional But Recommended Reading\n",
    "\n",
    "Read the official [Python Tutorial](https://docs.python.org/3/tutorial/index.html) sections 1-5. This excellent, well written tutorial introduces all of the most important concepts of the core python language and its standard library. Even if you don't read it, you should know where to find it; if you get stuck, it should be your first place to turn for help.\n",
    "\n",
    "## Constraints\n",
    "\n",
    "* This assignment should be done in _basic python_: don't `import` any extra modules unless specifically instructed to do so.\n",
    "* You should work on this assignment _alone_. \n",
    "* Try to do the problems yourself. Refer to the lecture notes and the [Python Tutorial](https://docs.python.org/3/tutorial/index.html) if you get stuck. Avoid random googling and stack-overflowing. A perfect solution is less important than the process of figuring it out yourself.\n",
    "\n"
   ]
  },
  {
   "cell_type": "markdown",
   "metadata": {},
   "source": [
    "## 1. Dictionaries and Strings"
   ]
  },
  {
   "cell_type": "markdown",
   "metadata": {},
   "source": [
    "In this section we will explore a [dictionary](https://docs.python.org/3/tutorial/datastructures.html#dictionaries) whose keys and values are [strings](https://docs.python.org/3/tutorial/introduction.html#strings). \n",
    "\n",
    "Cut and paste the following code to read a data file. (You are not expected to understand exactly what is happening here...it's just a quick way for us to get some data into python.)\n",
    "\n",
    "    import pickle\n",
    "    with open('class_names.pkl', 'rb') as file:\n",
    "        data = pickle.load(file)\n",
    "\n",
    "This will load some pre-generated data into the variable `data`. "
   ]
  },
  {
   "cell_type": "code",
   "execution_count": null,
   "metadata": {
    "collapsed": true
   },
   "outputs": [],
   "source": []
  },
  {
   "cell_type": "markdown",
   "metadata": {},
   "source": [
    "### 1.1 Examine the data by allowing the notebook to print it\n",
    "(Just enter `data` on the last line of the cell and execute it.)"
   ]
  },
  {
   "cell_type": "code",
   "execution_count": null,
   "metadata": {
    "collapsed": true
   },
   "outputs": [],
   "source": []
  },
  {
   "cell_type": "markdown",
   "metadata": {},
   "source": [
    "## 1.2 Comare to the output of `print(data)`\n",
    "Which one is prettier?"
   ]
  },
  {
   "cell_type": "code",
   "execution_count": null,
   "metadata": {
    "collapsed": true
   },
   "outputs": [],
   "source": []
  },
  {
   "cell_type": "markdown",
   "metadata": {},
   "source": [
    "### 1.3 Determine what type of object is `data`"
   ]
  },
  {
   "cell_type": "code",
   "execution_count": null,
   "metadata": {
    "collapsed": true
   },
   "outputs": [],
   "source": []
  },
  {
   "cell_type": "markdown",
   "metadata": {},
   "source": [
    "### 1.4 Use python's built-in `help` function to find out what operations are available on `data`\n",
    "(What is the meaning of the methods that start with \\__?)"
   ]
  },
  {
   "cell_type": "code",
   "execution_count": null,
   "metadata": {
    "collapsed": true,
    "scrolled": false
   },
   "outputs": [],
   "source": []
  },
  {
   "cell_type": "markdown",
   "metadata": {},
   "source": [
    "By now it should be clear that `data` is a [dict](https://docs.python.org/3/library/stdtypes.html#mapping-types-dict)  (i.e. \"dictionary\") that maps UNIs to names for all students in the class.\n",
    "\n",
    "For the remaining questions, the point is to _have python tell you the answer_. (Obviously you could just manually count / sort the data, but that defeats the purpose!)\n",
    "\n",
    "### 1.5 How many entries are there in `data`"
   ]
  },
  {
   "cell_type": "code",
   "execution_count": null,
   "metadata": {
    "collapsed": true
   },
   "outputs": [],
   "source": []
  },
  {
   "cell_type": "markdown",
   "metadata": {},
   "source": [
    "### 1.6 Is your UNI in `data`?"
   ]
  },
  {
   "cell_type": "code",
   "execution_count": null,
   "metadata": {
    "collapsed": true
   },
   "outputs": [],
   "source": []
  },
  {
   "cell_type": "markdown",
   "metadata": {},
   "source": [
    "### 1.7 How many total times does the character \"s\" appear in the names?\n",
    "Do this in a way that is not case sensitive,"
   ]
  },
  {
   "cell_type": "code",
   "execution_count": null,
   "metadata": {
    "collapsed": true
   },
   "outputs": [],
   "source": []
  },
  {
   "cell_type": "markdown",
   "metadata": {},
   "source": [
    "### 1.7 Create a new dictionary that contains the same keys but only the first names as values"
   ]
  },
  {
   "cell_type": "code",
   "execution_count": null,
   "metadata": {
    "collapsed": true
   },
   "outputs": [],
   "source": []
  },
  {
   "cell_type": "markdown",
   "metadata": {},
   "source": [
    "### 1.8 What is the longest first name?"
   ]
  },
  {
   "cell_type": "code",
   "execution_count": null,
   "metadata": {
    "collapsed": true
   },
   "outputs": [],
   "source": []
  },
  {
   "cell_type": "markdown",
   "metadata": {},
   "source": [
    "### 1.9 Check that the first letter of each UNI matches the first letter of each first name\n",
    "(Be careful about the case.)"
   ]
  },
  {
   "cell_type": "code",
   "execution_count": null,
   "metadata": {
    "collapsed": true
   },
   "outputs": [],
   "source": []
  },
  {
   "cell_type": "markdown",
   "metadata": {},
   "source": [
    "## 2 Lists and Numbers\n",
    "\n",
    "In this section, we will play with a [list](https://docs.python.org/3/tutorial/introduction.html#lists) of [numbers](https://docs.python.org/3/tutorial/introduction.html#numbers).\n",
    "\n",
    "Keep in mind that doing lots of numerical calculations on lists of numbers (using just core python) is somewhat awkward and inefficient. [Numpy](http://www.numpy.org/) makes this sort of work much easier; in order to appreciate numpy, however, it is useful to first do things the \"hard way\".\n",
    "\n",
    "Run this chunk of code to load some data.\n",
    "\n",
    "    with open('numbers.pkl', 'rb') as file:\n",
    "        numbers = pickle.load(file)"
   ]
  },
  {
   "cell_type": "code",
   "execution_count": null,
   "metadata": {
    "collapsed": true
   },
   "outputs": [],
   "source": []
  },
  {
   "cell_type": "markdown",
   "metadata": {},
   "source": [
    "### 2.1 Confirm that `numbers` is indeed a list"
   ]
  },
  {
   "cell_type": "code",
   "execution_count": null,
   "metadata": {
    "collapsed": true
   },
   "outputs": [],
   "source": []
  },
  {
   "cell_type": "markdown",
   "metadata": {},
   "source": [
    "### 2.2 How many items are in `numbers`?"
   ]
  },
  {
   "cell_type": "code",
   "execution_count": null,
   "metadata": {
    "collapsed": true
   },
   "outputs": [],
   "source": []
  },
  {
   "cell_type": "markdown",
   "metadata": {},
   "source": [
    "### 2.3 What is the difference between the first and last values?"
   ]
  },
  {
   "cell_type": "code",
   "execution_count": null,
   "metadata": {
    "collapsed": true
   },
   "outputs": [],
   "source": []
  },
  {
   "cell_type": "markdown",
   "metadata": {},
   "source": [
    "### 2.4 What are thre first five and last five items?"
   ]
  },
  {
   "cell_type": "code",
   "execution_count": null,
   "metadata": {
    "collapsed": true
   },
   "outputs": [],
   "source": []
  },
  {
   "cell_type": "markdown",
   "metadata": {},
   "source": [
    "### 2.5 What is the type of the first item? Confirm that all items have the same type."
   ]
  },
  {
   "cell_type": "code",
   "execution_count": null,
   "metadata": {
    "collapsed": true
   },
   "outputs": [],
   "source": []
  },
  {
   "cell_type": "markdown",
   "metadata": {},
   "source": [
    "### 2.6 What are the minimum and maximum values in `numbers`?"
   ]
  },
  {
   "cell_type": "code",
   "execution_count": null,
   "metadata": {
    "collapsed": true
   },
   "outputs": [],
   "source": []
  },
  {
   "cell_type": "markdown",
   "metadata": {},
   "source": [
    "### 2.7 What is the mean value?"
   ]
  },
  {
   "cell_type": "code",
   "execution_count": null,
   "metadata": {
    "collapsed": true
   },
   "outputs": [],
   "source": []
  },
  {
   "cell_type": "markdown",
   "metadata": {},
   "source": [
    "### 2.8 What is the standard deviation?"
   ]
  },
  {
   "cell_type": "code",
   "execution_count": null,
   "metadata": {
    "collapsed": true
   },
   "outputs": [],
   "source": []
  },
  {
   "cell_type": "markdown",
   "metadata": {},
   "source": [
    "### 2.9 What is the largest (most positive) and smallest (most negative)  _change_ from one value to the next"
   ]
  },
  {
   "cell_type": "code",
   "execution_count": null,
   "metadata": {
    "collapsed": true
   },
   "outputs": [],
   "source": []
  },
  {
   "cell_type": "markdown",
   "metadata": {},
   "source": [
    "### Bonus: can you guess the source of these numbers?"
   ]
  },
  {
   "cell_type": "code",
   "execution_count": null,
   "metadata": {
    "collapsed": true
   },
   "outputs": [],
   "source": []
  },
  {
   "cell_type": "markdown",
   "metadata": {},
   "source": [
    "## 3 Lists vs. Tuples\n",
    "\n",
    "The difference between [lists](https://docs.python.org/3/tutorial/datastructures.html#more-on-lists) and [tuples](https://docs.python.org/3/tutorial/datastructures.html#tuples-and-sequences) is a persistent source of confusion about python. The key difference is that **lists are mutable** while **tuples are immutable**. This short exercise is designed to help you understand what this means."
   ]
  },
  {
   "cell_type": "markdown",
   "metadata": {},
   "source": [
    "### 3.1 Create a list of the first three planets in the solar system"
   ]
  },
  {
   "cell_type": "code",
   "execution_count": null,
   "metadata": {
    "collapsed": true
   },
   "outputs": [],
   "source": []
  },
  {
   "cell_type": "markdown",
   "metadata": {
    "collapsed": true
   },
   "source": [
    "### 3.2 Append the fourth planet to the end of the list\n",
    "(Print the list so you can verify its contents after every modification)"
   ]
  },
  {
   "cell_type": "code",
   "execution_count": null,
   "metadata": {
    "collapsed": true
   },
   "outputs": [],
   "source": []
  },
  {
   "cell_type": "markdown",
   "metadata": {},
   "source": [
    "### 3.3 Venus has exploded. Remove it from the list"
   ]
  },
  {
   "cell_type": "code",
   "execution_count": null,
   "metadata": {
    "collapsed": true
   },
   "outputs": [],
   "source": []
  },
  {
   "cell_type": "markdown",
   "metadata": {},
   "source": [
    "### 3.4 Convert the last item of your list to upper case"
   ]
  },
  {
   "cell_type": "code",
   "execution_count": null,
   "metadata": {
    "collapsed": true
   },
   "outputs": [],
   "source": []
  },
  {
   "cell_type": "markdown",
   "metadata": {},
   "source": [
    "### 3.5 Create a tuple of the first three planets in the solar system"
   ]
  },
  {
   "cell_type": "code",
   "execution_count": null,
   "metadata": {
    "collapsed": true
   },
   "outputs": [],
   "source": []
  },
  {
   "cell_type": "markdown",
   "metadata": {},
   "source": [
    "### 3.6 Try to append or remove items from the tuple\n",
    "Go ahead, try it! I dare you!"
   ]
  },
  {
   "cell_type": "code",
   "execution_count": null,
   "metadata": {
    "collapsed": true
   },
   "outputs": [],
   "source": []
  },
  {
   "cell_type": "markdown",
   "metadata": {},
   "source": [
    "### 3.7 Create a new tuple by concatenating a second tuple to your original tuple\n",
    "(No loops needed). It should work. Check your original tuple. Did it change?"
   ]
  },
  {
   "cell_type": "code",
   "execution_count": null,
   "metadata": {
    "collapsed": true
   },
   "outputs": [],
   "source": []
  },
  {
   "cell_type": "markdown",
   "metadata": {},
   "source": [
    "## 4 Standard Library: `datetime`\n",
    "\n",
    "Basic python comes with a powerful [\"standard library\"](https://docs.python.org/3/tutorial/stdlib.html) of modules which help you do useful things like interact with the operating system, perform complex pattern matching on strings using regular expressions, and open network connections. This standard library is too big for us to learn every module: the point here is just to be aware that it exists.\n",
    "\n",
    "In this exercise we will also explore a simple but powerful module from python's standard library: the [`datetime` module](https://docs.python.org/3/tutorial/stdlib.html#dates-and-times)."
   ]
  },
  {
   "cell_type": "markdown",
   "metadata": {},
   "source": [
    "### 4.1 Import the datetime module"
   ]
  },
  {
   "cell_type": "code",
   "execution_count": null,
   "metadata": {
    "collapsed": true
   },
   "outputs": [],
   "source": []
  },
  {
   "cell_type": "markdown",
   "metadata": {},
   "source": [
    "### 4.2 Read the built-in help on `datetime.date` and `datetime.timedelta`\n",
    "\n",
    "These are the two functions we will be using from the `datetime` module."
   ]
  },
  {
   "cell_type": "code",
   "execution_count": null,
   "metadata": {
    "collapsed": true
   },
   "outputs": [],
   "source": []
  },
  {
   "cell_type": "code",
   "execution_count": null,
   "metadata": {
    "collapsed": true
   },
   "outputs": [],
   "source": []
  },
  {
   "cell_type": "markdown",
   "metadata": {},
   "source": [
    "### 4.3 Create a `datetime.date` object for your birthday"
   ]
  },
  {
   "cell_type": "code",
   "execution_count": null,
   "metadata": {
    "collapsed": true
   },
   "outputs": [],
   "source": []
  },
  {
   "cell_type": "markdown",
   "metadata": {},
   "source": [
    "### 4.4 What day of the week was your birthday on?"
   ]
  },
  {
   "cell_type": "code",
   "execution_count": null,
   "metadata": {
    "collapsed": true
   },
   "outputs": [],
   "source": []
  },
  {
   "cell_type": "markdown",
   "metadata": {
    "collapsed": true
   },
   "source": [
    "### 4.5 Find out how many days have elapsed since your birthday?"
   ]
  },
  {
   "cell_type": "code",
   "execution_count": null,
   "metadata": {
    "collapsed": true
   },
   "outputs": [],
   "source": []
  },
  {
   "cell_type": "markdown",
   "metadata": {},
   "source": [
    "## 5 Functions\n",
    "\n",
    "Learning to write our own [functions](https://docs.python.org/3/tutorial/controlflow.html#defining-functions) is an important step towards writing more sophisticated programs. Here will will practice writing functions. "
   ]
  },
  {
   "cell_type": "markdown",
   "metadata": {},
   "source": [
    "As an example, we will consider the [harmonic series](https://en.wikipedia.org/wiki/Harmonic_series_%28mathematics%29), defined as\n",
    "\n",
    "$$\n",
    "\\sum^N_{n=1}\\frac{1}{n} \n",
    "$$\n",
    "\n",
    "This series diverges logarithmically.\n",
    "\n",
    "### 5.1 Write a function to compute the value of the harmonic series up to `N` terms\n",
    "\n",
    "The function shold have one argument: `N`. It should `return` the series sum."
   ]
  },
  {
   "cell_type": "code",
   "execution_count": null,
   "metadata": {
    "collapsed": true
   },
   "outputs": [],
   "source": []
  },
  {
   "cell_type": "markdown",
   "metadata": {},
   "source": [
    "### 5.2 What is the value of the harmonic series after 1000 and 1000000 iterations"
   ]
  },
  {
   "cell_type": "code",
   "execution_count": null,
   "metadata": {
    "collapsed": true
   },
   "outputs": [],
   "source": []
  },
  {
   "cell_type": "markdown",
   "metadata": {},
   "source": [
    "The alternating harmonic series:\n",
    "    \n",
    "$$\n",
    "\\sum^N_{n=1}\\frac{(-1)^{n+1}}{n} \n",
    "$$\n",
    "\n",
    "_does_ converge.\n",
    "\n",
    "### 5.3 Write a function to compute the value of the alternating  harmonic series up to `N` terms"
   ]
  },
  {
   "cell_type": "code",
   "execution_count": null,
   "metadata": {
    "collapsed": true
   },
   "outputs": [],
   "source": []
  },
  {
   "cell_type": "markdown",
   "metadata": {},
   "source": [
    "### 5.2 What is the value of the alternating harmonic series after 1000 and 1000000 iterations"
   ]
  },
  {
   "cell_type": "code",
   "execution_count": null,
   "metadata": {
    "collapsed": true
   },
   "outputs": [],
   "source": []
  },
  {
   "cell_type": "markdown",
   "metadata": {},
   "source": [
    "### 5.3 Numerical convergence test\n",
    "\n",
    "Now for something more complicated: we will write a function that tests whether another function converges. As its first argument, this function should accept _another function_. It should also have _optional keyword arguments_ that specify\n",
    "\n",
    "* the numerical tolerance (how close is close enough to consider a series converged?)\n",
    "* the number of iterations (we can't iterate an infinite number of times, we just have to pick a \"large number\")\n",
    "\n",
    "This function should print a statement telling what it found. If the test function converges, print the value it converges to.\n",
    "\n",
    "_(Hint: the alernating harmonic series oscillates strongly around the asymptotic value. So checking neighboring points may not be the best way to test for convergence. Can you think of a more robust method?)_"
   ]
  },
  {
   "cell_type": "code",
   "execution_count": null,
   "metadata": {
    "collapsed": true
   },
   "outputs": [],
   "source": []
  },
  {
   "cell_type": "markdown",
   "metadata": {},
   "source": [
    "### 5.3 Use your convergence test function see that the harmonic series diverges and the alternating harmonic series converges?\n",
    "\n",
    "Explore the sensitivity to the two optional parameters. What are the tradeoffs between tolerance and number of iterations?"
   ]
  },
  {
   "cell_type": "code",
   "execution_count": null,
   "metadata": {
    "collapsed": true
   },
   "outputs": [],
   "source": []
  }
 ],
 "metadata": {
  "kernelspec": {
   "display_name": "Python 3",
   "language": "python",
   "name": "python3"
  },
  "language_info": {
   "codemirror_mode": {
    "name": "ipython",
    "version": 3
   },
   "file_extension": ".py",
   "mimetype": "text/x-python",
   "name": "python",
   "nbconvert_exporter": "python",
   "pygments_lexer": "ipython3",
   "version": "3.6.2"
  }
 },
 "nbformat": 4,
 "nbformat_minor": 2
}
