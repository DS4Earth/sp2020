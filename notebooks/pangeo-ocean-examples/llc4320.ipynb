{
 "cells": [
  {
   "cell_type": "markdown",
   "metadata": {},
   "source": [
    "# LLC4320 Examples"
   ]
  },
  {
   "cell_type": "code",
   "execution_count": null,
   "metadata": {},
   "outputs": [],
   "source": [
    "import xarray as xr\n",
    "import intake\n",
    "import numpy as np\n",
    "%matplotlib inline\n",
    "import holoviews as hv\n",
    "from holoviews.operation.datashader import regrid\n",
    "from xmitgcm import llcreader\n",
    "hv.extension('bokeh')"
   ]
  },
  {
   "cell_type": "markdown",
   "metadata": {},
   "source": [
    "### Load Data\n",
    "\n",
    "Data is stored in [zarr](http://zarr.readthedocs.io) format on Google Cloud Storage.\n",
    "This format is optimized for fast parallel access in the cloud."
   ]
  },
  {
   "cell_type": "code",
   "execution_count": null,
   "metadata": {},
   "outputs": [],
   "source": [
    "cat_url = \"https://raw.githubusercontent.com/pangeo-data/pangeo-datastore/master/intake-catalogs/ocean/llc4320.yaml\"\n",
    "cat = intake.Catalog(cat_url)\n",
    "sst = cat.LLC4320_SST.to_dask()\n",
    "u = cat.LLC4320_SSU.to_dask()\n",
    "v =  cat.LLC4320_SSV.to_dask()"
   ]
  },
  {
   "cell_type": "markdown",
   "metadata": {},
   "source": [
    "We merge the variables and convert from the 13-face LLC layout to a regular rectangular grid (excluding the arctic)."
   ]
  },
  {
   "cell_type": "code",
   "execution_count": null,
   "metadata": {},
   "outputs": [],
   "source": [
    "ds = xr.merge([sst, u, v])\n",
    "ds = llcreader.llcmodel.faces_dataset_to_latlon(ds, metric_vector_pairs=[])\n",
    "ds"
   ]
  },
  {
   "cell_type": "code",
   "execution_count": null,
   "metadata": {},
   "outputs": [],
   "source": [
    "coords = cat.LLC4320_grid.to_dask().reset_coords()\n",
    "coords = llcreader.llcmodel.faces_dataset_to_latlon(coords)\n",
    "coords"
   ]
  },
  {
   "cell_type": "code",
   "execution_count": null,
   "metadata": {},
   "outputs": [],
   "source": [
    "print(f'Dataset Total Size: {ds.nbytes / 1e12:3.1f} TB')"
   ]
  },
  {
   "cell_type": "markdown",
   "metadata": {},
   "source": [
    "This is a huge dataset, and that's only one level out of 90!"
   ]
  },
  {
   "cell_type": "markdown",
   "metadata": {},
   "source": [
    "### Launch Dask Cluster\n",
    "\n",
    "This allows us to parallelize calculations across cloud computing nodes."
   ]
  },
  {
   "cell_type": "code",
   "execution_count": null,
   "metadata": {},
   "outputs": [],
   "source": [
    "from dask_kubernetes import KubeCluster\n",
    "from dask.distributed import Client\n",
    "cluster = KubeCluster()\n",
    "cluster.adapt(minimum=1, maximum=20)\n",
    "client = Client(cluster)\n",
    "cluster"
   ]
  },
  {
   "cell_type": "markdown",
   "metadata": {},
   "source": [
    "### Sea Surface Temperature\n",
    "\n",
    "An interactive visualization."
   ]
  },
  {
   "cell_type": "code",
   "execution_count": null,
   "metadata": {},
   "outputs": [],
   "source": [
    "ocean_mask = coords.hFacC.reset_coords(drop=True)>0\n",
    "sst = (ds.SST.where(ocean_mask).rename('SST'))\n",
    "hv_image = hv.Dataset(sst).to(hv.Image, kdims=['i', 'j'], dynamic=True)\n",
    "\n",
    "%output holomap='scrubber' fps=1\n",
    "%opts Image [width=900 height=500 colorbar=True bgcolor='gray'] (cmap='RdBu_r')\n",
    "regrid(hv_image, precompute=True)"
   ]
  },
  {
   "cell_type": "markdown",
   "metadata": {},
   "source": [
    "### Use XGCM to Perform Calculus\n",
    "\n",
    "[XGCM](https://xgcm.readthedocs.io/en/latest/) is a python packge for working with the datasets produced by numerical General Circulation Models (GCMs) and similar gridded datasets that are amenable to finite volume analysis. In these datasets, different variables are located at different positions with respect to a volume or area element (e.g. cell center, cell face, etc.) xgcm solves the problem of how to interpolate and difference these variables from one position to another."
   ]
  },
  {
   "cell_type": "code",
   "execution_count": null,
   "metadata": {},
   "outputs": [],
   "source": [
    "import xgcm\n",
    "grid = xgcm.Grid(coords.drop(['k', 'k_p1']), periodic=['X'])\n",
    "grid"
   ]
  },
  {
   "cell_type": "markdown",
   "metadata": {},
   "source": [
    "### Vorticity\n",
    "\n",
    "An interactive map of relative vorticity."
   ]
  },
  {
   "cell_type": "code",
   "execution_count": null,
   "metadata": {},
   "outputs": [],
   "source": [
    "zeta = (-grid.diff(ds.U * coords.dxC, 'Y', boundary='extend')\n",
    "        +grid.diff(ds.V * coords.dyC, 'X', boundary='extend'))/coords.rAz\n",
    "zeta"
   ]
  },
  {
   "cell_type": "code",
   "execution_count": null,
   "metadata": {},
   "outputs": [],
   "source": [
    "vort_image = hv.Dataset(zeta.rename('vort')).to(hv.Image, kdims=['i_g', 'j_g'], dynamic=True)\n",
    "\n",
    "%output holomap='scrubber' fps=0.25\n",
    "%opts Image [width=900 height=500 colorbar=True bgcolor='gray' logz=False] (cmap='RdBu_r')\n",
    "regrid(vort_image, precompute=True).redim.range(vort=(-1e-4, 1e-4))"
   ]
  },
  {
   "cell_type": "markdown",
   "metadata": {},
   "source": [
    "### Kinetic Energy"
   ]
  },
  {
   "cell_type": "code",
   "execution_count": null,
   "metadata": {},
   "outputs": [],
   "source": [
    "eke = 0.5 * ( grid.interp(ds.U, 'X', boundary='fill')**2 +\n",
    "              grid.interp(ds.V, 'Y', boundary='fill')**2\n",
    "            ).where(ocean_mask).rename('EKE')\n",
    "eke"
   ]
  },
  {
   "cell_type": "code",
   "execution_count": null,
   "metadata": {},
   "outputs": [],
   "source": [
    "eke_image = hv.Dataset(np.log10(eke)).to(hv.Image, kdims=['i', 'j'], dynamic=True)\n",
    "\n",
    "%output holomap='scrubber' fps=0.25\n",
    "%opts Image [width=900 height=500 colorbar=True bgcolor='gray' logz=False] (cmap='magma')\n",
    "rg = regrid(eke_image, precompute=True).redim.range(EKE=(-4, 0))\n",
    "rg"
   ]
  },
  {
   "cell_type": "markdown",
   "metadata": {},
   "source": [
    "## Daily-Averaged Kinetic Energy\n",
    "\n",
    "The data is resampled on the fly."
   ]
  },
  {
   "cell_type": "code",
   "execution_count": null,
   "metadata": {},
   "outputs": [],
   "source": [
    "ds_daily = ds.resample(time='D').mean()\n",
    "ds_daily"
   ]
  },
  {
   "cell_type": "code",
   "execution_count": null,
   "metadata": {},
   "outputs": [],
   "source": [
    "eke_daily = 0.5 * (grid.interp(ds_daily.U, 'X', boundary='fill')**2 +\n",
    "                   grid.interp(ds_daily.V, 'Y', boundary='fill')**2\n",
    "                  ).where(ocean_mask).rename('EKE')\n",
    "eke_daily"
   ]
  },
  {
   "cell_type": "code",
   "execution_count": null,
   "metadata": {},
   "outputs": [],
   "source": [
    "eke_image = hv.Dataset(np.log10(eke_daily)).to(hv.Image, kdims=['i', 'j'], dynamic=True)\n",
    "\n",
    "%output holomap='scrubber' fps=0.25\n",
    "%opts Image [width=800 height=500 colorbar=True bgcolor='gray' logz=False] (cmap='magma')\n",
    "regrid(eke_image, precompute=True).redim.range(EKE=(-4, 0))"
   ]
  },
  {
   "cell_type": "code",
   "execution_count": null,
   "metadata": {},
   "outputs": [],
   "source": []
  }
 ],
 "metadata": {
  "kernelspec": {
   "display_name": "Python 3",
   "language": "python",
   "name": "python3"
  },
  "language_info": {
   "codemirror_mode": {
    "name": "ipython",
    "version": 3
   },
   "file_extension": ".py",
   "mimetype": "text/x-python",
   "name": "python",
   "nbconvert_exporter": "python",
   "pygments_lexer": "ipython3",
   "version": "3.7.3"
  }
 },
 "nbformat": 4,
 "nbformat_minor": 4
}
