{
 "cells": [
  {
   "cell_type": "code",
   "execution_count": 19,
   "metadata": {
    "collapsed": true
   },
   "outputs": [],
   "source": [
    "import pandas as pd\n",
    "from matplotlib import pyplot as plt\n",
    "%matplotlib inline"
   ]
  },
  {
   "cell_type": "code",
   "execution_count": 31,
   "metadata": {
    "collapsed": true
   },
   "outputs": [],
   "source": [
    "d = pd.read_csv('https://docs.google.com/spreadsheets/d/'\n",
    "                '1-E_du9XFhNzjW4n0KIhCZGKcu-AxirPqNtrZn8Oty-E/pub?output=csv')"
   ]
  },
  {
   "cell_type": "code",
   "execution_count": 36,
   "metadata": {
    "collapsed": false
   },
   "outputs": [
    {
     "data": {
      "text/plain": [
       "Status\n",
       "LDEO Research Scientist                      15\n",
       "DEES Grad Student                            14\n",
       "LDEO/IRI Postdoc                              7\n",
       "DEES / LDEO Faculty (any professor title)     7\n",
       "APAM Postdoc                                  2\n",
       "APAM Grad Student                             2\n",
       "Other Postdoc                                 2\n",
       "Other Grad Student                            1\n",
       "LDEO research staff assistant                 1\n",
       "LDEO Staff Associate                          1\n",
       "System Analyst                                1\n",
       "LDEO Computer Programmer                      1\n",
       "IRI Research Scientist                        1\n",
       "IRI Research Assistant                        1\n",
       "Research Assistant                            1\n",
       "CUNY Grad Student                             1\n",
       "Senior Research Staff                         1\n",
       "Undergrad                                     1\n",
       "Name: Status, dtype: int64"
      ]
     },
     "execution_count": 36,
     "metadata": {},
     "output_type": "execute_result"
    }
   ],
   "source": [
    "g = d.groupby('Status')['Status'].count('Status')\n",
    "g.sort(ascending=False)\n",
    "g"
   ]
  },
  {
   "cell_type": "code",
   "execution_count": null,
   "metadata": {
    "collapsed": true
   },
   "outputs": [],
   "source": []
  },
  {
   "cell_type": "code",
   "execution_count": null,
   "metadata": {
    "collapsed": true
   },
   "outputs": [],
   "source": []
  }
 ],
 "metadata": {
  "kernelspec": {
   "display_name": "Python 3",
   "language": "python",
   "name": "python3"
  },
  "language_info": {
   "codemirror_mode": {
    "name": "ipython",
    "version": 3
   },
   "file_extension": ".py",
   "mimetype": "text/x-python",
   "name": "python",
   "nbconvert_exporter": "python",
   "pygments_lexer": "ipython3",
   "version": "3.4.3"
  }
 },
 "nbformat": 4,
 "nbformat_minor": 0
}
