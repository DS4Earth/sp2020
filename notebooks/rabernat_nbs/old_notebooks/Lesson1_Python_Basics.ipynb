{
 "metadata": {
  "name": "",
  "signature": "sha256:0af6d7988989427b2995417bd4bd97afff69458a09fbfe927418f11e9d92d7a3"
 },
 "nbformat": 3,
 "nbformat_minor": 0,
 "worksheets": [
  {
   "cells": [
    {
     "cell_type": "markdown",
     "metadata": {},
     "source": [
      "# My First IPython Notebook #\n",
      "\n",
      "This notebook goes over the very basic elements of the Python language such as variables, variable types, lists, loops, and functions."
     ]
    },
    {
     "cell_type": "markdown",
     "metadata": {},
     "source": [
      "## Variables and Strings ##\n",
      "\n",
      "Assign a variable \"a\". (Hit shift-return to execute the cell.)"
     ]
    },
    {
     "cell_type": "code",
     "collapsed": false,
     "input": [
      "a = 'hello'"
     ],
     "language": "python",
     "metadata": {},
     "outputs": [],
     "prompt_number": 20
    },
    {
     "cell_type": "markdown",
     "metadata": {},
     "source": [
      "To produce a list of variables that are present in the kernel you can call \"whos\""
     ]
    },
    {
     "cell_type": "code",
     "collapsed": false,
     "input": [
      "whos"
     ],
     "language": "python",
     "metadata": {},
     "outputs": [
      {
       "output_type": "stream",
       "stream": "stdout",
       "text": [
        "Variable   Type     Data/Info\n",
        "-----------------------------\n",
        "a          str      hello\n",
        "c          int      5\n",
        "d          float    2.0\n"
       ]
      }
     ],
     "prompt_number": 21
    },
    {
     "cell_type": "markdown",
     "metadata": {},
     "source": [
      "To find out the type of a certain variable use the function type()"
     ]
    },
    {
     "cell_type": "code",
     "collapsed": false,
     "input": [
      "type(a)"
     ],
     "language": "python",
     "metadata": {},
     "outputs": [
      {
       "metadata": {},
       "output_type": "pyout",
       "prompt_number": 22,
       "text": [
        "str"
       ]
      }
     ],
     "prompt_number": 22
    },
    {
     "cell_type": "markdown",
     "metadata": {},
     "source": [
      "In this case, we see that a is a str (string). Everything in python is an object, and every type of object has special methods that can be called. To access these methods we use a dot (period) after the variable name.\n",
      "\n",
      "If you type \"a.\" (a and dot) and then hit tab, a dropdown menu lists all the methods applicable to the variable. (This is one of the perks of the IPython notebook.)\n"
     ]
    },
    {
     "cell_type": "code",
     "collapsed": false,
     "input": [
      "a.capitalize()"
     ],
     "language": "python",
     "metadata": {},
     "outputs": [
      {
       "metadata": {},
       "output_type": "pyout",
       "prompt_number": 23,
       "text": [
        "'Hello'"
       ]
      }
     ],
     "prompt_number": 23
    },
    {
     "cell_type": "markdown",
     "metadata": {},
     "source": [
      "## Inline Documentation ##\n",
      "\n",
      "To access the help about a function you can add a question mark at the end of the function, with no parenthesis, and hit shift-return."
     ]
    },
    {
     "cell_type": "code",
     "collapsed": false,
     "input": [
      "a.capitalize?"
     ],
     "language": "python",
     "metadata": {},
     "outputs": [],
     "prompt_number": 24
    },
    {
     "cell_type": "markdown",
     "metadata": {},
     "source": [
      "Or you can write the full function (i.e. a.capitalize() ) and then place your cursor within the parenthesis and hit \"shift+tab\"."
     ]
    },
    {
     "cell_type": "markdown",
     "metadata": {},
     "source": [
      "## Conditionals ##\n",
      "\n",
      "Here we write our first if-statement in python."
     ]
    },
    {
     "cell_type": "code",
     "collapsed": false,
     "input": [
      "b='goodbye'\n",
      "print b.upper()\n",
      "if a==b:\n",
      "    print \"a and b are equal\"\n",
      "else: \n",
      "    print \"a and b are NOT equal\""
     ],
     "language": "python",
     "metadata": {},
     "outputs": [
      {
       "output_type": "stream",
       "stream": "stdout",
       "text": [
        "GOODBYE\n",
        "a and b are NOT equal\n"
       ]
      }
     ],
     "prompt_number": 25
    },
    {
     "cell_type": "markdown",
     "metadata": {},
     "source": [
      "NOTE:\n",
      "\n",
      "1) Python cares about indenting; the indenting tells python which loop/level a statement belongs to.\n",
      "\n",
      "2) the indentation is actually 4 spaces, but in a python editor or IPython notebook, the tab key will work fine. If you use another editor, you need to configure it to use \"soft tabs\" (i.e. spaces instead of the tab character).\n",
      "\n",
      "SIDE NOTE: If you want to empty your workspace of all variables, go to Kernel and restart the kernel. You don't loose the code You just clear the workspace. After that, you have to execute all the cells again (shift+enter) to re-run any part of the code.\n",
      "\n",
      "## Printing Output ##\n",
      "\n",
      "IPython will automatically print the last line of each cell. But it will _not_ automatically print the output of a function if it is assigned to a variable."
     ]
    },
    {
     "cell_type": "code",
     "collapsed": false,
     "input": [
      "c=len(a) #not printing to screen"
     ],
     "language": "python",
     "metadata": {},
     "outputs": [],
     "prompt_number": 26
    },
    {
     "cell_type": "code",
     "collapsed": false,
     "input": [
      "len(a)  #printing to screen "
     ],
     "language": "python",
     "metadata": {},
     "outputs": [
      {
       "metadata": {},
       "output_type": "pyout",
       "prompt_number": 27,
       "text": [
        "5"
       ]
      }
     ],
     "prompt_number": 27
    },
    {
     "cell_type": "markdown",
     "metadata": {},
     "source": [
      "It will print only the last line of a cell"
     ]
    },
    {
     "cell_type": "code",
     "collapsed": false,
     "input": [
      "c=len(a)\n",
      "len(a)   #it is not going to be printed because it is not the last line\n",
      "c"
     ],
     "language": "python",
     "metadata": {},
     "outputs": [
      {
       "metadata": {},
       "output_type": "pyout",
       "prompt_number": 28,
       "text": [
        "5"
       ]
      }
     ],
     "prompt_number": 28
    },
    {
     "cell_type": "markdown",
     "metadata": {},
     "source": [
      "To force screen print at any point of the cell use print(). The print method doesn't necessarily need the parenthesis, but it is neater to use them."
     ]
    },
    {
     "cell_type": "code",
     "collapsed": false,
     "input": [
      "c=len(a)\n",
      "print c \n",
      "print(c)\n",
      "type(c)"
     ],
     "language": "python",
     "metadata": {},
     "outputs": [
      {
       "output_type": "stream",
       "stream": "stdout",
       "text": [
        "5\n",
        "5\n"
       ]
      },
      {
       "metadata": {},
       "output_type": "pyout",
       "prompt_number": 29,
       "text": [
        "int"
       ]
      }
     ],
     "prompt_number": 29
    },
    {
     "cell_type": "markdown",
     "metadata": {},
     "source": [
      "To suppress printing, you can use a semicolon."
     ]
    },
    {
     "cell_type": "code",
     "collapsed": false,
     "input": [
      "c;"
     ],
     "language": "python",
     "metadata": {},
     "outputs": [],
     "prompt_number": 30
    },
    {
     "cell_type": "markdown",
     "metadata": {},
     "source": [
      "# Numeric Data Types #\n",
      "\n",
      "If you use a number without and decimal points, it will be assumed to be an integer. Operations involving integers will only produce other integers, even division. This can be a big point of confusion in python."
     ]
    },
    {
     "cell_type": "code",
     "collapsed": false,
     "input": [
      "print(c/2)"
     ],
     "language": "python",
     "metadata": {},
     "outputs": [
      {
       "output_type": "stream",
       "stream": "stdout",
       "text": [
        "2\n"
       ]
      }
     ],
     "prompt_number": 31
    },
    {
     "cell_type": "markdown",
     "metadata": {},
     "source": [
      "\"c/2\" (5/2) has been rounded to the lower integer. \n",
      "If you need the result to be floating number, one of the two numbers has to be floating type. \n",
      "To do this i just add a \".\" after the number and it makes it into a floating number."
     ]
    },
    {
     "cell_type": "code",
     "collapsed": false,
     "input": [
      "2.  #2. corresponds to a floating number"
     ],
     "language": "python",
     "metadata": {},
     "outputs": [
      {
       "metadata": {},
       "output_type": "pyout",
       "prompt_number": 32,
       "text": [
        "2.0"
       ]
      }
     ],
     "prompt_number": 32
    },
    {
     "cell_type": "code",
     "collapsed": false,
     "input": [
      "float(2)  #float will change the data type to floating type."
     ],
     "language": "python",
     "metadata": {},
     "outputs": [
      {
       "metadata": {},
       "output_type": "pyout",
       "prompt_number": 33,
       "text": [
        "2.0"
       ]
      }
     ],
     "prompt_number": 33
    },
    {
     "cell_type": "code",
     "collapsed": false,
     "input": [
      "float(c)"
     ],
     "language": "python",
     "metadata": {},
     "outputs": [
      {
       "metadata": {},
       "output_type": "pyout",
       "prompt_number": 34,
       "text": [
        "5.0"
       ]
      }
     ],
     "prompt_number": 34
    },
    {
     "cell_type": "code",
     "collapsed": false,
     "input": [
      "print(c/2.)"
     ],
     "language": "python",
     "metadata": {},
     "outputs": [
      {
       "output_type": "stream",
       "stream": "stdout",
       "text": [
        "2.5\n"
       ]
      }
     ],
     "prompt_number": 35
    },
    {
     "cell_type": "code",
     "collapsed": false,
     "input": [
      "type(c/2.)   # the type of the data obtained by this operation is float"
     ],
     "language": "python",
     "metadata": {},
     "outputs": [
      {
       "metadata": {},
       "output_type": "pyout",
       "prompt_number": 36,
       "text": [
        "float"
       ]
      }
     ],
     "prompt_number": 36
    },
    {
     "cell_type": "code",
     "collapsed": false,
     "input": [
      "type(c+2.)"
     ],
     "language": "python",
     "metadata": {},
     "outputs": [
      {
       "metadata": {},
       "output_type": "pyout",
       "prompt_number": 37,
       "text": [
        "float"
       ]
      }
     ],
     "prompt_number": 37
    },
    {
     "cell_type": "code",
     "collapsed": false,
     "input": [
      "d=2.\n",
      "print(c+d)"
     ],
     "language": "python",
     "metadata": {},
     "outputs": [
      {
       "output_type": "stream",
       "stream": "stdout",
       "text": [
        "7.0\n"
       ]
      }
     ],
     "prompt_number": 38
    },
    {
     "cell_type": "markdown",
     "metadata": {},
     "source": [
      "NOTE: the operator + can work with string as well. Each type of object can interpret arithmetic operators differently. "
     ]
    },
    {
     "cell_type": "code",
     "collapsed": false,
     "input": [
      "print(a+b)\n",
      "print a.__add__(b)"
     ],
     "language": "python",
     "metadata": {},
     "outputs": [
      {
       "output_type": "stream",
       "stream": "stdout",
       "text": [
        "hellogoodbye\n",
        "hellogoodbye\n"
       ]
      }
     ],
     "prompt_number": 40
    },
    {
     "cell_type": "markdown",
     "metadata": {},
     "source": [
      "What other data types do we have?\n",
      "\n",
      "Besides INT STR and FLOAT we have then BOOL (boolean, True/False, 1/0)"
     ]
    },
    {
     "cell_type": "code",
     "collapsed": false,
     "input": [
      "f = a==b\n",
      "print type(f)\n",
      "print f"
     ],
     "language": "python",
     "metadata": {},
     "outputs": [
      {
       "output_type": "stream",
       "stream": "stdout",
       "text": [
        "<type 'bool'>\n",
        "False\n"
       ]
      }
     ],
     "prompt_number": 42
    },
    {
     "cell_type": "markdown",
     "metadata": {},
     "source": [
      "In order to change the data type of a variable, use the functions that are named after the name of the type:\n",
      "\n",
      "- to change to integer -> int()\n",
      "- to change to str ->     str()\n",
      "- to change to boolean -> bool()"
     ]
    },
    {
     "cell_type": "code",
     "collapsed": false,
     "input": [
      "print a+str(5) # changing the type of 5 to a string allows us to \"add\" it to hello\n",
      "print(int (2.5)) \n",
      "print float(4)\n",
      "print bool(4)\n",
      "print bool(0)\n",
      "print bool(1)"
     ],
     "language": "python",
     "metadata": {},
     "outputs": [
      {
       "output_type": "stream",
       "stream": "stdout",
       "text": [
        "hello5\n",
        "2\n",
        "4.0\n",
        "True\n",
        "False\n",
        "True\n"
       ]
      }
     ],
     "prompt_number": 44
    },
    {
     "cell_type": "markdown",
     "metadata": {},
     "source": [
      "If you had tried to sum a+5 without transforming 5 to str:"
     ]
    },
    {
     "cell_type": "code",
     "collapsed": false,
     "input": [
      "print a+5"
     ],
     "language": "python",
     "metadata": {},
     "outputs": [
      {
       "ename": "TypeError",
       "evalue": "cannot concatenate 'str' and 'int' objects",
       "output_type": "pyerr",
       "traceback": [
        "\u001b[0;31m---------------------------------------------------------------------------\u001b[0m\n\u001b[0;31mTypeError\u001b[0m                                 Traceback (most recent call last)",
        "\u001b[0;32m<ipython-input-45-6aceb551710b>\u001b[0m in \u001b[0;36m<module>\u001b[0;34m()\u001b[0m\n\u001b[0;32m----> 1\u001b[0;31m \u001b[0;32mprint\u001b[0m \u001b[0ma\u001b[0m\u001b[0;34m+\u001b[0m\u001b[0;36m5\u001b[0m\u001b[0;34m\u001b[0m\u001b[0m\n\u001b[0m",
        "\u001b[0;31mTypeError\u001b[0m: cannot concatenate 'str' and 'int' objects"
       ]
      }
     ],
     "prompt_number": 45
    },
    {
     "cell_type": "markdown",
     "metadata": {},
     "source": [
      "You would get an error, called \"TypeError\"\n",
      "\n",
      "## Error Handling ##\n",
      "\n",
      "Python has a very rich framework for generating and handling errors (a.k.a. exceptions).\n",
      "\n",
      "Errors can be \"caught\" by using the \"try\" syntax. Python will detect if there is a specific type of error (in this case \"TypeError\") and execute special code to deal with the situation."
     ]
    },
    {
     "cell_type": "code",
     "collapsed": false,
     "input": [
      "try:\n",
      "    print a+5\n",
      "except TypeError:\n",
      "    print a + str(5)\n",
      "    print 'caught an error'"
     ],
     "language": "python",
     "metadata": {},
     "outputs": [
      {
       "output_type": "stream",
       "stream": "stdout",
       "text": [
        "hello5\n",
        "caught an error\n"
       ]
      }
     ],
     "prompt_number": 46
    },
    {
     "cell_type": "markdown",
     "metadata": {},
     "source": [
      "# Containers #\n",
      "\n",
      "Here we are going to talk about \"lists.\" These are part of the core python code, so it is not in numpy; because they belong to the core of python, these are general containers for data, and are not necessarily optimized for scientific data and operations.\n",
      "\n",
      "## List ##\n",
      "A list is a data structure that holds multiple items in a specific order.\n",
      "To create a list, we enclose the items in square brackets, separated by commas. Any type of data can be included."
     ]
    },
    {
     "cell_type": "code",
     "collapsed": false,
     "input": [
      "mylist=[a,b,c,d]\n",
      "print mylist"
     ],
     "language": "python",
     "metadata": {},
     "outputs": [
      {
       "output_type": "stream",
       "stream": "stdout",
       "text": [
        "['hello', 'goodbye', 5, 2.0]\n"
       ]
      }
     ],
     "prompt_number": 47
    },
    {
     "cell_type": "markdown",
     "metadata": {},
     "source": [
      "To access specific items from the list, use square brackets."
     ]
    },
    {
     "cell_type": "code",
     "collapsed": false,
     "input": [
      "#get the first item\n",
      "print mylist[0]\n",
      "#get the last item if we knew the lenght\n",
      "print mylist[3]\n",
      "#get the last item if we didn't know the lenght\n",
      "print mylist[-1]\n",
      "#get the second to last\n",
      "print mylist[-2]\n",
      "#get the first 2 items\n",
      "print mylist[:2]\n",
      "#get the last 2 elements if we knew the lenght\n",
      "print mylist[2:]\n",
      "#if we didn't know the lenght\n",
      "print mylist[-2:]"
     ],
     "language": "python",
     "metadata": {},
     "outputs": [
      {
       "output_type": "stream",
       "stream": "stdout",
       "text": [
        "hello\n",
        "2.0\n",
        "2.0\n",
        "5\n",
        "['hello', 'goodbye']\n",
        "[5, 2.0]\n",
        "[5, 2.0]\n"
       ]
      }
     ],
     "prompt_number": 48
    },
    {
     "cell_type": "markdown",
     "metadata": {},
     "source": [
      "IMPORTANT NOTE: the first element is indexed 0, and not 1 like Matlab.\n",
      "\n",
      "Indexing in python: [0:3] - it will include the 0 element up to the last one BUT not the last one => [0 1 2]; it is always such that it does not include the last one.\n",
      "\n",
      "mylist. will have a series of methods. Like append => mylist.append()\n",
      "\n",
      "This appends values to the list."
     ]
    },
    {
     "cell_type": "code",
     "collapsed": false,
     "input": [
      "mylist.append(False) #if I want to get the help without using the ?, you can write the brackets () and then press shift+tab\n",
      "print(mylist)\n"
     ],
     "language": "python",
     "metadata": {},
     "outputs": [
      {
       "output_type": "stream",
       "stream": "stdout",
       "text": [
        "['hello', 'goodbye', 5, 2.0, False]\n"
       ]
      }
     ],
     "prompt_number": 49
    },
    {
     "cell_type": "markdown",
     "metadata": {},
     "source": [
      "Another method is pop => mylist.pop() \n",
      "\n",
      "this will pop - delete - the last value of mylist, and it will create a variable with that deleted value and that data type."
     ]
    },
    {
     "cell_type": "code",
     "collapsed": false,
     "input": [
      "mylist.pop()\n"
     ],
     "language": "python",
     "metadata": {},
     "outputs": [
      {
       "metadata": {},
       "output_type": "pyout",
       "prompt_number": 50,
       "text": [
        "False"
       ]
      }
     ],
     "prompt_number": 50
    },
    {
     "cell_type": "code",
     "collapsed": false,
     "input": [
      "mylist.append(False) \n",
      "last = mylist.pop()"
     ],
     "language": "python",
     "metadata": {},
     "outputs": [],
     "prompt_number": 51
    },
    {
     "cell_type": "code",
     "collapsed": false,
     "input": [
      "mylist.append(False) \n",
      "last = mylist.pop()\n",
      "print(last)\n",
      "type(last)"
     ],
     "language": "python",
     "metadata": {},
     "outputs": [
      {
       "output_type": "stream",
       "stream": "stdout",
       "text": [
        "False\n"
       ]
      },
      {
       "metadata": {},
       "output_type": "pyout",
       "prompt_number": 52,
       "text": [
        "bool"
       ]
      }
     ],
     "prompt_number": 52
    },
    {
     "cell_type": "code",
     "collapsed": false,
     "input": [
      "last = mylist.pop() #here it pops the last value which will be 2.\n",
      "print(mylist)\n",
      "print(last)\n",
      "type(last)"
     ],
     "language": "python",
     "metadata": {},
     "outputs": [
      {
       "output_type": "stream",
       "stream": "stdout",
       "text": [
        "['hello', 'goodbye', 5]\n",
        "2.0\n"
       ]
      },
      {
       "metadata": {},
       "output_type": "pyout",
       "prompt_number": 53,
       "text": [
        "float"
       ]
      }
     ],
     "prompt_number": 53
    },
    {
     "cell_type": "markdown",
     "metadata": {},
     "source": [
      "## Nested lists\n",
      "\n",
      "To have a \"multidimensional list,\" we just make a list of lists."
     ]
    },
    {
     "cell_type": "code",
     "collapsed": false,
     "input": [
      "nested_list= [[1,2],[3,4]]\n",
      "print(nested_list)\n",
      "print(nested_list[1]) #remember 1 is actually the 2nd element!!! therefore the second element of the nested_list is [3,4]\n",
      "print(nested_list[1][1]) # it prints the 2nd element of the second element\n",
      "type(nested_list[1][1])"
     ],
     "language": "python",
     "metadata": {},
     "outputs": [
      {
       "output_type": "stream",
       "stream": "stdout",
       "text": [
        "[[1, 2], [3, 4]]\n",
        "[3, 4]\n",
        "4\n"
       ]
      },
      {
       "metadata": {},
       "output_type": "pyout",
       "prompt_number": 54,
       "text": [
        "int"
       ]
      }
     ],
     "prompt_number": 54
    },
    {
     "cell_type": "markdown",
     "metadata": {},
     "source": [
      "# Loops #\n",
      "\n",
      "Now we learn a bit about how to iterate over lists. In this case, we writ a code to look at each item in our list, print it, and test whether it is an integer."
     ]
    },
    {
     "cell_type": "code",
     "collapsed": false,
     "input": [
      "mylist=[a,b,c,d]\n",
      "print mylist\n",
      "\n",
      "print('Now starting the loop')\n",
      "\n",
      "for item in mylist: # we don't have to define how long the vector is, it knows how long it is.\n",
      "    print item\n",
      "    if isinstance(item, int):\n",
      "        print \"Found an integer\""
     ],
     "language": "python",
     "metadata": {},
     "outputs": [
      {
       "output_type": "stream",
       "stream": "stdout",
       "text": [
        "['hello', 'goodbye', 5, 2.0]\n",
        "Now starting the loop\n",
        "hello\n",
        "goodbye\n",
        "5\n",
        "Found an integer\n",
        "2.0\n"
       ]
      }
     ],
     "prompt_number": 57
    },
    {
     "cell_type": "markdown",
     "metadata": {},
     "source": [
      "Please note the indentation, which tells python which line belongs to the for loop (\"print item\" and \"if isinstance(item, int):\") and which belongs to the if loop (\"print \"Found an integer\"\")\n",
      "\n",
      "\n",
      "Let's now write a loop to create a list. First create an empty list, and then append elements one by one."
     ]
    },
    {
     "cell_type": "code",
     "collapsed": false,
     "input": [
      "newlist = []\n",
      "for n in range(5):\n",
      "    newlist.append(n)\n",
      "    \n",
      "print(type(newlist))\n",
      "print(type(newlist[0]))\n",
      "print newlist\n",
      "print newlist == range(5)"
     ],
     "language": "python",
     "metadata": {},
     "outputs": [
      {
       "output_type": "stream",
       "stream": "stdout",
       "text": [
        "<type 'list'>\n",
        "<type 'int'>\n",
        "[0, 1, 2, 3, 4]\n",
        "True\n"
       ]
      }
     ],
     "prompt_number": 58
    },
    {
     "cell_type": "markdown",
     "metadata": {},
     "source": [
      "The \"range\" function builds list of integers that starts from zero (by default, unless a different start is indicated), and goes up to the last element, but similarly to the indexing, doesn't include it:\n",
      "\n",
      "```\n",
      "range([start,] stop[, step]) -> list of integers\n",
      "```\n",
      "\n",
      "Return a list containing an arithmetic progression of integers.\n",
      "range(i, j) returns [i, i+1, i+2, ..., j-1]; start (!) defaults to 0.\n",
      "When step is given, it specifies the increment (or decrement).\n",
      "For example, range(4) returns [0, 1, 2, 3].  The end point is omitted!\n",
      "These are exactly the valid indices for a list of 4 elements.\n"
     ]
    },
    {
     "cell_type": "code",
     "collapsed": false,
     "input": [
      "print range(50,54)\n",
      "print range(5) + range(50,54) # this \"sum\" is intendend as an appending, not a mathematical sum.\n"
     ],
     "language": "python",
     "metadata": {},
     "outputs": [
      {
       "output_type": "stream",
       "stream": "stdout",
       "text": [
        "[50, 51, 52, 53]\n",
        "[0, 1, 2, 3, 4, 50, 51, 52, 53]\n"
       ]
      }
     ],
     "prompt_number": 60
    },
    {
     "cell_type": "markdown",
     "metadata": {},
     "source": [
      "# Functions #\n",
      "\n",
      "Let's now write our first fucntion in python.\n",
      "It's important to notice that whatever variables are defined within the function do not enter into the top-level namespace. \n",
      "\n",
      "This function is designed to take two lists and add them together element by element.\n",
      "In this function, we use variables named a and b (already defined in the notebook), but these variable names are within the function."
     ]
    },
    {
     "cell_type": "code",
     "collapsed": false,
     "input": [
      "def add_lists(a,b):\n",
      "    c = []\n",
      "    for item1,item2 in zip(a,b):\n",
      "        c.append(item1 + item2)\n",
      "    return c\n",
      "\n",
      "#Here I call and print the function\n",
      "print add_lists(range(5), range(50,55))\n",
      "\n",
      "#Here I call and print the function\n",
      "print add_lists(range(6), range(60,66))"
     ],
     "language": "python",
     "metadata": {},
     "outputs": [
      {
       "output_type": "stream",
       "stream": "stdout",
       "text": [
        "[50, 52, 54, 56, 58]\n",
        "[60, 62, 64, 66, 68, 70]\n"
       ]
      }
     ],
     "prompt_number": 63
    },
    {
     "cell_type": "markdown",
     "metadata": {},
     "source": [
      "# Final remarks #\n",
      "\n",
      "Lists are core python data formats, not designed for scientific or numerical work. Our next lesson is on numpy arrays. Let's get a preview of how things are different when we use numpy.\n",
      "\n",
      "(The magic function %timeit can be used to evaluate how fast a line of code runs.)"
     ]
    },
    {
     "cell_type": "code",
     "collapsed": false,
     "input": [
      "%timeit add_lists(range(10000), range(10000))"
     ],
     "language": "python",
     "metadata": {},
     "outputs": [
      {
       "output_type": "stream",
       "stream": "stdout",
       "text": [
        "1000 loops, best of 3: 1.68 ms per loop\n"
       ]
      }
     ],
     "prompt_number": 64
    },
    {
     "cell_type": "markdown",
     "metadata": {},
     "source": [
      "it is pretty slow, but if we use numpy it will be faster."
     ]
    },
    {
     "cell_type": "code",
     "collapsed": false,
     "input": [
      "import numpy\n",
      "%timeit numpy.arange(10000)+numpy.arange(10000)"
     ],
     "language": "python",
     "metadata": {},
     "outputs": [
      {
       "output_type": "stream",
       "stream": "stdout",
       "text": [
        "100000 loops, best of 3: 19.1 \u00b5s per loop\n"
       ]
      }
     ],
     "prompt_number": 65
    }
   ],
   "metadata": {}
  }
 ]
}