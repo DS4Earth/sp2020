{
 "metadata": {
  "gist_id": "f2ea22dcd7e5e449d4bc",
  "name": "",
  "signature": "sha256:be3e79be54f98e31e5fe40d63a7c8f3fdebbea649ffb84b765ba9ac11fc55015"
 },
 "nbformat": 3,
 "nbformat_minor": 0,
 "worksheets": [
  {
   "cells": [
    {
     "cell_type": "markdown",
     "metadata": {},
     "source": [
      "# Overview\n",
      "\n",
      "Basically just using the official [python tutorial](https://docs.python.org/2/tutorial/).\n",
      "\n",
      "### Python Basics\n",
      "1. Python (iPython) shell\n",
      "* Python files\n",
      "* iPython notebook\n",
      "* Everything is an object\n",
      "* Numbers and strings\n",
      "* Collections of items\n",
      " - Lists\n",
      " - Tuples\n",
      " - Dictionaries\n",
      "* Flow Control\n",
      " - Conditionals\n",
      " - Loops\n",
      " - Exceptions\n",
      "\n",
      "### Modules\n",
      "1. The Namespace\n",
      "* Importing\n",
      "* Functions\n",
      "* Organizing your code in modules\n",
      "\n",
      "### NumPy\n",
      "\n",
      "### SciPy\n",
      "\n",
      "### Links to Data\n",
      "\n",
      "ftp://ftp.cdc.noaa.gov/Datasets/ncep.reanalysis/surface/air.sig995.2012.nc\n",
      "\n",
      "http://www.cpc.ncep.noaa.gov/products/precip/CWlink/daily_ao_index/monthly.ao.index.b50.current.ascii\n"
     ]
    },
    {
     "cell_type": "code",
     "collapsed": false,
     "input": [],
     "language": "python",
     "metadata": {},
     "outputs": []
    }
   ],
   "metadata": {}
  }
 ]
}