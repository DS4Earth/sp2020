{
  "nbformat": 4,
  "nbformat_minor": 0,
  "metadata": {
    "colab": {
      "name": "cs228-python-tutorial.ipynb",
      "provenance": []
    }
  },
  "cells": [
    {
      "cell_type": "markdown",
      "metadata": {
        "id": "OOmQ0m34KO2B",
        "colab_type": "text"
      },
      "source": [
        "#CS228 Python Tutorial"
      ]
    },
    {
      "cell_type": "markdown",
      "metadata": {
        "id": "9EijPPv6KO2D",
        "colab_type": "text"
      },
      "source": [
        "Adapted by [Volodymyr Kuleshov](http://web.stanford.edu/~kuleshov/) and [Isaac Caswell](https://symsys.stanford.edu/viewing/symsysaffiliate/21335) from the `CS231n` Python tutorial by Justin Johnson (http://cs231n.github.io/python-numpy-tutorial/)."
      ]
    },
    {
      "cell_type": "markdown",
      "metadata": {
        "id": "OXvkJ8xgKO2E",
        "colab_type": "text"
      },
      "source": [
        "##Introduction"
      ]
    },
    {
      "cell_type": "markdown",
      "metadata": {
        "id": "W_y-ltzzKO2F",
        "colab_type": "text"
      },
      "source": [
        "Python is a great general-purpose programming language on its own, but with the help of a few popular libraries (numpy, scipy, matplotlib) it becomes a powerful environment for scientific computing.\n",
        "\n",
        "We expect that many of you will have some experience with Python and numpy; for the rest of you, this section will serve as a quick crash course both on the Python programming language and on the use of Python for scientific computing.\n",
        "\n",
        "Some of you may have previous knowledge in Matlab, in which case we also recommend the numpy for Matlab users page (https://docs.scipy.org/doc/numpy-dev/user/numpy-for-matlab-users.html)."
      ]
    },
    {
      "cell_type": "markdown",
      "metadata": {
        "id": "TovTuyk9KO2G",
        "colab_type": "text"
      },
      "source": [
        "In this tutorial, we will cover:\n",
        "\n",
        "* Basic Python: Basic data types (Containers, Lists, Dictionaries, Sets, Tuples), Functions, Classes\n",
        "* Numpy: Arrays, Array indexing, Datatypes, Array math, Broadcasting\n",
        "* Matplotlib: Plotting, Subplots, Images\n",
        "* IPython: Creating notebooks, Typical workflows"
      ]
    },
    {
      "cell_type": "markdown",
      "metadata": {
        "id": "spWEC8MFKO2G",
        "colab_type": "text"
      },
      "source": [
        "##Basics of Python"
      ]
    },
    {
      "cell_type": "markdown",
      "metadata": {
        "id": "yQO6CxRMKO2H",
        "colab_type": "text"
      },
      "source": [
        "Python is a high-level, dynamically typed multiparadigm programming language. Python code is often said to be almost like pseudocode, since it allows you to express very powerful ideas in very few lines of code while being very readable. As an example, here is an implementation of the classic quicksort algorithm in Python:"
      ]
    },
    {
      "cell_type": "code",
      "metadata": {
        "id": "f5-9982gKO2I",
        "colab_type": "code",
        "colab": {},
        "outputId": "740b48f0-56b6-4861-b678-7ca8b6091031"
      },
      "source": [
        "def quicksort(arr):\n",
        "    if len(arr) <= 1:\n",
        "        return arr\n",
        "    pivot = arr[len(arr) // 2]\n",
        "    left = [x for x in arr if x < pivot]\n",
        "    middle = [x for x in arr if x == pivot]\n",
        "    right = [x for x in arr if x > pivot]\n",
        "    return quicksort(left) + middle + quicksort(right)\n",
        "\n",
        "print quicksort([3,6,8,10,1,2,1])"
      ],
      "execution_count": 0,
      "outputs": [
        {
          "output_type": "stream",
          "text": [
            "[1, 1, 2, 3, 6, 8, 10]\n"
          ],
          "name": "stdout"
        }
      ]
    },
    {
      "cell_type": "markdown",
      "metadata": {
        "id": "ULcssvDaKO2M",
        "colab_type": "text"
      },
      "source": [
        "###Python versions"
      ]
    },
    {
      "cell_type": "markdown",
      "metadata": {
        "id": "dPHIe6-aKO2M",
        "colab_type": "text"
      },
      "source": [
        "There are currently two different supported versions of Python, 2.7 and 3.4. Somewhat confusingly, Python 3.0 introduced many backwards-incompatible changes to the language, so code written for 2.7 may not work under 3.4 and vice versa. For this class all code will use Python 2.7.\n",
        "\n",
        "You can check your Python version at the command line by running `python --version`."
      ]
    },
    {
      "cell_type": "markdown",
      "metadata": {
        "id": "IpqxohmXKO2N",
        "colab_type": "text"
      },
      "source": [
        "###Basic data types"
      ]
    },
    {
      "cell_type": "markdown",
      "metadata": {
        "id": "CuWBMg7rKO2O",
        "colab_type": "text"
      },
      "source": [
        "####Numbers"
      ]
    },
    {
      "cell_type": "markdown",
      "metadata": {
        "id": "-zLPgqVJKO2O",
        "colab_type": "text"
      },
      "source": [
        "Integers and floats work as you would expect from other languages:"
      ]
    },
    {
      "cell_type": "code",
      "metadata": {
        "id": "3SnuCiGbKO2P",
        "colab_type": "code",
        "colab": {},
        "outputId": "54a797db-eeaf-4850-bf82-4058a232e4b6"
      },
      "source": [
        "x = 3\n",
        "print x, type(x)"
      ],
      "execution_count": 0,
      "outputs": [
        {
          "output_type": "stream",
          "text": [
            "3 <type 'int'>\n"
          ],
          "name": "stdout"
        }
      ]
    },
    {
      "cell_type": "code",
      "metadata": {
        "id": "iCvOxcJmKO2T",
        "colab_type": "code",
        "colab": {},
        "outputId": "0dd2c59f-3103-4f67-8341-467843087c1d"
      },
      "source": [
        "print x + 1   # Addition;\n",
        "print x - 1   # Subtraction;\n",
        "print x * 2   # Multiplication;\n",
        "print x ** 2  # Exponentiation;"
      ],
      "execution_count": 0,
      "outputs": [
        {
          "output_type": "stream",
          "text": [
            "4\n",
            "2\n",
            "6\n",
            "9\n"
          ],
          "name": "stdout"
        }
      ]
    },
    {
      "cell_type": "code",
      "metadata": {
        "id": "NhH96_jgKO2V",
        "colab_type": "code",
        "colab": {},
        "outputId": "ae2f155c-25ba-402a-c9e1-7f16e51b0cf8"
      },
      "source": [
        "x += 1\n",
        "print x  # Prints \"4\"\n",
        "x *= 2\n",
        "print x  # Prints \"8\""
      ],
      "execution_count": 0,
      "outputs": [
        {
          "output_type": "stream",
          "text": [
            "4\n",
            "8\n"
          ],
          "name": "stdout"
        }
      ]
    },
    {
      "cell_type": "code",
      "metadata": {
        "id": "RDm9yCJ7KO2X",
        "colab_type": "code",
        "colab": {},
        "outputId": "7504dbd6-c06a-409d-dccf-afe390ed9305"
      },
      "source": [
        "y = 2.5\n",
        "print type(y) # Prints \"<type 'float'>\"\n",
        "print y, y + 1, y * 2, y ** 2 # Prints \"2.5 3.5 5.0 6.25\""
      ],
      "execution_count": 0,
      "outputs": [
        {
          "output_type": "stream",
          "text": [
            "<type 'float'>\n",
            "2.5 3.5 5.0 6.25\n"
          ],
          "name": "stdout"
        }
      ]
    },
    {
      "cell_type": "markdown",
      "metadata": {
        "id": "emvpEMNqKO2Z",
        "colab_type": "text"
      },
      "source": [
        "Note that unlike many languages, Python does not have unary increment (x++) or decrement (x--) operators.\n",
        "\n",
        "Python also has built-in types for long integers and complex numbers; you can find all of the details in the [documentation](https://docs.python.org/2/library/stdtypes.html#numeric-types-int-float-long-complex)."
      ]
    },
    {
      "cell_type": "markdown",
      "metadata": {
        "id": "WfZ-yYTtKO2Z",
        "colab_type": "text"
      },
      "source": [
        "####Booleans"
      ]
    },
    {
      "cell_type": "markdown",
      "metadata": {
        "id": "Yyx3VoibKO2a",
        "colab_type": "text"
      },
      "source": [
        "Python implements all of the usual operators for Boolean logic, but uses English words rather than symbols (`&&`, `||`, etc.):"
      ]
    },
    {
      "cell_type": "code",
      "metadata": {
        "id": "0R4t-KXSKO2a",
        "colab_type": "code",
        "colab": {},
        "outputId": "27b1122b-070d-4174-99a3-77c512646ee9"
      },
      "source": [
        "t, f = True, False\n",
        "print type(t) # Prints \"<type 'bool'>\""
      ],
      "execution_count": 0,
      "outputs": [
        {
          "output_type": "stream",
          "text": [
            "<type 'bool'>\n"
          ],
          "name": "stdout"
        }
      ]
    },
    {
      "cell_type": "markdown",
      "metadata": {
        "id": "TpgqYHBXKO2c",
        "colab_type": "text"
      },
      "source": [
        "Now we let's look at the operations:"
      ]
    },
    {
      "cell_type": "code",
      "metadata": {
        "id": "DFZ25iq-KO2d",
        "colab_type": "code",
        "colab": {},
        "outputId": "4cdc223a-cef3-4236-e024-0a50ecc9c651"
      },
      "source": [
        "print t and f # Logical AND;\n",
        "print t or f  # Logical OR;\n",
        "print not t   # Logical NOT;\n",
        "print t != f  # Logical XOR;"
      ],
      "execution_count": 0,
      "outputs": [
        {
          "output_type": "stream",
          "text": [
            "False\n",
            "True\n",
            "False\n",
            "True\n"
          ],
          "name": "stdout"
        }
      ]
    },
    {
      "cell_type": "markdown",
      "metadata": {
        "id": "cP-irv2CKO2f",
        "colab_type": "text"
      },
      "source": [
        "####Strings"
      ]
    },
    {
      "cell_type": "code",
      "metadata": {
        "id": "1YmY3fNzKO2g",
        "colab_type": "code",
        "colab": {},
        "outputId": "a3d2733f-8c43-4c04-80e4-8ce574ff2dac"
      },
      "source": [
        "hello = 'hello'   # String literals can use single quotes\n",
        "world = \"world\"   # or double quotes; it does not matter.\n",
        "print hello, len(hello)"
      ],
      "execution_count": 0,
      "outputs": [
        {
          "output_type": "stream",
          "text": [
            "hello 5\n"
          ],
          "name": "stdout"
        }
      ]
    },
    {
      "cell_type": "code",
      "metadata": {
        "id": "lW9zxQ5sKO2i",
        "colab_type": "code",
        "colab": {},
        "outputId": "e7cc8f2a-fe71-4b5b-ac95-c6ef6ec16087"
      },
      "source": [
        "hw = hello + ' ' + world  # String concatenation\n",
        "print hw  # prints \"hello world\""
      ],
      "execution_count": 0,
      "outputs": [
        {
          "output_type": "stream",
          "text": [
            "hello world\n"
          ],
          "name": "stdout"
        }
      ]
    },
    {
      "cell_type": "code",
      "metadata": {
        "id": "e12M8Tv1KO2l",
        "colab_type": "code",
        "colab": {},
        "outputId": "ec470c14-cc9b-4563-c89a-df290a21c353"
      },
      "source": [
        "hw12 = '%s %s %d' % (hello, world, 12)  # sprintf style string formatting\n",
        "print hw12  # prints \"hello world 12\""
      ],
      "execution_count": 0,
      "outputs": [
        {
          "output_type": "stream",
          "text": [
            "hello world 12\n"
          ],
          "name": "stdout"
        }
      ]
    },
    {
      "cell_type": "markdown",
      "metadata": {
        "id": "96ROz48ZKO2o",
        "colab_type": "text"
      },
      "source": [
        "String objects have a bunch of useful methods; for example:"
      ]
    },
    {
      "cell_type": "code",
      "metadata": {
        "id": "yPMIVF88KO2o",
        "colab_type": "code",
        "colab": {},
        "outputId": "a791b1c9-0565-4234-9e46-cdfcf8f8234c"
      },
      "source": [
        "s = \"hello\"\n",
        "print s.capitalize()  # Capitalize a string; prints \"Hello\"\n",
        "print s.upper()       # Convert a string to uppercase; prints \"HELLO\"\n",
        "print s.rjust(7)      # Right-justify a string, padding with spaces; prints \"  hello\"\n",
        "print s.center(7)     # Center a string, padding with spaces; prints \" hello \"\n",
        "print s.replace('l', '(ell)')  # Replace all instances of one substring with another;\n",
        "                               # prints \"he(ell)(ell)o\"\n",
        "print '  world '.strip()  # Strip leading and trailing whitespace; prints \"world\""
      ],
      "execution_count": 0,
      "outputs": [
        {
          "output_type": "stream",
          "text": [
            "Hello\n",
            "HELLO\n",
            "  hello\n",
            " hello \n",
            "he(ell)(ell)o\n",
            "world\n"
          ],
          "name": "stdout"
        }
      ]
    },
    {
      "cell_type": "markdown",
      "metadata": {
        "id": "LVpBFLF3KO2r",
        "colab_type": "text"
      },
      "source": [
        "You can find a list of all string methods in the [documentation](https://docs.python.org/2/library/stdtypes.html#string-methods)."
      ]
    },
    {
      "cell_type": "markdown",
      "metadata": {
        "id": "xOovCFJNKO2r",
        "colab_type": "text"
      },
      "source": [
        "###Containers"
      ]
    },
    {
      "cell_type": "markdown",
      "metadata": {
        "id": "4QRTvP6dKO2s",
        "colab_type": "text"
      },
      "source": [
        "Python includes several built-in container types: lists, dictionaries, sets, and tuples."
      ]
    },
    {
      "cell_type": "markdown",
      "metadata": {
        "id": "dZHnYF8NKO2t",
        "colab_type": "text"
      },
      "source": [
        "####Lists"
      ]
    },
    {
      "cell_type": "markdown",
      "metadata": {
        "id": "yg3Yibs5KO2t",
        "colab_type": "text"
      },
      "source": [
        "A list is the Python equivalent of an array, but is resizeable and can contain elements of different types:"
      ]
    },
    {
      "cell_type": "code",
      "metadata": {
        "id": "S82NcUouKO2v",
        "colab_type": "code",
        "colab": {},
        "outputId": "ccf0653c-71e5-4807-cd6f-b2d5098424e7"
      },
      "source": [
        "xs = [3, 1, 2]   # Create a list\n",
        "print xs, xs[2]\n",
        "print xs[-1]     # Negative indices count from the end of the list; prints \"2\""
      ],
      "execution_count": 0,
      "outputs": [
        {
          "output_type": "stream",
          "text": [
            "[3, 1, 2] 2\n",
            "2\n"
          ],
          "name": "stdout"
        }
      ]
    },
    {
      "cell_type": "code",
      "metadata": {
        "id": "emyD9RUCKO2x",
        "colab_type": "code",
        "colab": {},
        "outputId": "3b05a9c0-6160-4ccd-f1d0-702e4701a562"
      },
      "source": [
        "xs[2] = 'foo'    # Lists can contain elements of different types\n",
        "print xs"
      ],
      "execution_count": 0,
      "outputs": [
        {
          "output_type": "stream",
          "text": [
            "[3, 1, 'foo']\n"
          ],
          "name": "stdout"
        }
      ]
    },
    {
      "cell_type": "code",
      "metadata": {
        "id": "qYYaWVrJKO2z",
        "colab_type": "code",
        "colab": {},
        "outputId": "c7dae017-dc3d-4810-ddca-fbac1b18e0e1"
      },
      "source": [
        "xs.append('bar') # Add a new element to the end of the list\n",
        "print xs  "
      ],
      "execution_count": 0,
      "outputs": [
        {
          "output_type": "stream",
          "text": [
            "[3, 1, 'foo', 'bar']\n"
          ],
          "name": "stdout"
        }
      ]
    },
    {
      "cell_type": "code",
      "metadata": {
        "id": "QMAgGXtWKO23",
        "colab_type": "code",
        "colab": {},
        "outputId": "2e2fd9ee-7542-40f8-deb3-73f251a60f8e"
      },
      "source": [
        "x = xs.pop()     # Remove and return the last element of the list\n",
        "print x, xs "
      ],
      "execution_count": 0,
      "outputs": [
        {
          "output_type": "stream",
          "text": [
            "bar [3, 1, 'foo']\n"
          ],
          "name": "stdout"
        }
      ]
    },
    {
      "cell_type": "markdown",
      "metadata": {
        "id": "nxiRjVQkKO25",
        "colab_type": "text"
      },
      "source": [
        "As usual, you can find all the gory details about lists in the [documentation](https://docs.python.org/2/tutorial/datastructures.html#more-on-lists)."
      ]
    },
    {
      "cell_type": "markdown",
      "metadata": {
        "id": "3dODUMVsKO25",
        "colab_type": "text"
      },
      "source": [
        "####Slicing"
      ]
    },
    {
      "cell_type": "markdown",
      "metadata": {
        "id": "CvNlpPHMKO26",
        "colab_type": "text"
      },
      "source": [
        "In addition to accessing list elements one at a time, Python provides concise syntax to access sublists; this is known as slicing:"
      ]
    },
    {
      "cell_type": "code",
      "metadata": {
        "id": "PWeXnToQKO26",
        "colab_type": "code",
        "colab": {},
        "outputId": "ee1a27ee-093f-4e2a-b975-a9de915eef5d"
      },
      "source": [
        "nums = range(5)    # range is a built-in function that creates a list of integers\n",
        "print nums         # Prints \"[0, 1, 2, 3, 4]\"\n",
        "print nums[2:4]    # Get a slice from index 2 to 4 (exclusive); prints \"[2, 3]\"\n",
        "print nums[2:]     # Get a slice from index 2 to the end; prints \"[2, 3, 4]\"\n",
        "print nums[:2]     # Get a slice from the start to index 2 (exclusive); prints \"[0, 1]\"\n",
        "print nums[:]      # Get a slice of the whole list; prints [\"0, 1, 2, 3, 4]\"\n",
        "print nums[:-1]    # Slice indices can be negative; prints [\"0, 1, 2, 3]\"\n",
        "nums[2:4] = [8, 9] # Assign a new sublist to a slice\n",
        "print nums         # Prints \"[0, 1, 8, 9, 4]\""
      ],
      "execution_count": 0,
      "outputs": [
        {
          "output_type": "stream",
          "text": [
            "[0, 1, 2, 3, 4]\n",
            "[2, 3]\n",
            "[2, 3, 4]\n",
            "[0, 1]\n",
            "[0, 1, 2, 3, 4]\n",
            "[0, 1, 2, 3]\n",
            "[0, 1, 8, 9, 4]\n"
          ],
          "name": "stdout"
        }
      ]
    },
    {
      "cell_type": "markdown",
      "metadata": {
        "id": "AIo8nPVZKO28",
        "colab_type": "text"
      },
      "source": [
        "####Loops"
      ]
    },
    {
      "cell_type": "markdown",
      "metadata": {
        "id": "k19E8iCbKO28",
        "colab_type": "text"
      },
      "source": [
        "You can loop over the elements of a list like this:"
      ]
    },
    {
      "cell_type": "code",
      "metadata": {
        "id": "rjul4loEKO29",
        "colab_type": "code",
        "colab": {},
        "outputId": "2d2887b4-dd75-4096-ea69-6bea73917c54"
      },
      "source": [
        "animals = ['cat', 'dog', 'monkey']\n",
        "for animal in animals:\n",
        "    print animal"
      ],
      "execution_count": 0,
      "outputs": [
        {
          "output_type": "stream",
          "text": [
            "cat\n",
            "dog\n",
            "monkey\n"
          ],
          "name": "stdout"
        }
      ]
    },
    {
      "cell_type": "markdown",
      "metadata": {
        "id": "WqpZv3NZKO2-",
        "colab_type": "text"
      },
      "source": [
        "If you want access to the index of each element within the body of a loop, use the built-in `enumerate` function:"
      ]
    },
    {
      "cell_type": "code",
      "metadata": {
        "id": "Pto9fPpPKO2_",
        "colab_type": "code",
        "colab": {},
        "outputId": "3e7fd379-967b-48f4-e743-4a4bada44833"
      },
      "source": [
        "animals = ['cat', 'dog', 'monkey']\n",
        "for idx, animal in enumerate(animals):\n",
        "    print '#%d: %s' % (idx + 1, animal)"
      ],
      "execution_count": 0,
      "outputs": [
        {
          "output_type": "stream",
          "text": [
            "#1: cat\n",
            "#2: dog\n",
            "#3: monkey\n"
          ],
          "name": "stdout"
        }
      ]
    },
    {
      "cell_type": "markdown",
      "metadata": {
        "id": "bKDPsDwkKO3B",
        "colab_type": "text"
      },
      "source": [
        "####List comprehensions:"
      ]
    },
    {
      "cell_type": "markdown",
      "metadata": {
        "id": "s3L2Ny2WKO3B",
        "colab_type": "text"
      },
      "source": [
        "When programming, frequently we want to transform one type of data into another. As a simple example, consider the following code that computes square numbers:"
      ]
    },
    {
      "cell_type": "code",
      "metadata": {
        "id": "VfQ0DsUOKO3C",
        "colab_type": "code",
        "colab": {},
        "outputId": "3d91583d-6488-4001-ffe4-d1a60d646743"
      },
      "source": [
        "nums = [0, 1, 2, 3, 4]\n",
        "squares = []\n",
        "for x in nums:\n",
        "    squares.append(x ** 2)\n",
        "print squares"
      ],
      "execution_count": 0,
      "outputs": [
        {
          "output_type": "stream",
          "text": [
            "[0, 1, 4, 9, 16]\n"
          ],
          "name": "stdout"
        }
      ]
    },
    {
      "cell_type": "markdown",
      "metadata": {
        "id": "WXTnzlLdKO3D",
        "colab_type": "text"
      },
      "source": [
        "You can make this code simpler using a list comprehension:"
      ]
    },
    {
      "cell_type": "code",
      "metadata": {
        "id": "Ecx9_1MEKO3E",
        "colab_type": "code",
        "colab": {},
        "outputId": "b4443af2-3388-4913-e824-eb7e721700e5"
      },
      "source": [
        "nums = [0, 1, 2, 3, 4]\n",
        "squares = [x ** 2 for x in nums]\n",
        "print squares"
      ],
      "execution_count": 0,
      "outputs": [
        {
          "output_type": "stream",
          "text": [
            "[0, 1, 4, 9, 16]\n"
          ],
          "name": "stdout"
        }
      ]
    },
    {
      "cell_type": "markdown",
      "metadata": {
        "id": "9MhbtAOzKO3F",
        "colab_type": "text"
      },
      "source": [
        "List comprehensions can also contain conditions:"
      ]
    },
    {
      "cell_type": "code",
      "metadata": {
        "id": "B4z6PhjhKO3G",
        "colab_type": "code",
        "colab": {},
        "outputId": "43715ec8-f82e-44b0-d9a4-b98a04f15730"
      },
      "source": [
        "nums = [0, 1, 2, 3, 4]\n",
        "even_squares = [x ** 2 for x in nums if x % 2 == 0]\n",
        "print even_squares"
      ],
      "execution_count": 0,
      "outputs": [
        {
          "output_type": "stream",
          "text": [
            "[0, 4, 16]\n"
          ],
          "name": "stdout"
        }
      ]
    },
    {
      "cell_type": "markdown",
      "metadata": {
        "id": "8JA7QBGsKO3J",
        "colab_type": "text"
      },
      "source": [
        "####Dictionaries"
      ]
    },
    {
      "cell_type": "markdown",
      "metadata": {
        "id": "LxJKSMeZKO3J",
        "colab_type": "text"
      },
      "source": [
        "A dictionary stores (key, value) pairs, similar to a `Map` in Java or an object in Javascript. You can use it like this:"
      ]
    },
    {
      "cell_type": "code",
      "metadata": {
        "id": "WF9K82XqKO3K",
        "colab_type": "code",
        "colab": {},
        "outputId": "cfd4a54b-6cf4-4937-8d81-d1fd8872d5d3"
      },
      "source": [
        "d = {'cat': 'cute', 'dog': 'furry'}  # Create a new dictionary with some data\n",
        "print d['cat']       # Get an entry from a dictionary; prints \"cute\"\n",
        "print 'cat' in d     # Check if a dictionary has a given key; prints \"True\""
      ],
      "execution_count": 0,
      "outputs": [
        {
          "output_type": "stream",
          "text": [
            "cute\n",
            "True\n"
          ],
          "name": "stdout"
        }
      ]
    },
    {
      "cell_type": "code",
      "metadata": {
        "id": "f0ALT0d0KO3L",
        "colab_type": "code",
        "colab": {},
        "outputId": "3b1a6310-eb57-4e33-9a6b-3bd473edcf7d"
      },
      "source": [
        "d['fish'] = 'wet'    # Set an entry in a dictionary\n",
        "print d['fish']      # Prints \"wet\""
      ],
      "execution_count": 0,
      "outputs": [
        {
          "output_type": "stream",
          "text": [
            "wet\n"
          ],
          "name": "stdout"
        }
      ]
    },
    {
      "cell_type": "code",
      "metadata": {
        "id": "ch4JuSKLKO3N",
        "colab_type": "code",
        "colab": {},
        "outputId": "a161e248-fbc2-4754-cc20-5e8bd990b0c9"
      },
      "source": [
        "print d['monkey']  # KeyError: 'monkey' not a key of d"
      ],
      "execution_count": 0,
      "outputs": [
        {
          "output_type": "error",
          "ename": "KeyError",
          "evalue": "'monkey'",
          "traceback": [
            "\u001b[0;31m---------------------------------------------------------------------------\u001b[0m\n\u001b[0;31mKeyError\u001b[0m                                  Traceback (most recent call last)",
            "\u001b[0;32m<ipython-input-161-85f0c5ba0fa7>\u001b[0m in \u001b[0;36m<module>\u001b[0;34m()\u001b[0m\n\u001b[0;32m----> 1\u001b[0;31m \u001b[0;32mprint\u001b[0m \u001b[0md\u001b[0m\u001b[0;34m[\u001b[0m\u001b[0;34m'monkey'\u001b[0m\u001b[0;34m]\u001b[0m  \u001b[0;31m# KeyError: 'monkey' not a key of d\u001b[0m\u001b[0;34m\u001b[0m\u001b[0m\n\u001b[0m",
            "\u001b[0;31mKeyError\u001b[0m: 'monkey'"
          ]
        }
      ]
    },
    {
      "cell_type": "code",
      "metadata": {
        "id": "IqTC9XYbKO3P",
        "colab_type": "code",
        "colab": {},
        "outputId": "99033072-a0f3-40e0-8188-69c971d74e61"
      },
      "source": [
        "print d.get('monkey', 'N/A')  # Get an element with a default; prints \"N/A\"\n",
        "print d.get('fish', 'N/A')    # Get an element with a default; prints \"wet\""
      ],
      "execution_count": 0,
      "outputs": [
        {
          "output_type": "stream",
          "text": [
            "N/A\n",
            "wet\n"
          ],
          "name": "stdout"
        }
      ]
    },
    {
      "cell_type": "code",
      "metadata": {
        "id": "8bpFtiQ8KO3Q",
        "colab_type": "code",
        "colab": {},
        "outputId": "1641a316-9509-4adf-d84f-df5cba597611"
      },
      "source": [
        "del d['fish']        # Remove an element from a dictionary\n",
        "print d.get('fish', 'N/A') # \"fish\" is no longer a key; prints \"N/A\""
      ],
      "execution_count": 0,
      "outputs": [
        {
          "output_type": "stream",
          "text": [
            "N/A\n"
          ],
          "name": "stdout"
        }
      ]
    },
    {
      "cell_type": "markdown",
      "metadata": {
        "id": "-uoynshfKO3T",
        "colab_type": "text"
      },
      "source": [
        "You can find all you need to know about dictionaries in the [documentation](https://docs.python.org/2/library/stdtypes.html#dict)."
      ]
    },
    {
      "cell_type": "markdown",
      "metadata": {
        "id": "5XlnH8XSKO3U",
        "colab_type": "text"
      },
      "source": [
        "It is easy to iterate over the keys in a dictionary:"
      ]
    },
    {
      "cell_type": "code",
      "metadata": {
        "id": "Ngs0kK5NKO3U",
        "colab_type": "code",
        "colab": {},
        "outputId": "50f1ecf3-0891-41ec-860a-8bbfd1d24df3"
      },
      "source": [
        "d = {'person': 2, 'cat': 4, 'spider': 8}\n",
        "for animal in d:\n",
        "    legs = d[animal]\n",
        "    print 'A %s has %d legs' % (animal, legs)"
      ],
      "execution_count": 0,
      "outputs": [
        {
          "output_type": "stream",
          "text": [
            "A person has 2 legs\n",
            "A spider has 8 legs\n",
            "A cat has 4 legs\n"
          ],
          "name": "stdout"
        }
      ]
    },
    {
      "cell_type": "markdown",
      "metadata": {
        "id": "ql3iARQ7KO3W",
        "colab_type": "text"
      },
      "source": [
        "If you want access to keys and their corresponding values, use the iteritems method:"
      ]
    },
    {
      "cell_type": "code",
      "metadata": {
        "id": "BduXrT_BKO3X",
        "colab_type": "code",
        "colab": {},
        "outputId": "92de9db7-aa5f-4912-e206-d0b5472aa90c"
      },
      "source": [
        "d = {'person': 2, 'cat': 4, 'spider': 8}\n",
        "for animal, legs in d.iteritems():\n",
        "    print 'A %s has %d legs' % (animal, legs)"
      ],
      "execution_count": 0,
      "outputs": [
        {
          "output_type": "stream",
          "text": [
            "A person has 2 legs\n",
            "A spider has 8 legs\n",
            "A cat has 4 legs\n"
          ],
          "name": "stdout"
        }
      ]
    },
    {
      "cell_type": "markdown",
      "metadata": {
        "id": "i7DiVmctKO3Y",
        "colab_type": "text"
      },
      "source": [
        "Dictionary comprehensions: These are similar to list comprehensions, but allow you to easily construct dictionaries. For example:"
      ]
    },
    {
      "cell_type": "code",
      "metadata": {
        "id": "6uv8LjhlKO3Z",
        "colab_type": "code",
        "colab": {},
        "outputId": "2dd1794a-3e0a-4deb-f9cf-d3d5455eea96"
      },
      "source": [
        "nums = [0, 1, 2, 3, 4]\n",
        "even_num_to_square = {x: x ** 2 for x in nums if x % 2 == 0}\n",
        "print even_num_to_square"
      ],
      "execution_count": 0,
      "outputs": [
        {
          "output_type": "stream",
          "text": [
            "{0: 0, 2: 4, 4: 16}\n"
          ],
          "name": "stdout"
        }
      ]
    },
    {
      "cell_type": "markdown",
      "metadata": {
        "id": "a7GXg2_TKO3b",
        "colab_type": "text"
      },
      "source": [
        "####Sets"
      ]
    },
    {
      "cell_type": "markdown",
      "metadata": {
        "id": "R-lVsvg6KO3b",
        "colab_type": "text"
      },
      "source": [
        "A set is an unordered collection of distinct elements. As a simple example, consider the following:"
      ]
    },
    {
      "cell_type": "code",
      "metadata": {
        "id": "SfBA-Ml1KO3c",
        "colab_type": "code",
        "colab": {},
        "outputId": "0794c01d-76f5-47ab-a1bb-74155c1ade9d"
      },
      "source": [
        "animals = {'cat', 'dog'}\n",
        "print 'cat' in animals   # Check if an element is in a set; prints \"True\"\n",
        "print 'fish' in animals  # prints \"False\"\n"
      ],
      "execution_count": 0,
      "outputs": [
        {
          "output_type": "stream",
          "text": [
            "True\n",
            "False\n"
          ],
          "name": "stdout"
        }
      ]
    },
    {
      "cell_type": "code",
      "metadata": {
        "id": "5BQVeN44KO3e",
        "colab_type": "code",
        "colab": {},
        "outputId": "4433af9f-d8a6-41cc-9d54-d6b1004d75ad"
      },
      "source": [
        "animals.add('fish')      # Add an element to a set\n",
        "print 'fish' in animals\n",
        "print len(animals)       # Number of elements in a set;"
      ],
      "execution_count": 0,
      "outputs": [
        {
          "output_type": "stream",
          "text": [
            "True\n",
            "3\n"
          ],
          "name": "stdout"
        }
      ]
    },
    {
      "cell_type": "code",
      "metadata": {
        "id": "y9fCOGvrKO3h",
        "colab_type": "code",
        "colab": {},
        "outputId": "60563528-2576-4258-9ae8-572815b6e172"
      },
      "source": [
        "animals.add('cat')       # Adding an element that is already in the set does nothing\n",
        "print len(animals)       \n",
        "animals.remove('cat')    # Remove an element from a set\n",
        "print len(animals)       "
      ],
      "execution_count": 0,
      "outputs": [
        {
          "output_type": "stream",
          "text": [
            "3\n",
            "2\n"
          ],
          "name": "stdout"
        }
      ]
    },
    {
      "cell_type": "markdown",
      "metadata": {
        "id": "wrPLf-43KO3i",
        "colab_type": "text"
      },
      "source": [
        "_Loops_: Iterating over a set has the same syntax as iterating over a list; however since sets are unordered, you cannot make assumptions about the order in which you visit the elements of the set:"
      ]
    },
    {
      "cell_type": "code",
      "metadata": {
        "id": "NGGzOZjpKO3j",
        "colab_type": "code",
        "colab": {},
        "outputId": "092de983-65fa-4e7b-a4bc-a2d299c1044f"
      },
      "source": [
        "animals = {'cat', 'dog', 'fish'}\n",
        "for idx, animal in enumerate(animals):\n",
        "    print '#%d: %s' % (idx + 1, animal)\n",
        "# Prints \"#1: fish\", \"#2: dog\", \"#3: cat\""
      ],
      "execution_count": 0,
      "outputs": [
        {
          "output_type": "stream",
          "text": [
            "#1: fish\n",
            "#2: dog\n",
            "#3: cat\n"
          ],
          "name": "stdout"
        }
      ]
    },
    {
      "cell_type": "markdown",
      "metadata": {
        "id": "KW4-ZQs0KO3k",
        "colab_type": "text"
      },
      "source": [
        "Set comprehensions: Like lists and dictionaries, we can easily construct sets using set comprehensions:"
      ]
    },
    {
      "cell_type": "code",
      "metadata": {
        "id": "p3eHB20rKO3l",
        "colab_type": "code",
        "colab": {},
        "outputId": "2c540fa9-0824-4aac-f1f0-f66713e41e76"
      },
      "source": [
        "from math import sqrt\n",
        "print {int(sqrt(x)) for x in range(30)}"
      ],
      "execution_count": 0,
      "outputs": [
        {
          "output_type": "stream",
          "text": [
            "set([0, 1, 2, 3, 4, 5])\n"
          ],
          "name": "stdout"
        }
      ]
    },
    {
      "cell_type": "markdown",
      "metadata": {
        "id": "voEiZdBsKO3m",
        "colab_type": "text"
      },
      "source": [
        "####Tuples"
      ]
    },
    {
      "cell_type": "markdown",
      "metadata": {
        "id": "gEjBip6_KO3n",
        "colab_type": "text"
      },
      "source": [
        "A tuple is an (immutable) ordered list of values. A tuple is in many ways similar to a list; one of the most important differences is that tuples can be used as keys in dictionaries and as elements of sets, while lists cannot. Here is a trivial example:"
      ]
    },
    {
      "cell_type": "code",
      "metadata": {
        "id": "_BHAK4IaKO3n",
        "colab_type": "code",
        "colab": {},
        "outputId": "3a327d0e-6d69-4463-cc18-72b44381892d"
      },
      "source": [
        "d = {(x, x + 1): x for x in range(10)}  # Create a dictionary with tuple keys\n",
        "t = (5, 6)       # Create a tuple\n",
        "print type(t)\n",
        "print d[t]       \n",
        "print d[(1, 2)]"
      ],
      "execution_count": 0,
      "outputs": [
        {
          "output_type": "stream",
          "text": [
            "<type 'tuple'>\n",
            "5\n",
            "1\n"
          ],
          "name": "stdout"
        }
      ]
    },
    {
      "cell_type": "code",
      "metadata": {
        "id": "8xln0yJkKO3p",
        "colab_type": "code",
        "colab": {},
        "outputId": "ea1e01a7-3006-4ade-d4d9-7b061db8d9e2"
      },
      "source": [
        "t[0] = 1"
      ],
      "execution_count": 0,
      "outputs": [
        {
          "output_type": "error",
          "ename": "TypeError",
          "evalue": "'tuple' object does not support item assignment",
          "traceback": [
            "\u001b[0;31m---------------------------------------------------------------------------\u001b[0m\n\u001b[0;31mTypeError\u001b[0m                                 Traceback (most recent call last)",
            "\u001b[0;32m<ipython-input-176-0a69537257d5>\u001b[0m in \u001b[0;36m<module>\u001b[0;34m()\u001b[0m\n\u001b[0;32m----> 1\u001b[0;31m \u001b[0mt\u001b[0m\u001b[0;34m[\u001b[0m\u001b[0;36m0\u001b[0m\u001b[0;34m]\u001b[0m \u001b[0;34m=\u001b[0m \u001b[0;36m1\u001b[0m\u001b[0;34m\u001b[0m\u001b[0m\n\u001b[0m",
            "\u001b[0;31mTypeError\u001b[0m: 'tuple' object does not support item assignment"
          ]
        }
      ]
    },
    {
      "cell_type": "markdown",
      "metadata": {
        "id": "TIFdOvrkKO3s",
        "colab_type": "text"
      },
      "source": [
        "###Functions"
      ]
    },
    {
      "cell_type": "markdown",
      "metadata": {
        "id": "9O2VKtXeKO3s",
        "colab_type": "text"
      },
      "source": [
        "Python functions are defined using the `def` keyword. For example:"
      ]
    },
    {
      "cell_type": "code",
      "metadata": {
        "id": "yo1dZITuKO3t",
        "colab_type": "code",
        "colab": {},
        "outputId": "91b54bf5-3470-47cf-950c-0b29ba88f430"
      },
      "source": [
        "def sign(x):\n",
        "    if x > 0:\n",
        "        return 'positive'\n",
        "    elif x < 0:\n",
        "        return 'negative'\n",
        "    else:\n",
        "        return 'zero'\n",
        "\n",
        "for x in [-1, 0, 1]:\n",
        "    print sign(x)"
      ],
      "execution_count": 0,
      "outputs": [
        {
          "output_type": "stream",
          "text": [
            "negative\n",
            "zero\n",
            "positive\n"
          ],
          "name": "stdout"
        }
      ]
    },
    {
      "cell_type": "markdown",
      "metadata": {
        "id": "oUlFYzDTKO3v",
        "colab_type": "text"
      },
      "source": [
        "We will often define functions to take optional keyword arguments, like this:"
      ]
    },
    {
      "cell_type": "code",
      "metadata": {
        "id": "5XE1qDw-KO3v",
        "colab_type": "code",
        "colab": {},
        "outputId": "76ae3f65-f74e-4f63-d028-3092a930e499"
      },
      "source": [
        "def hello(name, loud=False):\n",
        "    if loud:\n",
        "        print 'HELLO, %s' % name.upper()\n",
        "    else:\n",
        "        print 'Hello, %s!' % name\n",
        "\n",
        "hello('Bob')\n",
        "hello('Fred', loud=True)"
      ],
      "execution_count": 0,
      "outputs": [
        {
          "output_type": "stream",
          "text": [
            "Hello, Bob!\n",
            "HELLO, FRED\n"
          ],
          "name": "stdout"
        }
      ]
    },
    {
      "cell_type": "markdown",
      "metadata": {
        "id": "XZPMZSjZKO3x",
        "colab_type": "text"
      },
      "source": [
        "###Classes"
      ]
    },
    {
      "cell_type": "markdown",
      "metadata": {
        "id": "i7-tPVT_KO3x",
        "colab_type": "text"
      },
      "source": [
        "The syntax for defining classes in Python is straightforward:"
      ]
    },
    {
      "cell_type": "code",
      "metadata": {
        "id": "UPKw2d_-KO3y",
        "colab_type": "code",
        "colab": {},
        "outputId": "5f7f7fec-f389-48b4-d152-d39348109e15"
      },
      "source": [
        "class Greeter:\n",
        "\n",
        "    # Constructor\n",
        "    def __init__(self, name):\n",
        "        self.name = name  # Create an instance variable\n",
        "\n",
        "    # Instance method\n",
        "    def greet(self, loud=False):\n",
        "        if loud:\n",
        "            print 'HELLO, %s!' % self.name.upper()\n",
        "        else:\n",
        "            print 'Hello, %s' % self.name\n",
        "\n",
        "g = Greeter('Fred')  # Construct an instance of the Greeter class\n",
        "g.greet()            # Call an instance method; prints \"Hello, Fred\"\n",
        "g.greet(loud=True)   # Call an instance method; prints \"HELLO, FRED!\""
      ],
      "execution_count": 0,
      "outputs": [
        {
          "output_type": "stream",
          "text": [
            "Hello, Fred\n",
            "HELLO, FRED!\n"
          ],
          "name": "stdout"
        }
      ]
    },
    {
      "cell_type": "markdown",
      "metadata": {
        "id": "ZsL8Uc3nKO3z",
        "colab_type": "text"
      },
      "source": [
        "##Numpy"
      ]
    },
    {
      "cell_type": "markdown",
      "metadata": {
        "id": "rtYARj6uKO31",
        "colab_type": "text"
      },
      "source": [
        "Numpy is the core library for scientific computing in Python. It provides a high-performance multidimensional array object, and tools for working with these arrays. If you are already familiar with MATLAB, you might find this [tutorial](http://wiki.scipy.org/NumPy_for_Matlab_Users) useful to get started with Numpy."
      ]
    },
    {
      "cell_type": "markdown",
      "metadata": {
        "id": "TCCIvgWJKO31",
        "colab_type": "text"
      },
      "source": [
        "To use Numpy, we first need to import the `numpy` package:"
      ]
    },
    {
      "cell_type": "code",
      "metadata": {
        "id": "tnYOFK7kKO31",
        "colab_type": "code",
        "colab": {}
      },
      "source": [
        "import numpy as np"
      ],
      "execution_count": 0,
      "outputs": []
    },
    {
      "cell_type": "markdown",
      "metadata": {
        "id": "7fAp7ObpKO35",
        "colab_type": "text"
      },
      "source": [
        "###Arrays"
      ]
    },
    {
      "cell_type": "markdown",
      "metadata": {
        "id": "eNq_4J5iKO36",
        "colab_type": "text"
      },
      "source": [
        "A numpy array is a grid of values, all of the same type, and is indexed by a tuple of nonnegative integers. The number of dimensions is the rank of the array; the shape of an array is a tuple of integers giving the size of the array along each dimension."
      ]
    },
    {
      "cell_type": "markdown",
      "metadata": {
        "id": "q-TFJgOWKO36",
        "colab_type": "text"
      },
      "source": [
        "We can initialize numpy arrays from nested Python lists, and access elements using square brackets:"
      ]
    },
    {
      "cell_type": "code",
      "metadata": {
        "id": "kKfR0npUKO36",
        "colab_type": "code",
        "colab": {},
        "outputId": "b31c034f-6a2a-468e-fb6b-9765155db305"
      },
      "source": [
        "a = np.array([1, 2, 3])  # Create a rank 1 array\n",
        "print type(a), a.shape, a[0], a[1], a[2]\n",
        "a[0] = 5                 # Change an element of the array\n",
        "print a                  "
      ],
      "execution_count": 0,
      "outputs": [
        {
          "output_type": "stream",
          "text": [
            "<type 'numpy.ndarray'> (3,) 1 2 3\n",
            "[5 2 3]\n"
          ],
          "name": "stdout"
        }
      ]
    },
    {
      "cell_type": "code",
      "metadata": {
        "id": "NpHaLefOKO38",
        "colab_type": "code",
        "colab": {},
        "outputId": "7f3b47bf-87b7-42c9-ec38-6a97a5ca6a9d"
      },
      "source": [
        "b = np.array([[1,2,3],[4,5,6]])   # Create a rank 2 array\n",
        "print b"
      ],
      "execution_count": 0,
      "outputs": [
        {
          "output_type": "stream",
          "text": [
            "[[1 2 3]\n",
            " [4 5 6]]\n"
          ],
          "name": "stdout"
        }
      ]
    },
    {
      "cell_type": "code",
      "metadata": {
        "id": "YOTnoNOVKO39",
        "colab_type": "code",
        "colab": {},
        "outputId": "186f343f-6242-4f36-ba09-1657fd8abf05"
      },
      "source": [
        "print b.shape                   \n",
        "print b[0, 0], b[0, 1], b[1, 0]"
      ],
      "execution_count": 0,
      "outputs": [
        {
          "output_type": "stream",
          "text": [
            "(2, 3)\n",
            "1 2 4\n"
          ],
          "name": "stdout"
        }
      ]
    },
    {
      "cell_type": "markdown",
      "metadata": {
        "id": "MdF5rCJFKO3_",
        "colab_type": "text"
      },
      "source": [
        "Numpy also provides many functions to create arrays:"
      ]
    },
    {
      "cell_type": "code",
      "metadata": {
        "id": "gM6cJP_2KO3_",
        "colab_type": "code",
        "colab": {},
        "outputId": "8c816269-baff-41cd-c21a-4069aa20add5"
      },
      "source": [
        "a = np.zeros((2,2))  # Create an array of all zeros\n",
        "print a"
      ],
      "execution_count": 0,
      "outputs": [
        {
          "output_type": "stream",
          "text": [
            "[[ 0.  0.]\n",
            " [ 0.  0.]]\n"
          ],
          "name": "stdout"
        }
      ]
    },
    {
      "cell_type": "code",
      "metadata": {
        "id": "-KS9Hy0tKO4A",
        "colab_type": "code",
        "colab": {},
        "outputId": "f0787f35-035a-44d2-8f5e-1b4785983609"
      },
      "source": [
        "b = np.ones((1,2))   # Create an array of all ones\n",
        "print b"
      ],
      "execution_count": 0,
      "outputs": [
        {
          "output_type": "stream",
          "text": [
            "[[ 1.  1.]]\n"
          ],
          "name": "stdout"
        }
      ]
    },
    {
      "cell_type": "code",
      "metadata": {
        "id": "zCJAezYiKO4D",
        "colab_type": "code",
        "colab": {},
        "outputId": "ffa5acd3-cb86-4ca1-f731-c6a58bd54f6b"
      },
      "source": [
        "c = np.full((2,2), 7) # Create a constant array\n",
        "print c "
      ],
      "execution_count": 0,
      "outputs": [
        {
          "output_type": "stream",
          "text": [
            "[[ 7.  7.]\n",
            " [ 7.  7.]]\n"
          ],
          "name": "stdout"
        }
      ]
    },
    {
      "cell_type": "code",
      "metadata": {
        "id": "aEx_S0D3KO4F",
        "colab_type": "code",
        "colab": {},
        "outputId": "3866f7b6-3449-44a6-e9be-f23aaeeacca6"
      },
      "source": [
        "d = np.eye(2)        # Create a 2x2 identity matrix\n",
        "print d"
      ],
      "execution_count": 0,
      "outputs": [
        {
          "output_type": "stream",
          "text": [
            "[[ 1.  0.]\n",
            " [ 0.  1.]]\n"
          ],
          "name": "stdout"
        }
      ]
    },
    {
      "cell_type": "code",
      "metadata": {
        "id": "m5QFQoMiKO4G",
        "colab_type": "code",
        "colab": {},
        "outputId": "3598114f-b4a5-4898-ef79-28bb39a55407"
      },
      "source": [
        "e = np.random.random((2,2)) # Create an array filled with random values\n",
        "print e"
      ],
      "execution_count": 0,
      "outputs": [
        {
          "output_type": "stream",
          "text": [
            "[[ 0.09477679  0.79267634]\n",
            " [ 0.78291274  0.38962829]]\n"
          ],
          "name": "stdout"
        }
      ]
    },
    {
      "cell_type": "markdown",
      "metadata": {
        "id": "nQfDJyjPKO4H",
        "colab_type": "text"
      },
      "source": [
        "###Array indexing"
      ]
    },
    {
      "cell_type": "markdown",
      "metadata": {
        "id": "7HOmMYHfKO4I",
        "colab_type": "text"
      },
      "source": [
        "Numpy offers several ways to index into arrays."
      ]
    },
    {
      "cell_type": "markdown",
      "metadata": {
        "id": "udb7pEBsKO4L",
        "colab_type": "text"
      },
      "source": [
        "Slicing: Similar to Python lists, numpy arrays can be sliced. Since arrays may be multidimensional, you must specify a slice for each dimension of the array:"
      ]
    },
    {
      "cell_type": "code",
      "metadata": {
        "id": "qJ0vO9JhKO4L",
        "colab_type": "code",
        "colab": {},
        "outputId": "b4dc1356-991d-42a4-e019-dc223aea3296"
      },
      "source": [
        "import numpy as np\n",
        "\n",
        "# Create the following rank 2 array with shape (3, 4)\n",
        "# [[ 1  2  3  4]\n",
        "#  [ 5  6  7  8]\n",
        "#  [ 9 10 11 12]]\n",
        "a = np.array([[1,2,3,4], [5,6,7,8], [9,10,11,12]])\n",
        "\n",
        "# Use slicing to pull out the subarray consisting of the first 2 rows\n",
        "# and columns 1 and 2; b is the following array of shape (2, 2):\n",
        "# [[2 3]\n",
        "#  [6 7]]\n",
        "b = a[:2, 1:3]\n",
        "print b"
      ],
      "execution_count": 0,
      "outputs": [
        {
          "output_type": "stream",
          "text": [
            "[[2 3]\n",
            " [6 7]]\n"
          ],
          "name": "stdout"
        }
      ]
    },
    {
      "cell_type": "markdown",
      "metadata": {
        "id": "mvLSyldBKO4O",
        "colab_type": "text"
      },
      "source": [
        "A slice of an array is a view into the same data, so modifying it will modify the original array."
      ]
    },
    {
      "cell_type": "code",
      "metadata": {
        "id": "HlUlCWh0KO4O",
        "colab_type": "code",
        "colab": {},
        "outputId": "09094b0b-fd6b-4655-fc5e-17512c76d5c3"
      },
      "source": [
        "print a[0, 1]  \n",
        "b[0, 0] = 77    # b[0, 0] is the same piece of data as a[0, 1]\n",
        "print a[0, 1] "
      ],
      "execution_count": 0,
      "outputs": [
        {
          "output_type": "stream",
          "text": [
            "2\n",
            "77\n"
          ],
          "name": "stdout"
        }
      ]
    },
    {
      "cell_type": "markdown",
      "metadata": {
        "id": "APkfWnZ-KO4Q",
        "colab_type": "text"
      },
      "source": [
        "You can also mix integer indexing with slice indexing. However, doing so will yield an array of lower rank than the original array. Note that this is quite different from the way that MATLAB handles array slicing:"
      ]
    },
    {
      "cell_type": "code",
      "metadata": {
        "id": "rlWKrrmjKO4Q",
        "colab_type": "code",
        "colab": {},
        "outputId": "5ab33f90-f2e7-4a4b-dd7f-f98e248ffd65"
      },
      "source": [
        "# Create the following rank 2 array with shape (3, 4)\n",
        "a = np.array([[1,2,3,4], [5,6,7,8], [9,10,11,12]])\n",
        "print a"
      ],
      "execution_count": 0,
      "outputs": [
        {
          "output_type": "stream",
          "text": [
            "[[ 1  2  3  4]\n",
            " [ 5  6  7  8]\n",
            " [ 9 10 11 12]]\n"
          ],
          "name": "stdout"
        }
      ]
    },
    {
      "cell_type": "markdown",
      "metadata": {
        "id": "VmoRZagLKO4R",
        "colab_type": "text"
      },
      "source": [
        "Two ways of accessing the data in the middle row of the array.\n",
        "Mixing integer indexing with slices yields an array of lower rank,\n",
        "while using only slices yields an array of the same rank as the\n",
        "original array:"
      ]
    },
    {
      "cell_type": "code",
      "metadata": {
        "id": "IDYerhbUKO4S",
        "colab_type": "code",
        "colab": {},
        "outputId": "ef47f6cf-edb2-4ba5-a994-7a3c4df3a460"
      },
      "source": [
        "row_r1 = a[1, :]    # Rank 1 view of the second row of a  \n",
        "row_r2 = a[1:2, :]  # Rank 2 view of the second row of a\n",
        "row_r3 = a[[1], :]  # Rank 2 view of the second row of a\n",
        "print row_r1, row_r1.shape \n",
        "print row_r2, row_r2.shape\n",
        "print row_r3, row_r3.shape"
      ],
      "execution_count": 0,
      "outputs": [
        {
          "output_type": "stream",
          "text": [
            "[ 4  5 26] (3,)\n",
            "[[ 4  5 26]] (1, 3)\n",
            "[[ 4  5 26]] (1, 3)\n"
          ],
          "name": "stdout"
        }
      ]
    },
    {
      "cell_type": "code",
      "metadata": {
        "id": "W-gPo_7MKO4T",
        "colab_type": "code",
        "colab": {},
        "outputId": "60516613-e4e0-481a-e560-68284d3a4b0e"
      },
      "source": [
        "# We can make the same distinction when accessing columns of an array:\n",
        "col_r1 = a[:, 1]\n",
        "col_r2 = a[:, 1:2]\n",
        "print col_r1, col_r1.shape\n",
        "print\n",
        "print col_r2, col_r2.shape"
      ],
      "execution_count": 0,
      "outputs": [
        {
          "output_type": "stream",
          "text": [
            "[ 2  6 10] (3,)\n",
            "\n",
            "[[ 2]\n",
            " [ 6]\n",
            " [10]] (3, 1)\n"
          ],
          "name": "stdout"
        }
      ]
    },
    {
      "cell_type": "markdown",
      "metadata": {
        "id": "yrqz6RTaKO4U",
        "colab_type": "text"
      },
      "source": [
        "Integer array indexing: When you index into numpy arrays using slicing, the resulting array view will always be a subarray of the original array. In contrast, integer array indexing allows you to construct arbitrary arrays using the data from another array. Here is an example:"
      ]
    },
    {
      "cell_type": "code",
      "metadata": {
        "id": "HrAKfexoKO4X",
        "colab_type": "code",
        "colab": {},
        "outputId": "6c8efd09-3744-49f3-d86b-b7fbd962e553"
      },
      "source": [
        "a = np.array([[1,2], [3, 4], [5, 6]])\n",
        "\n",
        "# An example of integer array indexing.\n",
        "# The returned array will have shape (3,) and \n",
        "print a[[0, 1, 2], [0, 1, 0]]\n",
        "\n",
        "# The above example of integer array indexing is equivalent to this:\n",
        "print np.array([a[0, 0], a[1, 1], a[2, 0]])"
      ],
      "execution_count": 0,
      "outputs": [
        {
          "output_type": "stream",
          "text": [
            "[1 4 5]\n",
            "[1 4 5]\n"
          ],
          "name": "stdout"
        }
      ]
    },
    {
      "cell_type": "code",
      "metadata": {
        "id": "WHnSjfbSKO4Z",
        "colab_type": "code",
        "colab": {},
        "outputId": "a673365d-f738-4fdc-a035-55fbc5be2566"
      },
      "source": [
        "# When using integer array indexing, you can reuse the same\n",
        "# element from the source array:\n",
        "print a[[0, 0], [1, 1]]\n",
        "\n",
        "# Equivalent to the previous integer array indexing example\n",
        "print np.array([a[0, 1], a[0, 1]])"
      ],
      "execution_count": 0,
      "outputs": [
        {
          "output_type": "stream",
          "text": [
            "[2 2]\n",
            "[2 2]\n"
          ],
          "name": "stdout"
        }
      ]
    },
    {
      "cell_type": "markdown",
      "metadata": {
        "id": "bKZKqS5lKO4a",
        "colab_type": "text"
      },
      "source": [
        "One useful trick with integer array indexing is selecting or mutating one element from each row of a matrix:"
      ]
    },
    {
      "cell_type": "code",
      "metadata": {
        "id": "lJ6CxZF7KO4b",
        "colab_type": "code",
        "colab": {},
        "outputId": "320d4f7b-5dd5-45b3-9bc8-a17a88f886fe"
      },
      "source": [
        "# Create a new array from which we will select elements\n",
        "a = np.array([[1,2,3], [4,5,6], [7,8,9], [10, 11, 12]])\n",
        "print a"
      ],
      "execution_count": 0,
      "outputs": [
        {
          "output_type": "stream",
          "text": [
            "[[ 1  2  3]\n",
            " [ 4  5  6]\n",
            " [ 7  8  9]\n",
            " [10 11 12]]\n"
          ],
          "name": "stdout"
        }
      ]
    },
    {
      "cell_type": "code",
      "metadata": {
        "id": "F1Bbnud5KO4d",
        "colab_type": "code",
        "colab": {},
        "outputId": "2300d72f-fc2d-46a0-b6ae-482a31935b79"
      },
      "source": [
        "# Create an array of indices\n",
        "b = np.array([0, 2, 0, 1])\n",
        "\n",
        "# Select one element from each row of a using the indices in b\n",
        "print a[np.arange(4), b]  # Prints \"[ 1  6  7 11]\""
      ],
      "execution_count": 0,
      "outputs": [
        {
          "output_type": "stream",
          "text": [
            "[ 1  6  7 11]\n"
          ],
          "name": "stdout"
        }
      ]
    },
    {
      "cell_type": "code",
      "metadata": {
        "id": "5eX4Sfx3KO4e",
        "colab_type": "code",
        "colab": {},
        "outputId": "f70dbdcc-1ca2-457f-fa60-eceb12761d85"
      },
      "source": [
        "# Mutate one element from each row of a using the indices in b\n",
        "a[np.arange(4), b] += 10\n",
        "print a"
      ],
      "execution_count": 0,
      "outputs": [
        {
          "output_type": "stream",
          "text": [
            "[[11  2  3]\n",
            " [ 4  5 16]\n",
            " [17  8  9]\n",
            " [10 21 12]]\n"
          ],
          "name": "stdout"
        }
      ]
    },
    {
      "cell_type": "markdown",
      "metadata": {
        "id": "NRl2mYH6KO4f",
        "colab_type": "text"
      },
      "source": [
        "Boolean array indexing: Boolean array indexing lets you pick out arbitrary elements of an array. Frequently this type of indexing is used to select the elements of an array that satisfy some condition. Here is an example:"
      ]
    },
    {
      "cell_type": "code",
      "metadata": {
        "id": "_c9X4UnQKO4g",
        "colab_type": "code",
        "colab": {},
        "outputId": "ebdc4878-d43b-4458-8620-203fe9972631"
      },
      "source": [
        "import numpy as np\n",
        "\n",
        "a = np.array([[1,2], [3, 4], [5, 6]])\n",
        "\n",
        "bool_idx = (a > 2)  # Find the elements of a that are bigger than 2;\n",
        "                    # this returns a numpy array of Booleans of the same\n",
        "                    # shape as a, where each slot of bool_idx tells\n",
        "                    # whether that element of a is > 2.\n",
        "\n",
        "print bool_idx"
      ],
      "execution_count": 0,
      "outputs": [
        {
          "output_type": "stream",
          "text": [
            "[[False False]\n",
            " [ True  True]\n",
            " [ True  True]]\n"
          ],
          "name": "stdout"
        }
      ]
    },
    {
      "cell_type": "code",
      "metadata": {
        "id": "bsTdTpnLKO4h",
        "colab_type": "code",
        "colab": {},
        "outputId": "88789edf-7bce-4fc2-ce7e-2a80b45146ca"
      },
      "source": [
        "# We use boolean array indexing to construct a rank 1 array\n",
        "# consisting of the elements of a corresponding to the True values\n",
        "# of bool_idx\n",
        "print a[bool_idx]\n",
        "\n",
        "# We can do all of the above in a single concise statement:\n",
        "print a[a > 2]"
      ],
      "execution_count": 0,
      "outputs": [
        {
          "output_type": "stream",
          "text": [
            "[3 4 5 6]\n",
            "[3 4 5 6]\n"
          ],
          "name": "stdout"
        }
      ]
    },
    {
      "cell_type": "markdown",
      "metadata": {
        "id": "AmmPijp-KO4i",
        "colab_type": "text"
      },
      "source": [
        "For brevity we have left out a lot of details about numpy array indexing; if you want to know more you should read the documentation."
      ]
    },
    {
      "cell_type": "markdown",
      "metadata": {
        "id": "1RWqXjpKKO4o",
        "colab_type": "text"
      },
      "source": [
        "###Datatypes"
      ]
    },
    {
      "cell_type": "markdown",
      "metadata": {
        "id": "-Bfh3lhEKO4o",
        "colab_type": "text"
      },
      "source": [
        "Every numpy array is a grid of elements of the same type. Numpy provides a large set of numeric datatypes that you can use to construct arrays. Numpy tries to guess a datatype when you create an array, but functions that construct arrays usually also include an optional argument to explicitly specify the datatype. Here is an example:"
      ]
    },
    {
      "cell_type": "code",
      "metadata": {
        "id": "R9FJLnILKO4p",
        "colab_type": "code",
        "colab": {},
        "outputId": "aac65ee0-6320-4204-abc0-25be6465078c"
      },
      "source": [
        "x = np.array([1, 2])  # Let numpy choose the datatype\n",
        "y = np.array([1.0, 2.0])  # Let numpy choose the datatype\n",
        "z = np.array([1, 2], dtype=np.int64)  # Force a particular datatype\n",
        "\n",
        "print x.dtype, y.dtype, z.dtype"
      ],
      "execution_count": 0,
      "outputs": [
        {
          "output_type": "stream",
          "text": [
            "int64 float64 int64\n"
          ],
          "name": "stdout"
        }
      ]
    },
    {
      "cell_type": "markdown",
      "metadata": {
        "id": "WK8E9485KO4q",
        "colab_type": "text"
      },
      "source": [
        "You can read all about numpy datatypes in the [documentation](http://docs.scipy.org/doc/numpy/reference/arrays.dtypes.html)."
      ]
    },
    {
      "cell_type": "markdown",
      "metadata": {
        "id": "IZcH_IudKO4r",
        "colab_type": "text"
      },
      "source": [
        "###Array math"
      ]
    },
    {
      "cell_type": "markdown",
      "metadata": {
        "id": "t8SQEguDKO4r",
        "colab_type": "text"
      },
      "source": [
        "Basic mathematical functions operate elementwise on arrays, and are available both as operator overloads and as functions in the numpy module:"
      ]
    },
    {
      "cell_type": "code",
      "metadata": {
        "id": "qNdCmsEnKO4r",
        "colab_type": "code",
        "colab": {},
        "outputId": "a5d94341-93d8-4fac-919c-115aa93f6b66"
      },
      "source": [
        "x = np.array([[1,2],[3,4]], dtype=np.float64)\n",
        "y = np.array([[5,6],[7,8]], dtype=np.float64)\n",
        "\n",
        "# Elementwise sum; both produce the array\n",
        "print x + y\n",
        "print np.add(x, y)"
      ],
      "execution_count": 0,
      "outputs": [
        {
          "output_type": "stream",
          "text": [
            "[[  6.   8.]\n",
            " [ 10.  12.]]\n",
            "[[  6.   8.]\n",
            " [ 10.  12.]]\n"
          ],
          "name": "stdout"
        }
      ]
    },
    {
      "cell_type": "code",
      "metadata": {
        "id": "T-iVSX0dKO4t",
        "colab_type": "code",
        "colab": {},
        "outputId": "7154436d-6083-41bd-e988-d11f6b268cea"
      },
      "source": [
        "# Elementwise difference; both produce the array\n",
        "print x - y\n",
        "print np.subtract(x, y)"
      ],
      "execution_count": 0,
      "outputs": [
        {
          "output_type": "stream",
          "text": [
            "[[-4. -4.]\n",
            " [-4. -4.]]\n",
            "[[-4. -4.]\n",
            " [-4. -4.]]\n"
          ],
          "name": "stdout"
        }
      ]
    },
    {
      "cell_type": "code",
      "metadata": {
        "id": "zDr8yF27KO4v",
        "colab_type": "code",
        "colab": {},
        "outputId": "d8eb3ef3-23f2-4bd2-f82a-23e60c0e9da4"
      },
      "source": [
        "# Elementwise product; both produce the array\n",
        "print x * y\n",
        "print np.multiply(x, y)"
      ],
      "execution_count": 0,
      "outputs": [
        {
          "output_type": "stream",
          "text": [
            "[[  5.  12.]\n",
            " [ 21.  32.]]\n",
            "[[  5.  12.]\n",
            " [ 21.  32.]]\n"
          ],
          "name": "stdout"
        }
      ]
    },
    {
      "cell_type": "code",
      "metadata": {
        "id": "7Tmyo4GEKO4w",
        "colab_type": "code",
        "colab": {},
        "outputId": "b1cee24f-e7ac-48cb-9d73-66a14709c896"
      },
      "source": [
        "# Elementwise division; both produce the array\n",
        "# [[ 0.2         0.33333333]\n",
        "#  [ 0.42857143  0.5       ]]\n",
        "print x / y\n",
        "print np.divide(x, y)"
      ],
      "execution_count": 0,
      "outputs": [
        {
          "output_type": "stream",
          "text": [
            "[[ 0.2         0.33333333]\n",
            " [ 0.42857143  0.5       ]]\n",
            "[[ 0.2         0.33333333]\n",
            " [ 0.42857143  0.5       ]]\n"
          ],
          "name": "stdout"
        }
      ]
    },
    {
      "cell_type": "code",
      "metadata": {
        "id": "1wAAN_xMKO4x",
        "colab_type": "code",
        "colab": {},
        "outputId": "549f537a-cef7-4f50-f7cf-5483f499cef9"
      },
      "source": [
        "# Elementwise square root; produces the array\n",
        "# [[ 1.          1.41421356]\n",
        "#  [ 1.73205081  2.        ]]\n",
        "print np.sqrt(x)"
      ],
      "execution_count": 0,
      "outputs": [
        {
          "output_type": "stream",
          "text": [
            "[[ 1.          1.41421356]\n",
            " [ 1.73205081  2.        ]]\n"
          ],
          "name": "stdout"
        }
      ]
    },
    {
      "cell_type": "markdown",
      "metadata": {
        "id": "pblhHA02KO4y",
        "colab_type": "text"
      },
      "source": [
        "Note that unlike MATLAB, `*` is elementwise multiplication, not matrix multiplication. We instead use the dot function to compute inner products of vectors, to multiply a vector by a matrix, and to multiply matrices. dot is available both as a function in the numpy module and as an instance method of array objects:"
      ]
    },
    {
      "cell_type": "code",
      "metadata": {
        "id": "7psejPlGKO4y",
        "colab_type": "code",
        "colab": {},
        "outputId": "78f9c35f-0382-49f5-8c1b-66fc5963475f"
      },
      "source": [
        "x = np.array([[1,2],[3,4]])\n",
        "y = np.array([[5,6],[7,8]])\n",
        "\n",
        "v = np.array([9,10])\n",
        "w = np.array([11, 12])\n",
        "\n",
        "# Inner product of vectors; both produce 219\n",
        "print v.dot(w)\n",
        "print np.dot(v, w)"
      ],
      "execution_count": 0,
      "outputs": [
        {
          "output_type": "stream",
          "text": [
            "219\n",
            "219\n"
          ],
          "name": "stdout"
        }
      ]
    },
    {
      "cell_type": "code",
      "metadata": {
        "id": "-CbNzUi4KO40",
        "colab_type": "code",
        "colab": {},
        "outputId": "1a8889b0-8427-4b9b-8bb9-d7c527b8383a"
      },
      "source": [
        "# Matrix / vector product; both produce the rank 1 array [29 67]\n",
        "print x.dot(v)\n",
        "print np.dot(x, v)"
      ],
      "execution_count": 0,
      "outputs": [
        {
          "output_type": "stream",
          "text": [
            "[29 67]\n",
            "[29 67]\n"
          ],
          "name": "stdout"
        }
      ]
    },
    {
      "cell_type": "code",
      "metadata": {
        "id": "bcFITL91KO42",
        "colab_type": "code",
        "colab": {},
        "outputId": "1ebca7b6-44f8-4a49-cfb6-3292291d6523"
      },
      "source": [
        "# Matrix / matrix product; both produce the rank 2 array\n",
        "# [[19 22]\n",
        "#  [43 50]]\n",
        "print x.dot(y)\n",
        "print np.dot(x, y)"
      ],
      "execution_count": 0,
      "outputs": [
        {
          "output_type": "stream",
          "text": [
            "[[19 22]\n",
            " [43 50]]\n",
            "[[19 22]\n",
            " [43 50]]\n"
          ],
          "name": "stdout"
        }
      ]
    },
    {
      "cell_type": "markdown",
      "metadata": {
        "id": "SyVAB-YVKO45",
        "colab_type": "text"
      },
      "source": [
        "Numpy provides many useful functions for performing computations on arrays; one of the most useful is `sum`:"
      ]
    },
    {
      "cell_type": "code",
      "metadata": {
        "id": "lVZ9Tq7lKO47",
        "colab_type": "code",
        "colab": {},
        "outputId": "b418a310-44fc-4474-b2b9-281b05069021"
      },
      "source": [
        "x = np.array([[1,2],[3,4]])\n",
        "\n",
        "print np.sum(x)  # Compute sum of all elements; prints \"10\"\n",
        "print np.sum(x, axis=0)  # Compute sum of each column; prints \"[4 6]\"\n",
        "print np.sum(x, axis=1)  # Compute sum of each row; prints \"[3 7]\""
      ],
      "execution_count": 0,
      "outputs": [
        {
          "output_type": "stream",
          "text": [
            "10\n",
            "[4 6]\n",
            "[3 7]\n"
          ],
          "name": "stdout"
        }
      ]
    },
    {
      "cell_type": "markdown",
      "metadata": {
        "id": "MZLjtWPSKO48",
        "colab_type": "text"
      },
      "source": [
        "You can find the full list of mathematical functions provided by numpy in the [documentation](http://docs.scipy.org/doc/numpy/reference/routines.math.html).\n",
        "\n",
        "Apart from computing mathematical functions using arrays, we frequently need to reshape or otherwise manipulate data in arrays. The simplest example of this type of operation is transposing a matrix; to transpose a matrix, simply use the T attribute of an array object:"
      ]
    },
    {
      "cell_type": "code",
      "metadata": {
        "id": "DW4g4nhVKO4_",
        "colab_type": "code",
        "colab": {},
        "outputId": "2ba76cbd-7a37-44b6-e302-9cafa0a41605"
      },
      "source": [
        "print x\n",
        "print x.T"
      ],
      "execution_count": 0,
      "outputs": [
        {
          "output_type": "stream",
          "text": [
            "[[1 2]\n",
            " [3 4]]\n",
            "[[1 3]\n",
            " [2 4]]\n"
          ],
          "name": "stdout"
        }
      ]
    },
    {
      "cell_type": "code",
      "metadata": {
        "id": "06HQyZtLKO5A",
        "colab_type": "code",
        "colab": {},
        "outputId": "3f0dc296-b84c-478b-ebe3-4ec1a07a1899"
      },
      "source": [
        "v = np.array([[1,2,3]])\n",
        "print v \n",
        "print v.T"
      ],
      "execution_count": 0,
      "outputs": [
        {
          "output_type": "stream",
          "text": [
            "[1 2 3]\n",
            "[1 2 3]\n"
          ],
          "name": "stdout"
        }
      ]
    },
    {
      "cell_type": "markdown",
      "metadata": {
        "id": "S1eM9G3LKO5B",
        "colab_type": "text"
      },
      "source": [
        "###Broadcasting"
      ]
    },
    {
      "cell_type": "markdown",
      "metadata": {
        "id": "y_c1Bh0YKO5B",
        "colab_type": "text"
      },
      "source": [
        "Broadcasting is a powerful mechanism that allows numpy to work with arrays of different shapes when performing arithmetic operations. Frequently we have a smaller array and a larger array, and we want to use the smaller array multiple times to perform some operation on the larger array.\n",
        "\n",
        "For example, suppose that we want to add a constant vector to each row of a matrix. We could do it like this:"
      ]
    },
    {
      "cell_type": "code",
      "metadata": {
        "id": "eXS7bNMrKO5B",
        "colab_type": "code",
        "colab": {},
        "outputId": "20715a6e-6ffc-4744-8194-4ff6f07a2ca8"
      },
      "source": [
        "# We will add the vector v to each row of the matrix x,\n",
        "# storing the result in the matrix y\n",
        "x = np.array([[1,2,3], [4,5,6], [7,8,9], [10, 11, 12]])\n",
        "v = np.array([1, 0, 1])\n",
        "y = np.empty_like(x)   # Create an empty matrix with the same shape as x\n",
        "\n",
        "# Add the vector v to each row of the matrix x with an explicit loop\n",
        "for i in range(4):\n",
        "    y[i, :] = x[i, :] + v\n",
        "\n",
        "print y"
      ],
      "execution_count": 0,
      "outputs": [
        {
          "output_type": "stream",
          "text": [
            "[[ 2  2  4]\n",
            " [ 5  5  7]\n",
            " [ 8  8 10]\n",
            " [11 11 13]]\n"
          ],
          "name": "stdout"
        }
      ]
    },
    {
      "cell_type": "markdown",
      "metadata": {
        "id": "S_kmqdprKO5D",
        "colab_type": "text"
      },
      "source": [
        "This works; however when the matrix `x` is very large, computing an explicit loop in Python could be slow. Note that adding the vector v to each row of the matrix `x` is equivalent to forming a matrix `vv` by stacking multiple copies of `v` vertically, then performing elementwise summation of `x` and `vv`. We could implement this approach like this:"
      ]
    },
    {
      "cell_type": "code",
      "metadata": {
        "id": "dIBR2Mg-KO5D",
        "colab_type": "code",
        "colab": {},
        "outputId": "fd19b446-4b43-43af-a2a1-8c4215baac91"
      },
      "source": [
        "vv = np.tile(v, (4, 1))  # Stack 4 copies of v on top of each other\n",
        "print vv                 # Prints \"[[1 0 1]\n",
        "                         #          [1 0 1]\n",
        "                         #          [1 0 1]\n",
        "                         #          [1 0 1]]\""
      ],
      "execution_count": 0,
      "outputs": [
        {
          "output_type": "stream",
          "text": [
            "[[1 0 1]\n",
            " [1 0 1]\n",
            " [1 0 1]\n",
            " [1 0 1]]\n"
          ],
          "name": "stdout"
        }
      ]
    },
    {
      "cell_type": "code",
      "metadata": {
        "id": "-0-XgRoPKO5E",
        "colab_type": "code",
        "colab": {},
        "outputId": "e8911902-0252-4336-cefc-66eb77547daa"
      },
      "source": [
        "y = x + vv  # Add x and vv elementwise\n",
        "print y"
      ],
      "execution_count": 0,
      "outputs": [
        {
          "output_type": "stream",
          "text": [
            "[[ 2  2  4]\n",
            " [ 5  5  7]\n",
            " [ 8  8 10]\n",
            " [11 11 13]]\n"
          ],
          "name": "stdout"
        }
      ]
    },
    {
      "cell_type": "markdown",
      "metadata": {
        "id": "nA8ZrleIKO5F",
        "colab_type": "text"
      },
      "source": [
        "Numpy broadcasting allows us to perform this computation without actually creating multiple copies of v. Consider this version, using broadcasting:"
      ]
    },
    {
      "cell_type": "code",
      "metadata": {
        "id": "RLTonLhDKO5F",
        "colab_type": "code",
        "colab": {},
        "outputId": "ecda2b93-588c-4688-c9ad-759e93b05aab"
      },
      "source": [
        "import numpy as np\n",
        "\n",
        "# We will add the vector v to each row of the matrix x,\n",
        "# storing the result in the matrix y\n",
        "x = np.array([[1,2,3], [4,5,6], [7,8,9], [10, 11, 12]])\n",
        "v = np.array([1, 0, 1])\n",
        "y = x + v  # Add v to each row of x using broadcasting\n",
        "print y"
      ],
      "execution_count": 0,
      "outputs": [
        {
          "output_type": "stream",
          "text": [
            "[[ 2  2  4]\n",
            " [ 5  5  7]\n",
            " [ 8  8 10]\n",
            " [11 11 13]]\n"
          ],
          "name": "stdout"
        }
      ]
    },
    {
      "cell_type": "markdown",
      "metadata": {
        "id": "sazKs3AwKO5G",
        "colab_type": "text"
      },
      "source": [
        "The line `y = x + v` works even though `x` has shape `(4, 3)` and `v` has shape `(3,)` due to broadcasting; this line works as if v actually had shape `(4, 3)`, where each row was a copy of `v`, and the sum was performed elementwise.\n",
        "\n",
        "Broadcasting two arrays together follows these rules:\n",
        "\n",
        "1. If the arrays do not have the same rank, prepend the shape of the lower rank array with 1s until both shapes have the same length.\n",
        "2. The two arrays are said to be compatible in a dimension if they have the same size in the dimension, or if one of the arrays has size 1 in that dimension.\n",
        "3. The arrays can be broadcast together if they are compatible in all dimensions.\n",
        "4. After broadcasting, each array behaves as if it had shape equal to the elementwise maximum of shapes of the two input arrays.\n",
        "5. In any dimension where one array had size 1 and the other array had size greater than 1, the first array behaves as if it were copied along that dimension\n",
        "\n",
        "If this explanation does not make sense, try reading the explanation from the [documentation](http://docs.scipy.org/doc/numpy/user/basics.broadcasting.html) or this [explanation](http://wiki.scipy.org/EricsBroadcastingDoc).\n",
        "\n",
        "Functions that support broadcasting are known as universal functions. You can find the list of all universal functions in the [documentation](http://docs.scipy.org/doc/numpy/reference/ufuncs.html#available-ufuncs).\n",
        "\n",
        "Here are some applications of broadcasting:"
      ]
    },
    {
      "cell_type": "code",
      "metadata": {
        "id": "IjI35y6BKO5G",
        "colab_type": "code",
        "colab": {},
        "outputId": "687beecf-04b2-4b11-a4e9-2d5d838e597e"
      },
      "source": [
        "# Compute outer product of vectors\n",
        "v = np.array([1,2,3])  # v has shape (3,)\n",
        "w = np.array([4,5])    # w has shape (2,)\n",
        "# To compute an outer product, we first reshape v to be a column\n",
        "# vector of shape (3, 1); we can then broadcast it against w to yield\n",
        "# an output of shape (3, 2), which is the outer product of v and w:\n",
        "\n",
        "print np.reshape(v, (3, 1)) * w"
      ],
      "execution_count": 0,
      "outputs": [
        {
          "output_type": "stream",
          "text": [
            "[[ 4  5]\n",
            " [ 8 10]\n",
            " [12 15]]\n"
          ],
          "name": "stdout"
        }
      ]
    },
    {
      "cell_type": "code",
      "metadata": {
        "id": "-1yzOIJ5KO5H",
        "colab_type": "code",
        "colab": {},
        "outputId": "58bad443-a051-40f3-c625-210ee9088c7f"
      },
      "source": [
        "# Add a vector to each row of a matrix\n",
        "x = np.array([[1,2,3], [4,5,6]])\n",
        "# x has shape (2, 3) and v has shape (3,) so they broadcast to (2, 3),\n",
        "# giving the following matrix:\n",
        "\n",
        "print x + v"
      ],
      "execution_count": 0,
      "outputs": [
        {
          "output_type": "stream",
          "text": [
            "[[2 4 6]\n",
            " [5 7 9]]\n"
          ],
          "name": "stdout"
        }
      ]
    },
    {
      "cell_type": "code",
      "metadata": {
        "id": "ENxWFwVUKO5I",
        "colab_type": "code",
        "colab": {},
        "outputId": "4e5b4c0b-ff41-4e59-e1a7-6e050d908900"
      },
      "source": [
        "# Add a vector to each column of a matrix\n",
        "# x has shape (2, 3) and w has shape (2,).\n",
        "# If we transpose x then it has shape (3, 2) and can be broadcast\n",
        "# against w to yield a result of shape (3, 2); transposing this result\n",
        "# yields the final result of shape (2, 3) which is the matrix x with\n",
        "# the vector w added to each column. Gives the following matrix:\n",
        "\n",
        "print (x.T + w).T"
      ],
      "execution_count": 0,
      "outputs": [
        {
          "output_type": "stream",
          "text": [
            "[[ 5  6  7]\n",
            " [ 9 10 11]]\n"
          ],
          "name": "stdout"
        }
      ]
    },
    {
      "cell_type": "code",
      "metadata": {
        "id": "ivyxQLazKO5J",
        "colab_type": "code",
        "colab": {},
        "outputId": "7bc916dc-e0f3-48db-cc31-fa454333db04"
      },
      "source": [
        "# Another solution is to reshape w to be a row vector of shape (2, 1);\n",
        "# we can then broadcast it directly against x to produce the same\n",
        "# output.\n",
        "print x + np.reshape(w, (2, 1))"
      ],
      "execution_count": 0,
      "outputs": [
        {
          "output_type": "stream",
          "text": [
            "[[ 5  6  7]\n",
            " [ 9 10 11]]\n"
          ],
          "name": "stdout"
        }
      ]
    },
    {
      "cell_type": "code",
      "metadata": {
        "id": "NinOFfNyKO5K",
        "colab_type": "code",
        "colab": {},
        "outputId": "d598b2b9-7fa0-4973-ffb7-d99ff5d0408a"
      },
      "source": [
        "# Multiply a matrix by a constant:\n",
        "# x has shape (2, 3). Numpy treats scalars as arrays of shape ();\n",
        "# these can be broadcast together to shape (2, 3), producing the\n",
        "# following array:\n",
        "print x * 2"
      ],
      "execution_count": 0,
      "outputs": [
        {
          "output_type": "stream",
          "text": [
            "[[ 2  4  6]\n",
            " [ 8 10 12]]\n"
          ],
          "name": "stdout"
        }
      ]
    },
    {
      "cell_type": "markdown",
      "metadata": {
        "id": "u_lWkcFoKO5L",
        "colab_type": "text"
      },
      "source": [
        "Broadcasting typically makes your code more concise and faster, so you should strive to use it where possible."
      ]
    },
    {
      "cell_type": "markdown",
      "metadata": {
        "id": "J6XFTzv8KO5L",
        "colab_type": "text"
      },
      "source": [
        "This brief overview has touched on many of the important things that you need to know about numpy, but is far from complete. Check out the [numpy reference](http://docs.scipy.org/doc/numpy/reference/) to find out much more about numpy."
      ]
    },
    {
      "cell_type": "markdown",
      "metadata": {
        "id": "5-W7R7OuKO5L",
        "colab_type": "text"
      },
      "source": [
        "##Matplotlib"
      ]
    },
    {
      "cell_type": "markdown",
      "metadata": {
        "id": "4acc_6GeKO5L",
        "colab_type": "text"
      },
      "source": [
        "Matplotlib is a plotting library. In this section give a brief introduction to the `matplotlib.pyplot` module, which provides a plotting system similar to that of MATLAB."
      ]
    },
    {
      "cell_type": "code",
      "metadata": {
        "id": "2udibWJSKO5M",
        "colab_type": "code",
        "colab": {}
      },
      "source": [
        "import matplotlib.pyplot as plt"
      ],
      "execution_count": 0,
      "outputs": []
    },
    {
      "cell_type": "markdown",
      "metadata": {
        "id": "pUCFE_Y9KO5N",
        "colab_type": "text"
      },
      "source": [
        "By running this special iPython command, we will be displaying plots inline:"
      ]
    },
    {
      "cell_type": "code",
      "metadata": {
        "id": "9uw1b5q-KO5N",
        "colab_type": "code",
        "colab": {}
      },
      "source": [
        "%matplotlib inline"
      ],
      "execution_count": 0,
      "outputs": []
    },
    {
      "cell_type": "markdown",
      "metadata": {
        "id": "XXkYmL4VKO5O",
        "colab_type": "text"
      },
      "source": [
        "###Plotting"
      ]
    },
    {
      "cell_type": "markdown",
      "metadata": {
        "id": "pnOOCC09KO5O",
        "colab_type": "text"
      },
      "source": [
        "The most important function in `matplotlib` is plot, which allows you to plot 2D data. Here is a simple example:"
      ]
    },
    {
      "cell_type": "code",
      "metadata": {
        "id": "bvv8bZQ-KO5O",
        "colab_type": "code",
        "colab": {},
        "outputId": "def673d3-1996-4bc9-c529-9735bc54ea84"
      },
      "source": [
        "# Compute the x and y coordinates for points on a sine curve\n",
        "x = np.arange(0, 3 * np.pi, 0.1)\n",
        "y = np.sin(x)\n",
        "\n",
        "# Plot the points using matplotlib\n",
        "plt.plot(x, y)"
      ],
      "execution_count": 0,
      "outputs": [
        {
          "output_type": "execute_result",
          "data": {},
          "metadata": {
            "tags": []
          },
          "execution_count": 252
        },
        {
          "output_type": "display_data",
          "data": {},
          "metadata": {
            "tags": []
          }
        }
      ]
    },
    {
      "cell_type": "markdown",
      "metadata": {
        "id": "4mi5ZLRnKO5P",
        "colab_type": "text"
      },
      "source": [
        "With just a little bit of extra work we can easily plot multiple lines at once, and add a title, legend, and axis labels:"
      ]
    },
    {
      "cell_type": "code",
      "metadata": {
        "id": "okMPplXPKO5Q",
        "colab_type": "code",
        "colab": {},
        "outputId": "c624bdfe-45bc-4c17-a298-4e806b38449a"
      },
      "source": [
        "y_sin = np.sin(x)\n",
        "y_cos = np.cos(x)\n",
        "\n",
        "# Plot the points using matplotlib\n",
        "plt.plot(x, y_sin)\n",
        "plt.plot(x, y_cos)\n",
        "plt.xlabel('x axis label')\n",
        "plt.ylabel('y axis label')\n",
        "plt.title('Sine and Cosine')\n",
        "plt.legend(['Sine', 'Cosine'])"
      ],
      "execution_count": 0,
      "outputs": [
        {
          "output_type": "execute_result",
          "data": {},
          "metadata": {
            "tags": []
          },
          "execution_count": 254
        },
        {
          "output_type": "display_data",
          "data": {},
          "metadata": {
            "tags": []
          }
        }
      ]
    },
    {
      "cell_type": "markdown",
      "metadata": {
        "id": "VZhLoDIJKO5Q",
        "colab_type": "text"
      },
      "source": [
        "###Subplots "
      ]
    },
    {
      "cell_type": "markdown",
      "metadata": {
        "id": "VzrrS0tlKO5R",
        "colab_type": "text"
      },
      "source": [
        "You can plot different things in the same figure using the subplot function. Here is an example:"
      ]
    },
    {
      "cell_type": "code",
      "metadata": {
        "id": "p0qZkyJlKO5R",
        "colab_type": "code",
        "colab": {},
        "outputId": "45ed6de5-ca61-478d-a3e2-bebda952a607"
      },
      "source": [
        "# Compute the x and y coordinates for points on sine and cosine curves\n",
        "x = np.arange(0, 3 * np.pi, 0.1)\n",
        "y_sin = np.sin(x)\n",
        "y_cos = np.cos(x)\n",
        "\n",
        "# Set up a subplot grid that has height 2 and width 1,\n",
        "# and set the first such subplot as active.\n",
        "plt.subplot(2, 1, 1)\n",
        "\n",
        "# Make the first plot\n",
        "plt.plot(x, y_sin)\n",
        "plt.title('Sine')\n",
        "\n",
        "# Set the second subplot as active, and make the second plot.\n",
        "plt.subplot(2, 1, 2)\n",
        "plt.plot(x, y_cos)\n",
        "plt.title('Cosine')\n",
        "\n",
        "# Show the figure.\n",
        "plt.show()"
      ],
      "execution_count": 0,
      "outputs": [
        {
          "output_type": "display_data",
          "data": {},
          "metadata": {
            "tags": []
          }
        }
      ]
    },
    {
      "cell_type": "markdown",
      "metadata": {
        "id": "UEfn5P91KO5T",
        "colab_type": "text"
      },
      "source": [
        "You can read much more about the `subplot` function in the [documentation](http://matplotlib.org/api/pyplot_api.html#matplotlib.pyplot.subplot)."
      ]
    },
    {
      "cell_type": "code",
      "metadata": {
        "id": "_TaXK9h0KO5U",
        "colab_type": "code",
        "colab": {}
      },
      "source": [
        ""
      ],
      "execution_count": 0,
      "outputs": []
    }
  ]
}