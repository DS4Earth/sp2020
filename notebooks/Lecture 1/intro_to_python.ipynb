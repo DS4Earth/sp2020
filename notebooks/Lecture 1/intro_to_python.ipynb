{
  "nbformat": 4,
  "nbformat_minor": 0,
  "metadata": {
    "kernelspec": {
      "display_name": "Python 3",
      "language": "python",
      "name": "python3"
    },
    "language_info": {
      "codemirror_mode": {
        "name": "ipython",
        "version": 3
      },
      "file_extension": ".py",
      "mimetype": "text/x-python",
      "name": "python",
      "nbconvert_exporter": "python",
      "pygments_lexer": "ipython3",
      "version": "3.6.2"
    },
    "colab": {
      "name": "intro_to_python.ipynb",
      "provenance": []
    }
  },
  "cells": [
    {
      "cell_type": "markdown",
      "metadata": {
        "id": "_uyqkmGwNh0r",
        "colab_type": "text"
      },
      "source": [
        "# Core Python Language #\n",
        "\n",
        "Mostly copied from the [official python tutorial](https://docs.python.org/3/tutorial/)"
      ]
    },
    {
      "cell_type": "markdown",
      "metadata": {
        "id": "Fe4EiXdNNh0t",
        "colab_type": "text"
      },
      "source": [
        "## Invoking Python ##\n",
        "\n",
        "There are three main ways to use python.\n",
        "\n",
        "1. By running a python file, e.g. `python myscript.py`\n",
        "1. Through an interactive console (python interpreter or ipython shell)\n",
        "1. In an interactive iPython notebook\n",
        "\n",
        "We will be using the iPython notebook."
      ]
    },
    {
      "cell_type": "markdown",
      "metadata": {
        "id": "G-ZhJIvWNh0u",
        "colab_type": "text"
      },
      "source": [
        "## Python Versions ##\n",
        "\n",
        "There are two versions of the python language out there: python 2 and python 3. Python 2 is more common in the wild but is depracated. The community is moving to python 3. As new python learners, you should learn python 3. But it is important to be aware that python 2 exists. It is possible that a package you want to use is only supported in python 2. In general, it is pretty easy to switch between then.\n",
        "\n",
        "Some of the main changes in python 3 are:\n",
        "\n",
        "* ``print`` is a function\n",
        "* Integer division returns a float\n",
        "* Iterators behave differently\n",
        "* Unicode is used for encoding code\n"
      ]
    },
    {
      "cell_type": "markdown",
      "metadata": {
        "id": "ugIaJZRRNh0v",
        "colab_type": "text"
      },
      "source": [
        "## Basic Variables: Numbers and String ##"
      ]
    },
    {
      "cell_type": "code",
      "metadata": {
        "id": "7yZ1hDYCNh0v",
        "colab_type": "code",
        "colab": {}
      },
      "source": [
        "# comments are anything that comes after the \"#\" symbol\n",
        "a = 1       # assign 1 to variable a\n",
        "b = \"hello\" # assign \"hello\" to variable b"
      ],
      "execution_count": 0,
      "outputs": []
    },
    {
      "cell_type": "markdown",
      "metadata": {
        "id": "_3C69INuNh0y",
        "colab_type": "text"
      },
      "source": [
        "The following identifiers are used as reserved words, or keywords of the language, and cannot be used as ordinary identifiers. They must be spelled exactly as written here:\n",
        "\n",
        "    False      class      finally    is         return\n",
        "    None       continue   for        lambda     try\n",
        "    True       def        from       nonlocal   while\n",
        "    and        del        global     not        with\n",
        "    as         elif       if         or         yield\n",
        "    assert     else       import     pass\n",
        "    break      except     in         raise\n",
        "    \n",
        "Additionally, the following a built in functions which are always available in your namespace once you open a python interpreter\n",
        "\n",
        "    abs() dict() help() min() setattr() all() dir() hex() next() slice() any()\n",
        "    divmod() id() object() sorted() ascii() enumerate() input() oct() staticmethod()\n",
        "    bin() eval() int() open() str() bool() exec() isinstance() ord() sum() bytearray()\n",
        "    filter() issubclass() pow() super() bytes() float() iter() print() tuple()\n",
        "    callable() format() len() property() type() chr() frozenset() list() range()\n",
        "    vars() classmethod() getattr() locals() repr() zip() compile() globals() map()\n",
        "    reversed() __import__() complex() hasattr() max() round() delattr() hash()\n",
        "    memoryview() set()\n",
        "\n"
      ]
    },
    {
      "cell_type": "code",
      "metadata": {
        "id": "e2xZU6DWNh0z",
        "colab_type": "code",
        "colab": {},
        "outputId": "cf90a2b4-fdf8-4fcb-87fe-5a972fd96f4c"
      },
      "source": [
        "# how to we see our variables?\n",
        "print(a)\n",
        "print(b)\n",
        "print(a,b)"
      ],
      "execution_count": 0,
      "outputs": [
        {
          "output_type": "stream",
          "text": [
            "1\n",
            "hello\n",
            "1 hello\n"
          ],
          "name": "stdout"
        }
      ]
    },
    {
      "cell_type": "markdown",
      "metadata": {
        "id": "s5_EFh_3Nh02",
        "colab_type": "text"
      },
      "source": [
        "All variables are objects. Every object has a type (class). To find out what type your variables are"
      ]
    },
    {
      "cell_type": "code",
      "metadata": {
        "id": "-IGrrBlbNh02",
        "colab_type": "code",
        "colab": {},
        "outputId": "f5690c1d-c1dc-4316-fae0-80349f52dc46"
      },
      "source": [
        "print(type(a))\n",
        "print(type(b))"
      ],
      "execution_count": 0,
      "outputs": [
        {
          "output_type": "stream",
          "text": [
            "<class 'int'>\n",
            "<class 'str'>\n"
          ],
          "name": "stdout"
        }
      ]
    },
    {
      "cell_type": "code",
      "metadata": {
        "id": "oCrhSzjpNh04",
        "colab_type": "code",
        "colab": {},
        "outputId": "12becabb-1236-46ff-bab5-da9d6ff05457"
      },
      "source": [
        "# as a shortcut, iPython notebooks will automatically print whatever is on the last line\n",
        "type(b)"
      ],
      "execution_count": 0,
      "outputs": [
        {
          "output_type": "execute_result",
          "data": {
            "text/plain": [
              "str"
            ]
          },
          "metadata": {
            "tags": []
          },
          "execution_count": 5
        }
      ]
    },
    {
      "cell_type": "code",
      "metadata": {
        "id": "6kM1OdBsNh07",
        "colab_type": "code",
        "colab": {},
        "outputId": "da36a182-6fd6-4aa3-f78a-1a7639832a71"
      },
      "source": [
        "# we can check for the type of an object\n",
        "print(type(a) is int)\n",
        "print(type(a) is str)"
      ],
      "execution_count": 0,
      "outputs": [
        {
          "output_type": "stream",
          "text": [
            "True\n",
            "False\n"
          ],
          "name": "stdout"
        }
      ]
    },
    {
      "cell_type": "markdown",
      "metadata": {
        "id": "v11DPvD5Nh09",
        "colab_type": "text"
      },
      "source": [
        "Different objects attributes and methods, which can be accessed via the syntax ``variable.method``\n",
        "\n",
        "IPython will autocomplete if you press ``<tab>`` to show you the methods available."
      ]
    },
    {
      "cell_type": "code",
      "metadata": {
        "id": "2RnbstH7Nh0-",
        "colab_type": "code",
        "colab": {},
        "outputId": "c343cbfb-2f80-4a0a-b960-71ce5d28c668"
      },
      "source": [
        "# this returns the method itself\n",
        "b.capitalize"
      ],
      "execution_count": 0,
      "outputs": [
        {
          "output_type": "execute_result",
          "data": {
            "text/plain": [
              "<function str.capitalize>"
            ]
          },
          "metadata": {
            "tags": []
          },
          "execution_count": 7
        }
      ]
    },
    {
      "cell_type": "code",
      "metadata": {
        "id": "I8SzzJ67Nh1A",
        "colab_type": "code",
        "colab": {},
        "outputId": "e228f316-6460-4e5b-8fbe-12a1f1d40378"
      },
      "source": [
        "# this calls the method\n",
        "b.capitalize()\n",
        "# there are lots of other methods"
      ],
      "execution_count": 0,
      "outputs": [
        {
          "output_type": "execute_result",
          "data": {
            "text/plain": [
              "'Hello'"
            ]
          },
          "metadata": {
            "tags": []
          },
          "execution_count": 8
        }
      ]
    },
    {
      "cell_type": "code",
      "metadata": {
        "id": "kZdoEMr4Nh1C",
        "colab_type": "code",
        "colab": {},
        "outputId": "f95f543e-4396-4853-d37a-ca574a9f20f1"
      },
      "source": [
        "# binary operations act differently on different types of objects\n",
        "c = 'World'\n",
        "print(b + c)\n",
        "print(a + 2)\n",
        "print(a + b)"
      ],
      "execution_count": 0,
      "outputs": [
        {
          "output_type": "stream",
          "text": [
            "helloWorld\n",
            "3\n"
          ],
          "name": "stdout"
        },
        {
          "output_type": "error",
          "ename": "TypeError",
          "evalue": "unsupported operand type(s) for +: 'int' and 'str'",
          "traceback": [
            "\u001b[0;31m---------------------------------------------------------------------------\u001b[0m",
            "\u001b[0;31mTypeError\u001b[0m                                 Traceback (most recent call last)",
            "\u001b[0;32m<ipython-input-9-d0ea84c04eb4>\u001b[0m in \u001b[0;36m<module>\u001b[0;34m()\u001b[0m\n\u001b[1;32m      3\u001b[0m \u001b[0mprint\u001b[0m\u001b[0;34m(\u001b[0m\u001b[0mb\u001b[0m \u001b[0;34m+\u001b[0m \u001b[0mc\u001b[0m\u001b[0;34m)\u001b[0m\u001b[0;34m\u001b[0m\u001b[0m\n\u001b[1;32m      4\u001b[0m \u001b[0mprint\u001b[0m\u001b[0;34m(\u001b[0m\u001b[0ma\u001b[0m \u001b[0;34m+\u001b[0m \u001b[0;36m2\u001b[0m\u001b[0;34m)\u001b[0m\u001b[0;34m\u001b[0m\u001b[0m\n\u001b[0;32m----> 5\u001b[0;31m \u001b[0mprint\u001b[0m\u001b[0;34m(\u001b[0m\u001b[0ma\u001b[0m \u001b[0;34m+\u001b[0m \u001b[0mb\u001b[0m\u001b[0;34m)\u001b[0m\u001b[0;34m\u001b[0m\u001b[0m\n\u001b[0m",
            "\u001b[0;31mTypeError\u001b[0m: unsupported operand type(s) for +: 'int' and 'str'"
          ]
        }
      ]
    },
    {
      "cell_type": "markdown",
      "metadata": {
        "id": "HWuveZCeNh1E",
        "colab_type": "text"
      },
      "source": [
        "## Math ##\n",
        "\n",
        "Basic arithmetic and boolean logic is part of the core python library."
      ]
    },
    {
      "cell_type": "code",
      "metadata": {
        "id": "VdBksLbvNh1E",
        "colab_type": "code",
        "colab": {},
        "outputId": "2ae91e9e-a999-4c9c-96bc-671544d2a4a1"
      },
      "source": [
        "# addition / subtraction\n",
        "1+1-5"
      ],
      "execution_count": 0,
      "outputs": [
        {
          "output_type": "execute_result",
          "data": {
            "text/plain": [
              "-3"
            ]
          },
          "metadata": {
            "tags": []
          },
          "execution_count": 10
        }
      ]
    },
    {
      "cell_type": "code",
      "metadata": {
        "id": "NbEYqh-xNh1G",
        "colab_type": "code",
        "colab": {},
        "outputId": "8b014bfe-9b2b-4273-af58-9ea696b4bfd4"
      },
      "source": [
        "# multiplication\n",
        "5 * 10"
      ],
      "execution_count": 0,
      "outputs": [
        {
          "output_type": "execute_result",
          "data": {
            "text/plain": [
              "50"
            ]
          },
          "metadata": {
            "tags": []
          },
          "execution_count": 11
        }
      ]
    },
    {
      "cell_type": "code",
      "metadata": {
        "id": "m5UPWccwNh1J",
        "colab_type": "code",
        "colab": {},
        "outputId": "4fcfa171-86e9-48c4-f721-1cab85d419ee"
      },
      "source": [
        "# division\n",
        "1/2"
      ],
      "execution_count": 0,
      "outputs": [
        {
          "output_type": "execute_result",
          "data": {
            "text/plain": [
              "0.5"
            ]
          },
          "metadata": {
            "tags": []
          },
          "execution_count": 12
        }
      ]
    },
    {
      "cell_type": "code",
      "metadata": {
        "id": "qMzd2XwKNh1L",
        "colab_type": "code",
        "colab": {},
        "outputId": "43f9b506-0be4-4fcb-caff-044125bafbad"
      },
      "source": [
        "# that was automatically converted to a float\n",
        "type(1/2)"
      ],
      "execution_count": 0,
      "outputs": [
        {
          "output_type": "execute_result",
          "data": {
            "text/plain": [
              "float"
            ]
          },
          "metadata": {
            "tags": []
          },
          "execution_count": 13
        }
      ]
    },
    {
      "cell_type": "code",
      "metadata": {
        "id": "JRXRjohnNh1N",
        "colab_type": "code",
        "colab": {},
        "outputId": "c6dfd7f3-4be6-421f-e229-92f099963736"
      },
      "source": [
        "# exponentiation\n",
        "2**4"
      ],
      "execution_count": 0,
      "outputs": [
        {
          "output_type": "execute_result",
          "data": {
            "text/plain": [
              "16"
            ]
          },
          "metadata": {
            "tags": []
          },
          "execution_count": 14
        }
      ]
    },
    {
      "cell_type": "code",
      "metadata": {
        "id": "UDesjXvpNh1Q",
        "colab_type": "code",
        "colab": {},
        "outputId": "dc756547-36b7-438f-88b9-cc8b71afd341"
      },
      "source": [
        "# rounding\n",
        "round(9/10)"
      ],
      "execution_count": 0,
      "outputs": [
        {
          "output_type": "execute_result",
          "data": {
            "text/plain": [
              "1"
            ]
          },
          "metadata": {
            "tags": []
          },
          "execution_count": 15
        }
      ]
    },
    {
      "cell_type": "code",
      "metadata": {
        "id": "QnzptyooNh1S",
        "colab_type": "code",
        "colab": {},
        "outputId": "a1607381-b012-4069-f9da-9f6692d01bd8"
      },
      "source": [
        "# built in complex number support\n",
        "(1+2j) / (3-4j)"
      ],
      "execution_count": 0,
      "outputs": [
        {
          "output_type": "execute_result",
          "data": {
            "text/plain": [
              "(-0.2+0.4j)"
            ]
          },
          "metadata": {
            "tags": []
          },
          "execution_count": 16
        }
      ]
    },
    {
      "cell_type": "code",
      "metadata": {
        "id": "_h-dAG1oNh1U",
        "colab_type": "code",
        "colab": {},
        "outputId": "37776608-53cd-4a32-ec95-0fa6108f70a9"
      },
      "source": [
        "# logic\n",
        "True and True"
      ],
      "execution_count": 0,
      "outputs": [
        {
          "output_type": "execute_result",
          "data": {
            "text/plain": [
              "True"
            ]
          },
          "metadata": {
            "tags": []
          },
          "execution_count": 17
        }
      ]
    },
    {
      "cell_type": "code",
      "metadata": {
        "id": "mOrqYnErNh1Z",
        "colab_type": "code",
        "colab": {},
        "outputId": "a350f8d9-1cb2-4096-cc9b-2ee576140a89"
      },
      "source": [
        "True and False"
      ],
      "execution_count": 0,
      "outputs": [
        {
          "output_type": "execute_result",
          "data": {
            "text/plain": [
              "False"
            ]
          },
          "metadata": {
            "tags": []
          },
          "execution_count": 18
        }
      ]
    },
    {
      "cell_type": "code",
      "metadata": {
        "id": "YFy-MEw5Nh1b",
        "colab_type": "code",
        "colab": {},
        "outputId": "404e835b-6950-44c3-8c5f-89e1b7e82027"
      },
      "source": [
        "True or True"
      ],
      "execution_count": 0,
      "outputs": [
        {
          "output_type": "execute_result",
          "data": {
            "text/plain": [
              "True"
            ]
          },
          "metadata": {
            "tags": []
          },
          "execution_count": 19
        }
      ]
    },
    {
      "cell_type": "code",
      "metadata": {
        "id": "861t60_XNh1e",
        "colab_type": "code",
        "colab": {},
        "outputId": "267a5fcd-88be-4730-9a87-396f004ff320"
      },
      "source": [
        "(not True) or (not False)"
      ],
      "execution_count": 0,
      "outputs": [
        {
          "output_type": "execute_result",
          "data": {
            "text/plain": [
              "True"
            ]
          },
          "metadata": {
            "tags": []
          },
          "execution_count": 20
        }
      ]
    },
    {
      "cell_type": "markdown",
      "metadata": {
        "id": "BHihV6ZLNh1h",
        "colab_type": "text"
      },
      "source": [
        "## Conditionals ##\n",
        "\n",
        "The first step to programming. Plus an intro to python syntax."
      ]
    },
    {
      "cell_type": "code",
      "metadata": {
        "id": "B20CmCRVNh1h",
        "colab_type": "code",
        "colab": {},
        "outputId": "f1449658-b9d6-4dc4-fead-2ed9aa75dc5f"
      },
      "source": [
        "x = 100\n",
        "if x > 0:\n",
        "    print('Positive Number')\n",
        "elif x < 0:\n",
        "    print('Negative Number')\n",
        "else:\n",
        "    print ('Zero!')"
      ],
      "execution_count": 0,
      "outputs": [
        {
          "output_type": "stream",
          "text": [
            "Positive Number\n"
          ],
          "name": "stdout"
        }
      ]
    },
    {
      "cell_type": "code",
      "metadata": {
        "id": "xmlmq5w5Nh1j",
        "colab_type": "code",
        "colab": {},
        "outputId": "a6350844-2b43-4f6b-f429-9f716b50d7e7"
      },
      "source": [
        "# indentation is MANDATORY\n",
        "# blocks are closed by indentation level\n",
        "if x > 0:\n",
        "    print('Positive Number')\n",
        "    if x >= 100:\n",
        "        print('Huge number!')"
      ],
      "execution_count": 0,
      "outputs": [
        {
          "output_type": "stream",
          "text": [
            "Positive Number\n",
            "Huge number!\n"
          ],
          "name": "stdout"
        }
      ]
    },
    {
      "cell_type": "markdown",
      "metadata": {
        "id": "VjzOzro4Nh1k",
        "colab_type": "text"
      },
      "source": [
        "## More Flow Control ##"
      ]
    },
    {
      "cell_type": "code",
      "metadata": {
        "id": "pbbkAzq_Nh1l",
        "colab_type": "code",
        "colab": {},
        "outputId": "89629820-f64b-4a0b-9461-f4fb4dec46fc"
      },
      "source": [
        "# make a loop \n",
        "count = 0\n",
        "while count < 10:\n",
        "    # bad way\n",
        "    # count = count + 1\n",
        "    # better way\n",
        "    count += 1\n",
        "print(count)"
      ],
      "execution_count": 0,
      "outputs": [
        {
          "output_type": "stream",
          "text": [
            "10\n"
          ],
          "name": "stdout"
        }
      ]
    },
    {
      "cell_type": "code",
      "metadata": {
        "id": "NS6203jqNh1n",
        "colab_type": "code",
        "colab": {},
        "outputId": "defeacdf-4cae-4f2c-d1ad-301d09a7f1bc"
      },
      "source": [
        "# use range\n",
        "for i in range(5):\n",
        "    print(i)"
      ],
      "execution_count": 0,
      "outputs": [
        {
          "output_type": "stream",
          "text": [
            "0\n",
            "1\n",
            "2\n",
            "3\n",
            "4\n"
          ],
          "name": "stdout"
        }
      ]
    },
    {
      "cell_type": "markdown",
      "metadata": {
        "id": "N2g5YIs8Nh1p",
        "colab_type": "text"
      },
      "source": [
        "__Important point__: in python, we always count from 0!"
      ]
    },
    {
      "cell_type": "code",
      "metadata": {
        "id": "2vqCa9qVNh1p",
        "colab_type": "code",
        "colab": {},
        "outputId": "01eef3d8-96d3-41c8-b96e-8c7cf85ccfa4"
      },
      "source": [
        "# what is range?\n",
        "type(range)"
      ],
      "execution_count": 0,
      "outputs": [
        {
          "output_type": "execute_result",
          "data": {
            "text/plain": [
              "type"
            ]
          },
          "metadata": {
            "tags": []
          },
          "execution_count": 30
        }
      ]
    },
    {
      "cell_type": "code",
      "metadata": {
        "collapsed": true,
        "id": "FExSPdVdNh1r",
        "colab_type": "code",
        "colab": {}
      },
      "source": [
        "range?"
      ],
      "execution_count": 0,
      "outputs": []
    },
    {
      "cell_type": "code",
      "metadata": {
        "id": "x0bnegf3Nh1s",
        "colab_type": "code",
        "colab": {},
        "outputId": "54167733-6724-437f-d582-ebe2b57e86e9"
      },
      "source": [
        "# iterate over a list we make up\n",
        "for pet in ['dog', 'cat', 'fish']:\n",
        "    print(pet, len(pet))"
      ],
      "execution_count": 0,
      "outputs": [
        {
          "output_type": "stream",
          "text": [
            "dog 3\n",
            "cat 3\n",
            "fish 4\n"
          ],
          "name": "stdout"
        }
      ]
    },
    {
      "cell_type": "markdown",
      "metadata": {
        "id": "4Vt7bekVNh1u",
        "colab_type": "text"
      },
      "source": [
        "What is the thing in brackets? __A list!__ Lists are one of the core python data structures.\n",
        "\n",
        "## Lists ##"
      ]
    },
    {
      "cell_type": "code",
      "metadata": {
        "id": "3jE0cuZRNh1u",
        "colab_type": "code",
        "colab": {},
        "outputId": "eb3ddb11-1ef5-4947-d163-1475feb800d6"
      },
      "source": [
        "l = ['dog', 'cat', 'fish']\n",
        "type(l)"
      ],
      "execution_count": 0,
      "outputs": [
        {
          "output_type": "execute_result",
          "data": {
            "text/plain": [
              "list"
            ]
          },
          "metadata": {
            "tags": []
          },
          "execution_count": 64
        }
      ]
    },
    {
      "cell_type": "code",
      "metadata": {
        "id": "Y3FJrnrmNh1w",
        "colab_type": "code",
        "colab": {},
        "outputId": "d8de415e-6e57-46c3-8449-0a3b68598c77"
      },
      "source": [
        "# list have lots of methods\n",
        "l.sort()\n",
        "l"
      ],
      "execution_count": 0,
      "outputs": [
        {
          "output_type": "execute_result",
          "data": {
            "text/plain": [
              "['cat', 'dog', 'fish']"
            ]
          },
          "metadata": {
            "tags": []
          },
          "execution_count": 39
        }
      ]
    },
    {
      "cell_type": "code",
      "metadata": {
        "id": "grJIXTHmNh1z",
        "colab_type": "code",
        "colab": {},
        "outputId": "960756f3-f211-432d-f839-16b7d1570dcc"
      },
      "source": [
        "# we can convert a range to a list\n",
        "r = list(range(5))\n",
        "r"
      ],
      "execution_count": 0,
      "outputs": [
        {
          "output_type": "execute_result",
          "data": {
            "text/plain": [
              "[0, 1, 2, 3, 4]"
            ]
          },
          "metadata": {
            "tags": []
          },
          "execution_count": 46
        }
      ]
    },
    {
      "cell_type": "code",
      "metadata": {
        "id": "KhSrduiANh10",
        "colab_type": "code",
        "colab": {},
        "outputId": "3eeb3e18-b2a5-4783-a001-8a1a1ca391e1"
      },
      "source": [
        "while r:\n",
        "    p = r.pop()\n",
        "    print('p:', p)\n",
        "    print('r:', r)"
      ],
      "execution_count": 0,
      "outputs": [
        {
          "output_type": "stream",
          "text": [
            "p: 4\n",
            "r: [0, 1, 2, 3]\n",
            "p: 3\n",
            "r: [0, 1, 2]\n",
            "p: 2\n",
            "r: [0, 1]\n",
            "p: 1\n",
            "r: [0]\n",
            "p: 0\n",
            "r: []\n"
          ],
          "name": "stdout"
        }
      ]
    },
    {
      "cell_type": "markdown",
      "metadata": {
        "id": "jYOcc6RxNh12",
        "colab_type": "text"
      },
      "source": [
        "There are many different ways to interact with lists. Exploring them is part of the fun of python.\n",
        "\n",
        "__list.append(x)__ Add an item to the end of the list. Equivalent to a[len(a):] = [x].\n",
        "\n",
        "__list.extend(L)__ \n",
        "Extend the list by appending all the items in the given list. Equivalent to a[len(a):] = L.\n",
        "\n",
        "__list.insert(i, x)__ Insert an item at a given position. The first argument is the index of the element before which to insert, so a.insert(0, x) inserts at the front of the list, and a.insert(len(a), x) is equivalent to a.append(x).\n",
        "\n",
        "__list.remove(x)__ Remove the first item from the list whose value is x. It is an error if there is no such item.\n",
        "\n",
        "__list.pop([i])__ Remove the item at the given position in the list, and return it. If no index is specified, a.pop() removes and returns the last item in the list. (The square brackets around the i in the method signature denote that the parameter is optional, not that you should type square brackets at that position. You will see this notation frequently in the Python Library Reference.)\n",
        "\n",
        "__list.clear()__ Remove all items from the list. Equivalent to del a[:].\n",
        "\n",
        "__list.index(x)__ Return the index in the list of the first item whose value is x. It is an error if there is no such item.\n",
        "\n",
        "__list.count(x)__ Return the number of times x appears in the list.\n",
        "\n",
        "__list.sort()__ Sort the items of the list in place.\n",
        "\n",
        "__list.reverse()__ Reverse the elements of the list in place.\n",
        "\n",
        "__list.copy()__ Return a shallow copy of the list. Equivalent to a[:].\n",
        "\n",
        "\n",
        "Don't assume you know how list operations work!"
      ]
    },
    {
      "cell_type": "code",
      "metadata": {
        "id": "xVsxrUoiNh13",
        "colab_type": "code",
        "colab": {},
        "outputId": "5cb156c2-acd7-4b44-e599-6504c0294fec"
      },
      "source": [
        "# \"add\" two lists\n",
        "x = list(range(5))\n",
        "y = list(range(10,15))\n",
        "z = x + y\n",
        "z"
      ],
      "execution_count": 0,
      "outputs": [
        {
          "output_type": "execute_result",
          "data": {
            "text/plain": [
              "[0, 1, 2, 3, 4, 10, 11, 12, 13, 14]"
            ]
          },
          "metadata": {
            "tags": []
          },
          "execution_count": 52
        }
      ]
    },
    {
      "cell_type": "code",
      "metadata": {
        "id": "IJu5xrJ_Nh14",
        "colab_type": "code",
        "colab": {},
        "outputId": "e85ad876-e249-4410-ef01-17f039ad44ab"
      },
      "source": [
        "# access items from a list\n",
        "print('first', z[0])\n",
        "print('last', z[-1])\n",
        "print('first 3', z[:3])\n",
        "print('last 3', z[-3:])\n",
        "print('middle, skipping every other item', z[5:10:2])"
      ],
      "execution_count": 0,
      "outputs": [
        {
          "output_type": "stream",
          "text": [
            "first 0\n",
            "last 14\n",
            "first 3 [0, 1, 2]\n",
            "last 3 [12, 13, 14]\n",
            "middle, skipping every other item [10, 12, 14]\n"
          ],
          "name": "stdout"
        }
      ]
    },
    {
      "cell_type": "markdown",
      "metadata": {
        "id": "6s6iMN0fNh17",
        "colab_type": "text"
      },
      "source": [
        "__MEMORIZE THIS SYNTAX!__ It is central to so much of python and often proves confusing for users coming from other languages.\n",
        "\n",
        "In terms of set notation, python indexing is _left inclusive_, _right exclusive_. If you remember this, you will never go wrong."
      ]
    },
    {
      "cell_type": "code",
      "metadata": {
        "id": "jgfRpSJeNh18",
        "colab_type": "code",
        "colab": {},
        "outputId": "c1197ce9-0447-48b5-92cc-a0f820b2236b"
      },
      "source": [
        "# that means we get an error from the following\n",
        "N = len(z)\n",
        "z[N]"
      ],
      "execution_count": 0,
      "outputs": [
        {
          "output_type": "error",
          "ename": "IndexError",
          "evalue": "list index out of range",
          "traceback": [
            "\u001b[0;31m---------------------------------------------------------------------------\u001b[0m",
            "\u001b[0;31mIndexError\u001b[0m                                Traceback (most recent call last)",
            "\u001b[0;32m<ipython-input-60-a6804f3b0ad3>\u001b[0m in \u001b[0;36m<module>\u001b[0;34m()\u001b[0m\n\u001b[1;32m      1\u001b[0m \u001b[0;31m# that means we get an error from the following\u001b[0m\u001b[0;34m\u001b[0m\u001b[0;34m\u001b[0m\u001b[0m\n\u001b[1;32m      2\u001b[0m \u001b[0mN\u001b[0m \u001b[0;34m=\u001b[0m \u001b[0mlen\u001b[0m\u001b[0;34m(\u001b[0m\u001b[0mz\u001b[0m\u001b[0;34m)\u001b[0m\u001b[0;34m\u001b[0m\u001b[0m\n\u001b[0;32m----> 3\u001b[0;31m \u001b[0mz\u001b[0m\u001b[0;34m[\u001b[0m\u001b[0mN\u001b[0m\u001b[0;34m]\u001b[0m\u001b[0;34m\u001b[0m\u001b[0m\n\u001b[0m",
            "\u001b[0;31mIndexError\u001b[0m: list index out of range"
          ]
        }
      ]
    },
    {
      "cell_type": "code",
      "metadata": {
        "id": "R6Q5fFWmNh1-",
        "colab_type": "code",
        "colab": {},
        "outputId": "4b1bd31d-9aa1-4a19-b243-a13c58216cf2"
      },
      "source": [
        "# this index notation also applies to strings\n",
        "name = 'Ryan Abernathey'\n",
        "print(name[:4])"
      ],
      "execution_count": 0,
      "outputs": [
        {
          "output_type": "stream",
          "text": [
            "Ryan\n"
          ],
          "name": "stdout"
        }
      ]
    },
    {
      "cell_type": "code",
      "metadata": {
        "id": "TK3X3vvYNh2B",
        "colab_type": "code",
        "colab": {},
        "outputId": "d0b9cff0-ac29-43ec-8c8c-d40c2500251b"
      },
      "source": [
        "# you can also test for the presence of items in a list\n",
        "5 in z"
      ],
      "execution_count": 0,
      "outputs": [
        {
          "output_type": "execute_result",
          "data": {
            "text/plain": [
              "False"
            ]
          },
          "metadata": {
            "tags": []
          },
          "execution_count": 57
        }
      ]
    },
    {
      "cell_type": "markdown",
      "metadata": {
        "id": "Pa6ETbEjNh2D",
        "colab_type": "text"
      },
      "source": [
        "Lists are not meant for math! They don't have a datatype."
      ]
    },
    {
      "cell_type": "code",
      "metadata": {
        "id": "ubjrm_NqNh2D",
        "colab_type": "code",
        "colab": {},
        "outputId": "40778c81-708e-4bf8-de6b-1277f1d27a14"
      },
      "source": [
        "z[4] = 'fish'\n",
        "z"
      ],
      "execution_count": 0,
      "outputs": [
        {
          "output_type": "execute_result",
          "data": {
            "text/plain": [
              "[0, 1, 2, 3, 'fish', 10, 11, 12, 13, 14]"
            ]
          },
          "metadata": {
            "tags": []
          },
          "execution_count": 58
        }
      ]
    },
    {
      "cell_type": "markdown",
      "metadata": {
        "id": "0UkTlPWzNh2G",
        "colab_type": "text"
      },
      "source": [
        "Python is full of tricks for iterating and working with lists"
      ]
    },
    {
      "cell_type": "code",
      "metadata": {
        "id": "bloIulEoNh2H",
        "colab_type": "code",
        "colab": {},
        "outputId": "fb3b334a-f487-4826-f547-bb103e98b39f"
      },
      "source": [
        "# a cool python trick: list comprehension\n",
        "squares = [n**2 for n in range(5)]\n",
        "squares"
      ],
      "execution_count": 0,
      "outputs": [
        {
          "output_type": "execute_result",
          "data": {
            "text/plain": [
              "[0, 1, 4, 9, 16]"
            ]
          },
          "metadata": {
            "tags": []
          },
          "execution_count": 59
        }
      ]
    },
    {
      "cell_type": "code",
      "metadata": {
        "id": "fzkZjOuVNh2I",
        "colab_type": "code",
        "colab": {},
        "outputId": "4c755550-cdf1-48ba-c047-3305c8e0e21c"
      },
      "source": [
        "# iterate over two lists together uzing zip\n",
        "for item1, item2 in zip(x,y):\n",
        "    print('first:', item1, 'second:', item2)"
      ],
      "execution_count": 0,
      "outputs": [
        {
          "output_type": "stream",
          "text": [
            "first: 0 second: 10\n",
            "first: 1 second: 11\n",
            "first: 2 second: 12\n",
            "first: 3 second: 13\n",
            "first: 4 second: 14\n"
          ],
          "name": "stdout"
        }
      ]
    },
    {
      "cell_type": "markdown",
      "metadata": {
        "id": "LbszZI68Nh2K",
        "colab_type": "text"
      },
      "source": [
        "## Other Data Structures ##\n",
        "\n",
        "We are almost there. We have the building blocks we need to do basic programming. But python has some other data structures we need to learn about.\n",
        "\n",
        "## Tuples ##\n",
        "\n",
        "Tuples are similar to lists, but they are _immutable_—they can't be extended or modified. What is the point of this? Generally speaking: to pack together inhomogeneous data. Tuples can then be unpacked and distributed by other parts of your code.\n",
        "\n",
        "Tuples may seem confusing at first, but with time you will come to appreciate them."
      ]
    },
    {
      "cell_type": "code",
      "metadata": {
        "id": "GtS52B23Nh2M",
        "colab_type": "code",
        "colab": {},
        "outputId": "990acc7d-cc68-4fff-f75f-b6924881f197"
      },
      "source": [
        "# tuples are created with parentheses, or just commas\n",
        "a = ('Ryan', 33, True)\n",
        "b = 'Takaya', 25, False\n",
        "type(b)"
      ],
      "execution_count": 0,
      "outputs": [
        {
          "output_type": "execute_result",
          "data": {
            "text/plain": [
              "tuple"
            ]
          },
          "metadata": {
            "tags": []
          },
          "execution_count": 69
        }
      ]
    },
    {
      "cell_type": "code",
      "metadata": {
        "id": "hraCGUeENh2N",
        "colab_type": "code",
        "colab": {},
        "outputId": "7e51a468-1cfe-4b46-aba7-4cbe9d008354"
      },
      "source": [
        "# can be indexed like arrays\n",
        "print(a[1]) # not the first element!"
      ],
      "execution_count": 0,
      "outputs": [
        {
          "output_type": "stream",
          "text": [
            "33\n"
          ],
          "name": "stdout"
        }
      ]
    },
    {
      "cell_type": "code",
      "metadata": {
        "collapsed": true,
        "id": "-0MpSNwKNh2Q",
        "colab_type": "code",
        "colab": {}
      },
      "source": [
        "# and they can be unpacked\n",
        "name, age, status = a"
      ],
      "execution_count": 0,
      "outputs": []
    },
    {
      "cell_type": "markdown",
      "metadata": {
        "id": "Rf3-UDGzNh2S",
        "colab_type": "text"
      },
      "source": [
        "## Dictionaries ##\n",
        "\n",
        "This is an extremely useful data structure. It maps __keys__ to __values__.\n",
        "\n",
        "Dictionaries are unordered!"
      ]
    },
    {
      "cell_type": "code",
      "metadata": {
        "id": "C-TT_0P_Nh2S",
        "colab_type": "code",
        "colab": {},
        "outputId": "b8d621da-ea81-48a1-cea3-980719656d0f"
      },
      "source": [
        "# different ways to create dictionaries\n",
        "d = {'name': 'Ryan', 'age': 33}\n",
        "e = dict(name='Takaya', age=25)\n",
        "e"
      ],
      "execution_count": 0,
      "outputs": [
        {
          "output_type": "execute_result",
          "data": {
            "text/plain": [
              "{'age': 25, 'name': 'Takaya'}"
            ]
          },
          "metadata": {
            "tags": []
          },
          "execution_count": 76
        }
      ]
    },
    {
      "cell_type": "code",
      "metadata": {
        "id": "MHNd32E8Nh2U",
        "colab_type": "code",
        "colab": {},
        "outputId": "75c36532-8a9e-4c95-c246-a3afb6787df3"
      },
      "source": [
        "# access a value\n",
        "d['name']"
      ],
      "execution_count": 0,
      "outputs": [
        {
          "output_type": "execute_result",
          "data": {
            "text/plain": [
              "'Ryan'"
            ]
          },
          "metadata": {
            "tags": []
          },
          "execution_count": 82
        }
      ]
    },
    {
      "cell_type": "markdown",
      "metadata": {
        "id": "AS1mNd5MNh2X",
        "colab_type": "text"
      },
      "source": [
        "Square brackets ``[...]`` are python for \"get item\" in many different contexts."
      ]
    },
    {
      "cell_type": "code",
      "metadata": {
        "id": "NoERsmcSNh2Y",
        "colab_type": "code",
        "colab": {},
        "outputId": "07a2da4c-44ff-43c2-9882-2b8e3ede636f"
      },
      "source": [
        "# test for the presence of a key\n",
        "print('age' in d)\n",
        "print('height' in e)"
      ],
      "execution_count": 0,
      "outputs": [
        {
          "output_type": "stream",
          "text": [
            "True\n",
            "False\n"
          ],
          "name": "stdout"
        }
      ]
    },
    {
      "cell_type": "code",
      "metadata": {
        "id": "9zu8FH9aNh2Z",
        "colab_type": "code",
        "colab": {},
        "outputId": "ad7c5fec-692d-47c5-e9e1-1c122f10e9b1"
      },
      "source": [
        "# try to access a non-existant key\n",
        "d['height']"
      ],
      "execution_count": 0,
      "outputs": [
        {
          "output_type": "error",
          "ename": "KeyError",
          "evalue": "'height'",
          "traceback": [
            "\u001b[0;31m---------------------------------------------------------------------------\u001b[0m",
            "\u001b[0;31mKeyError\u001b[0m                                  Traceback (most recent call last)",
            "\u001b[0;32m<ipython-input-83-261ef018477b>\u001b[0m in \u001b[0;36m<module>\u001b[0;34m()\u001b[0m\n\u001b[1;32m      1\u001b[0m \u001b[0;31m# try to access a non-existant key\u001b[0m\u001b[0;34m\u001b[0m\u001b[0;34m\u001b[0m\u001b[0m\n\u001b[0;32m----> 2\u001b[0;31m \u001b[0md\u001b[0m\u001b[0;34m[\u001b[0m\u001b[0;34m'height'\u001b[0m\u001b[0;34m]\u001b[0m\u001b[0;34m\u001b[0m\u001b[0m\n\u001b[0m",
            "\u001b[0;31mKeyError\u001b[0m: 'height'"
          ]
        }
      ]
    },
    {
      "cell_type": "code",
      "metadata": {
        "id": "DBrTi66VNh2e",
        "colab_type": "code",
        "colab": {},
        "outputId": "dde54482-a505-4b58-a50e-1ecd32cfec17"
      },
      "source": [
        "# add a new key\n",
        "d['height'] = (5,11) # a tuple\n",
        "d"
      ],
      "execution_count": 0,
      "outputs": [
        {
          "output_type": "execute_result",
          "data": {
            "text/plain": [
              "{'age': 33, 'height': (5, 11), 'name': 'Ryan'}"
            ]
          },
          "metadata": {
            "tags": []
          },
          "execution_count": 84
        }
      ]
    },
    {
      "cell_type": "code",
      "metadata": {
        "id": "2E2rV0KzNh2g",
        "colab_type": "code",
        "colab": {},
        "outputId": "73e0c8ec-0ff1-41f9-c885-1d9962c2ed64"
      },
      "source": [
        "# keys don't have to be strings\n",
        "d[99] = 'ninety nine'\n",
        "d"
      ],
      "execution_count": 0,
      "outputs": [
        {
          "output_type": "execute_result",
          "data": {
            "text/plain": [
              "{99: 'ninety nine', 'age': 33, 'name': 'Ryan', 'height': (5, 11)}"
            ]
          },
          "metadata": {
            "tags": []
          },
          "execution_count": 86
        }
      ]
    },
    {
      "cell_type": "code",
      "metadata": {
        "id": "_dPbBsKPNh2h",
        "colab_type": "code",
        "colab": {},
        "outputId": "871a3b5a-adc9-46a3-9349-33e09fe408c5"
      },
      "source": [
        "# iterate over keys\n",
        "for k in d:\n",
        "    print(k, d[k])"
      ],
      "execution_count": 0,
      "outputs": [
        {
          "output_type": "stream",
          "text": [
            "99 ninety nine\n",
            "age 33\n",
            "name Ryan\n",
            "height (5, 11)\n"
          ],
          "name": "stdout"
        }
      ]
    },
    {
      "cell_type": "code",
      "metadata": {
        "id": "Xd4ksi4NNh2i",
        "colab_type": "code",
        "colab": {},
        "outputId": "74bb67a5-b4c2-4fd3-a842-3b6ba6942ba1"
      },
      "source": [
        "# better way\n",
        "### python 2\n",
        "### for key, val in d.iteritems()\n",
        "for key, val in d.items():\n",
        "    print(key, val)"
      ],
      "execution_count": 0,
      "outputs": [
        {
          "output_type": "stream",
          "text": [
            "99 ninety nine\n",
            "age 33\n",
            "name Ryan\n",
            "height (5, 11)\n"
          ],
          "name": "stdout"
        }
      ]
    },
    {
      "cell_type": "markdown",
      "metadata": {
        "id": "vkFsiZVPNh2k",
        "colab_type": "text"
      },
      "source": [
        "## Functions ##\n",
        "\n",
        "Functions are a central part of advanced python programming. You should try to write and use your own functions as often as possible."
      ]
    },
    {
      "cell_type": "code",
      "metadata": {
        "id": "EILgbMv_Nh2k",
        "colab_type": "code",
        "colab": {}
      },
      "source": [
        "# define a function\n",
        "def say_hello():\n",
        "    \"\"\"Return the word hello.\"\"\"\n",
        "    return 'Hello'"
      ],
      "execution_count": 0,
      "outputs": []
    },
    {
      "cell_type": "code",
      "metadata": {
        "id": "ls3m-TNqNh2l",
        "colab_type": "code",
        "colab": {},
        "outputId": "35ba28c4-acf9-4f83-eacb-73690808f30b"
      },
      "source": [
        "# functions are also objects\n",
        "type(say_hello)"
      ],
      "execution_count": 0,
      "outputs": [
        {
          "output_type": "execute_result",
          "data": {
            "text/plain": [
              "function"
            ]
          },
          "metadata": {
            "tags": []
          },
          "execution_count": 122
        }
      ]
    },
    {
      "cell_type": "code",
      "metadata": {
        "id": "3hDUqMxtNh2n",
        "colab_type": "code",
        "colab": {}
      },
      "source": [
        "# this doesnt call\n",
        "say_hello?"
      ],
      "execution_count": 0,
      "outputs": []
    },
    {
      "cell_type": "code",
      "metadata": {
        "id": "9sViotlzNh2o",
        "colab_type": "code",
        "colab": {},
        "outputId": "c552f903-baeb-4ac5-e47f-0f7b2abfc768"
      },
      "source": [
        "# this does\n",
        "say_hello()"
      ],
      "execution_count": 0,
      "outputs": [
        {
          "output_type": "execute_result",
          "data": {
            "text/plain": [
              "'Hello'"
            ]
          },
          "metadata": {
            "tags": []
          },
          "execution_count": 119
        }
      ]
    },
    {
      "cell_type": "code",
      "metadata": {
        "id": "9QuX-wPhNh2q",
        "colab_type": "code",
        "colab": {},
        "outputId": "c3c98639-8800-4fab-d377-604758135bd6"
      },
      "source": [
        "# assign the result to something\n",
        "res = say_hello()\n",
        "res"
      ],
      "execution_count": 0,
      "outputs": [
        {
          "output_type": "execute_result",
          "data": {
            "text/plain": [
              "'Hello'"
            ]
          },
          "metadata": {
            "tags": []
          },
          "execution_count": 113
        }
      ]
    },
    {
      "cell_type": "code",
      "metadata": {
        "collapsed": true,
        "id": "R5jybam2Nh2r",
        "colab_type": "code",
        "colab": {}
      },
      "source": [
        "# take some arguments\n",
        "def say_hello_to(name):\n",
        "    \"\"\"Return a greeting to `name`\"\"\"\n",
        "    return 'Hello ' + name"
      ],
      "execution_count": 0,
      "outputs": []
    },
    {
      "cell_type": "code",
      "metadata": {
        "id": "WyiyMTseNh2u",
        "colab_type": "code",
        "colab": {},
        "outputId": "c7bc09dc-40a0-45cb-98ed-f8adafb175fc"
      },
      "source": [
        "# intended usage\n",
        "say_hello_to('World')"
      ],
      "execution_count": 0,
      "outputs": [
        {
          "output_type": "execute_result",
          "data": {
            "text/plain": [
              "'Hello World'"
            ]
          },
          "metadata": {
            "tags": []
          },
          "execution_count": 126
        }
      ]
    },
    {
      "cell_type": "code",
      "metadata": {
        "id": "NxyVZobaNh2v",
        "colab_type": "code",
        "colab": {},
        "outputId": "f34fe2ad-1c66-4953-a377-42919449c48a"
      },
      "source": [
        "say_hello_to(10)"
      ],
      "execution_count": 0,
      "outputs": [
        {
          "output_type": "error",
          "ename": "TypeError",
          "evalue": "Can't convert 'int' object to str implicitly",
          "traceback": [
            "\u001b[0;31m---------------------------------------------------------------------------\u001b[0m",
            "\u001b[0;31mTypeError\u001b[0m                                 Traceback (most recent call last)",
            "\u001b[0;32m<ipython-input-127-56dd0f5596c8>\u001b[0m in \u001b[0;36m<module>\u001b[0;34m()\u001b[0m\n\u001b[0;32m----> 1\u001b[0;31m \u001b[0msay_hello_to\u001b[0m\u001b[0;34m(\u001b[0m\u001b[0;36m10\u001b[0m\u001b[0;34m)\u001b[0m\u001b[0;34m\u001b[0m\u001b[0m\n\u001b[0m",
            "\u001b[0;32m<ipython-input-125-a444b0f12be2>\u001b[0m in \u001b[0;36msay_hello_to\u001b[0;34m(name)\u001b[0m\n\u001b[1;32m      2\u001b[0m \u001b[0;32mdef\u001b[0m \u001b[0msay_hello_to\u001b[0m\u001b[0;34m(\u001b[0m\u001b[0mname\u001b[0m\u001b[0;34m)\u001b[0m\u001b[0;34m:\u001b[0m\u001b[0;34m\u001b[0m\u001b[0m\n\u001b[1;32m      3\u001b[0m     \u001b[0;34m\"\"\"Return a greeting to `name`\"\"\"\u001b[0m\u001b[0;34m\u001b[0m\u001b[0m\n\u001b[0;32m----> 4\u001b[0;31m     \u001b[0;32mreturn\u001b[0m \u001b[0;34m'Hello '\u001b[0m \u001b[0;34m+\u001b[0m \u001b[0mname\u001b[0m\u001b[0;34m\u001b[0m\u001b[0m\n\u001b[0m",
            "\u001b[0;31mTypeError\u001b[0m: Can't convert 'int' object to str implicitly"
          ]
        }
      ]
    },
    {
      "cell_type": "code",
      "metadata": {
        "collapsed": true,
        "id": "msGrs7mBNh2x",
        "colab_type": "code",
        "colab": {}
      },
      "source": [
        "# redefine the function\n",
        "def say_hello_to(name):\n",
        "    \"\"\"Return a greeting to `name`\"\"\"\n",
        "    return 'Hello ' + str(name)"
      ],
      "execution_count": 0,
      "outputs": []
    },
    {
      "cell_type": "code",
      "metadata": {
        "id": "lywPAvDWNh2y",
        "colab_type": "code",
        "colab": {},
        "outputId": "0de9fed9-df67-4185-9133-ddc798af79b8"
      },
      "source": [
        "say_hello_to(10)"
      ],
      "execution_count": 0,
      "outputs": [
        {
          "output_type": "execute_result",
          "data": {
            "text/plain": [
              "'Hello 10'"
            ]
          },
          "metadata": {
            "tags": []
          },
          "execution_count": 132
        }
      ]
    },
    {
      "cell_type": "code",
      "metadata": {
        "id": "bHleMq9DNh20",
        "colab_type": "code",
        "colab": {}
      },
      "source": [
        "# take an optional keyword argument\n",
        "def say_hello_or_hola(name, spanish=False):\n",
        "    \"\"\"Say hello in multiple languages.\"\"\"\n",
        "    if spanish:\n",
        "        greeting = 'Hola '\n",
        "    else:\n",
        "        greeting = 'Hello '\n",
        "    return greeting + name"
      ],
      "execution_count": 0,
      "outputs": []
    },
    {
      "cell_type": "code",
      "metadata": {
        "id": "cFoZ-6I2Nh21",
        "colab_type": "code",
        "colab": {},
        "outputId": "6a146b22-dda7-446d-a585-ae5d3829ff29"
      },
      "source": [
        "print(say_hello_or_hola('Ryan'))\n",
        "print(say_hello_or_hola('Juan', spanish=True))\n"
      ],
      "execution_count": 0,
      "outputs": [
        {
          "output_type": "stream",
          "text": [
            "Hello Ryan\n",
            "Hola Juan\n"
          ],
          "name": "stdout"
        }
      ]
    },
    {
      "cell_type": "code",
      "metadata": {
        "collapsed": true,
        "id": "Jf8GRn0FNh23",
        "colab_type": "code",
        "colab": {}
      },
      "source": [
        "# flexible number of arguments\n",
        "def say_hello_to_everyone(*args):\n",
        "    return ['hello ' + str(a) for a in args]"
      ],
      "execution_count": 0,
      "outputs": []
    },
    {
      "cell_type": "code",
      "metadata": {
        "id": "g8B56HG8Nh26",
        "colab_type": "code",
        "colab": {},
        "outputId": "d0f9a05c-d5b2-42b1-b0b7-1b4b45fcd3b7"
      },
      "source": [
        "say_hello_to_everyone('Ryan', 'Juan', 'Takaya')"
      ],
      "execution_count": 0,
      "outputs": [
        {
          "output_type": "execute_result",
          "data": {
            "text/plain": [
              "['hello Ryan', 'hello Juan', 'hello Takaya']"
            ]
          },
          "metadata": {
            "tags": []
          },
          "execution_count": 137
        }
      ]
    },
    {
      "cell_type": "markdown",
      "metadata": {
        "id": "F--rYGF6Nh27",
        "colab_type": "text"
      },
      "source": [
        "We could spend the rest of the day talking about functions, but we have to move on."
      ]
    },
    {
      "cell_type": "markdown",
      "metadata": {
        "id": "sIIniFedNh28",
        "colab_type": "text"
      },
      "source": [
        "# Individual Exercises #"
      ]
    },
    {
      "cell_type": "markdown",
      "metadata": {
        "id": "2_qV9ElyNh28",
        "colab_type": "text"
      },
      "source": [
        "## Fibonacci Sequence ##\n",
        "\n",
        "The Fibonacci sequence is the 1,1,2,3,5,8..., the sum of each number with the preceding one. Write a function to compute the Fibonacci sequence of length n. (Hint, use some list methods.)"
      ]
    },
    {
      "cell_type": "code",
      "metadata": {
        "collapsed": true,
        "id": "HELupPD7Nh28",
        "colab_type": "code",
        "colab": {}
      },
      "source": [
        "def fib(n):\n",
        "    l = [1,1]\n",
        "    for i in range(n-2):\n",
        "        l.append(l[-1] + l[-2])\n",
        "    return l"
      ],
      "execution_count": 0,
      "outputs": []
    },
    {
      "cell_type": "code",
      "metadata": {
        "id": "HO2qt2G3Nh29",
        "colab_type": "code",
        "colab": {},
        "outputId": "a14a25ee-508a-44c9-b3c9-23922228aa23"
      },
      "source": [
        "fib(10)"
      ],
      "execution_count": 0,
      "outputs": [
        {
          "output_type": "execute_result",
          "data": {
            "text/plain": [
              "[1, 1, 2, 3, 5, 8, 13, 21, 34, 55]"
            ]
          },
          "metadata": {
            "tags": []
          },
          "execution_count": 145
        }
      ]
    },
    {
      "cell_type": "markdown",
      "metadata": {
        "id": "HbYqmLToNh2_",
        "colab_type": "text"
      },
      "source": [
        "## Add and Multiply Lists Item by Item ##\n",
        "\n",
        "Write functions to add and multiply each item in a list."
      ]
    },
    {
      "cell_type": "code",
      "metadata": {
        "collapsed": true,
        "id": "Y7edFg8XNh2_",
        "colab_type": "code",
        "colab": {}
      },
      "source": [
        "def add(x,y):\n",
        "    return [a + b for a,b in zip(x,y)]\n",
        "\n",
        "def multiply(x,y):\n",
        "    return [a * b for a,b in zip(x,y)]"
      ],
      "execution_count": 0,
      "outputs": []
    },
    {
      "cell_type": "code",
      "metadata": {
        "id": "27ie-WNUNh3B",
        "colab_type": "code",
        "colab": {},
        "outputId": "cc12d267-3c8e-4abd-f81b-9f02cbb5a50d"
      },
      "source": [
        "add(range(10), range(10))"
      ],
      "execution_count": 0,
      "outputs": [
        {
          "output_type": "execute_result",
          "data": {
            "text/plain": [
              "[0, 2, 4, 6, 8, 10, 12, 14, 16, 18]"
            ]
          },
          "metadata": {
            "tags": []
          },
          "execution_count": 147
        }
      ]
    },
    {
      "cell_type": "code",
      "metadata": {
        "id": "smEJWkoZNh3D",
        "colab_type": "code",
        "colab": {},
        "outputId": "d66dfd54-a186-4a29-b90f-6096145bef1a"
      },
      "source": [
        "multiply(range(5), [9,3,2,5,3])"
      ],
      "execution_count": 0,
      "outputs": [
        {
          "output_type": "execute_result",
          "data": {
            "text/plain": [
              "[0, 3, 4, 15, 12]"
            ]
          },
          "metadata": {
            "tags": []
          },
          "execution_count": 148
        }
      ]
    },
    {
      "cell_type": "code",
      "metadata": {
        "id": "sBFIk07oNh3F",
        "colab_type": "code",
        "colab": {},
        "outputId": "d0d97573-88a9-402c-984e-e969631ceda6"
      },
      "source": [
        "N = 100000\n",
        "%timeit multiply(range(N), range(N))"
      ],
      "execution_count": 0,
      "outputs": [
        {
          "output_type": "stream",
          "text": [
            "100 loops, best of 3: 12.7 ms per loop\n"
          ],
          "name": "stdout"
        }
      ]
    },
    {
      "cell_type": "code",
      "metadata": {
        "id": "RFSeAHKgNh3H",
        "colab_type": "code",
        "colab": {},
        "outputId": "5025a121-9bc3-4fdc-bfc1-354403dcaf55"
      },
      "source": [
        "import numpy as np\n",
        "%timeit np.arange(N) * np.arange(N)"
      ],
      "execution_count": 0,
      "outputs": [
        {
          "output_type": "stream",
          "text": [
            "The slowest run took 7.60 times longer than the fastest. This could mean that an intermediate result is being cached \n",
            "10000 loops, best of 3: 173 µs per loop\n"
          ],
          "name": "stdout"
        }
      ]
    },
    {
      "cell_type": "markdown",
      "metadata": {
        "id": "StJiUgLTNh3I",
        "colab_type": "text"
      },
      "source": [
        "On to numpy"
      ]
    },
    {
      "cell_type": "code",
      "metadata": {
        "collapsed": true,
        "id": "CnA7Bh8ZNh3I",
        "colab_type": "code",
        "colab": {}
      },
      "source": [
        ""
      ],
      "execution_count": 0,
      "outputs": []
    }
  ]
}